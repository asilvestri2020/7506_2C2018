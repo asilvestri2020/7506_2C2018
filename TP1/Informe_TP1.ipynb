{
 "cells": [
  {
   "cell_type": "markdown",
   "metadata": {},
   "source": [
    "## ======================================================================\n",
    "\n",
    "# 75.06/95.58 Organización de Datos\n",
    "\n",
    "# Primer Cuatrimestre de 2018\n",
    "\n",
    "# Trabajo Práctico 1: Análisis Exploratorio\n",
    "\n",
    "## Integrantes:\n",
    "\n",
    "<ul>\n",
    "    <li>Andrés Silvestri: COMPLETAR</li>\n",
    "    <li>Axel Brian Erlich: 94847</li>\n",
    "    <li>Juan Manuel Gonzalez: 79979</li>\n",
    "</ul>\n",
    "\n",
    "\n",
    "## ======================================================================\n",
    "\n",
    "\n",
    "# Introducción\n",
    "\n",
    "Este trabajo está enfocado en hacer un primer análisis de los datos ofrecidos por trocafone, de manera que encontremos particularidades que puedan ser de interés para dicha entidad.\n",
    "\n",
    "Siendo este el caso, lo primero que vamos a hacer es interiorizarnos de uno de los pilares que tiene la ciencia de datos, el negocio.\n",
    "\n",
    "\n",
    "# ¿De qué se encarga Trocafone?\n",
    "\n",
    "Trocafone es esencialmente una plataforma de comercio online para comprar y vender celulares usados de forma segura, con la garantía de que trocafone se encarga de validar la procedencia de los aparatos y de garantizar el correcto funcionamiento de los mismos.\n",
    "En este caso, tracafone nos falicilo un set de datos que contiene distintos tipos de eventos que se registran en el sitio, ya sea visitas, compras u otros tipos de eventos que se detallaran luego"
   ]
  },
  {
   "cell_type": "markdown",
   "metadata": {},
   "source": [
    "# Organización del Informe:\n",
    "\n",
    "A continuación la forma en la que esta dividido el informe que llevaremos a cabo.\n",
    "Lo primero será el armado, formateado y limpieza de los datos, luego haremos análisis general para entender un poco mas el negocio. Finalmente se hara un analisis un poco mas fino sobre los datos para contestar algunas preguntas que podrían llegar a interesar.\n",
    "\n",
    "\n",
    "## 1 - Importación y estructura de los datos:\n",
    "\n",
    "    1.1 - Configuración básica y obtención de los datasets.\n",
    "    1.2 - Procesamiento general de las información y armado básico.\n",
    "    1.3 - Resumen y cuestiones a tener en cuenta sobre el informe."
   ]
  },
  {
   "cell_type": "markdown",
   "metadata": {},
   "source": [
    "# 1 - Importación y estructura de los datos:\n",
    "\n",
    "## 1.1 - Configuración básica y obtención de los datasets."
   ]
  },
  {
   "cell_type": "code",
   "execution_count": 1,
   "metadata": {},
   "outputs": [],
   "source": [
    "## IMPORTACIÓN GENERAL DE LIBRERIAS Y VISUALIZACIÓN DE DATOS (matplotlib y seaborn)\n",
    "import pandas as pd\n",
    "import numpy as np\n",
    "import matplotlib.pyplot as plt\n",
    "import seaborn as sns\n",
    "import datetime as DT\n",
    "import warnings\n",
    "%matplotlib inline\n",
    "warnings.filterwarnings('ignore')\n",
    "plt.style.use('default') \n",
    "sns.set(style=\"whitegrid\") \n",
    "plt.rcParams['figure.figsize'] = (15, 10)\n",
    "pd.set_option('display.max_columns', 50)"
   ]
  },
  {
   "cell_type": "code",
   "execution_count": 2,
   "metadata": {},
   "outputs": [],
   "source": [
    "## OBTENEMOS TODA LA INFORMACIÓN DE LOS DIFERENTES CSV.\n",
    "eventos = pd.read_csv('events.csv')"
   ]
  },
  {
   "cell_type": "code",
   "execution_count": 15,
   "metadata": {},
   "outputs": [],
   "source": [
    "## ACA PASAMOS LAS COLUMNAS QUE TIENEN UNA CANTIDAD DE VALORES LIMITADA A UN TIPO CATEGORY\n",
    "eventos['event'] = eventos['event'].astype('category')\n",
    "eventos['condition'] = eventos['condition'].astype('category')\n",
    "eventos['storage'] = eventos['storage'].astype('category')\n",
    "eventos['search_engine'] = eventos['search_engine'].astype('category')\n",
    "eventos['channel'] = eventos['channel'].astype('category')\n",
    "eventos['new_vs_returning'] = eventos['new_vs_returning'].astype('category')\n",
    "eventos['device_type'] = eventos['device_type'].astype('category')\n",
    "eventos['timestamp'] = pd.to_datetime(eventos['timestamp'], infer_datetime_format=True)"
   ]
  },
  {
   "cell_type": "markdown",
   "metadata": {},
   "source": [
    "## ======================================================================\n",
    "\n",
    "## 1.2 - Procesamiento general de las información y armado básico.\n",
    "\n",
    "Una vista a alto nivel de los datos y algunos tratamientos para mejorar la permormance de ejecucion sobre el set de datos.\n",
    "\n",
    "\n",
    "## ======================================================================\n"
   ]
  },
  {
   "cell_type": "markdown",
   "metadata": {},
   "source": [
    "\n",
    "### 1.2.1 - Eventos: \n",
    "\n",
    "Este set de datos esta basado en los eventos que se van registrando en la web, a continuacion se enumeran segun su frecuencia, ver enuncia de tp para una breve explicacion sobre cada uno."
   ]
  },
  {
   "cell_type": "code",
   "execution_count": 24,
   "metadata": {},
   "outputs": [
    {
     "data": {
      "image/png": "[encoded data removed]",
      "text/plain": [
       "<Figure size 432x288 with 1 Axes>"
      ]
     },
     "metadata": {},
     "output_type": "display_data"
    }
   ],
   "source": [
    "## CONTAMOS LAS APARICIONES DE CADA EVENTO.\n",
    "eventos_frecuencia = eventos['event'].value_counts()\n",
    "g = sns.barplot(x=eventos_frecuencia.values, y=eventos_frecuencia.index)\n",
    "g.set_title(\"Eventos\", fontsize=25)\n",
    "g.set_xlabel(\"Cantidad\", fontsize=15)\n",
    "g.set_ylabel(\"Tipos de eventos\", fontsize=15)\n",
    "g.set_xscale('log')"
   ]
  },
  {
   "cell_type": "markdown",
   "metadata": {},
   "source": [
    "### 1.2.2 - Sistemas operativos: \n"
   ]
  },
  {
   "cell_type": "code",
   "execution_count": null,
   "metadata": {},
   "outputs": [],
   "source": []
  },
  {
   "cell_type": "code",
   "execution_count": null,
   "metadata": {},
   "outputs": [],
   "source": []
  },
  {
   "cell_type": "markdown",
   "metadata": {},
   "source": [
    "## ======================================================================\n",
    "\n",
    "## 1.3 - Resumen y cuestiones a tener en cuenta sobre el informe.\n",
    "\n",
    "COMPLETAR\n",
    "\n",
    "## ======================================================================"
   ]
  },
  {
   "cell_type": "code",
   "execution_count": null,
   "metadata": {},
   "outputs": [],
   "source": []
  },
  {
   "cell_type": "code",
   "execution_count": null,
   "metadata": {},
   "outputs": [],
   "source": []
  },
  {
   "cell_type": "code",
   "execution_count": null,
   "metadata": {},
   "outputs": [],
   "source": []
  },
  {
   "cell_type": "code",
   "execution_count": null,
   "metadata": {},
   "outputs": [],
   "source": []
  },
  {
   "cell_type": "code",
   "execution_count": null,
   "metadata": {},
   "outputs": [],
   "source": []
  },
  {
   "cell_type": "code",
   "execution_count": null,
   "metadata": {},
   "outputs": [],
   "source": []
  },
  {
   "cell_type": "code",
   "execution_count": null,
   "metadata": {},
   "outputs": [],
   "source": []
  }
 ],
 "metadata": {
  "kernelspec": {
   "display_name": "Python 3",
   "language": "python",
   "name": "python3"
  },
  "language_info": {
   "codemirror_mode": {
    "name": "ipython",
    "version": 3
   },
   "file_extension": ".py",
   "mimetype": "text/x-python",
   "name": "python",
   "nbconvert_exporter": "python",
   "pygments_lexer": "ipython3",
   "version": "3.6.5"
  }
 },
 "nbformat": 4,
 "nbformat_minor": 2
}
