{
 "cells": [
  {
   "cell_type": "code",
   "execution_count": 1,
   "metadata": {},
   "outputs": [],
   "source": [
    "## IMPORTACIÓN GENERAL DE LIBRERIAS Y VISUALIZACIÓN DE DATOS (matplotlib y seaborn)\n",
    "import pandas as pd\n",
    "import numpy as np\n",
    "import matplotlib.pyplot as plt\n",
    "import seaborn as sns\n",
    "import datetime as DT\n",
    "import warnings\n",
    "%matplotlib inline\n",
    "warnings.filterwarnings('ignore')\n",
    "plt.style.use('default') \n",
    "sns.set(style=\"whitegrid\") \n",
    "plt.rcParams['figure.figsize'] = (15, 10)\n",
    "pd.set_option('display.max_columns', 50)"
   ]
  },
  {
   "cell_type": "code",
   "execution_count": 2,
   "metadata": {},
   "outputs": [],
   "source": [
    "## OBTENEMOS TODA LA INFORMACIÓN DE LOS DIFERENTES CSV.\n",
    "eventos = pd.read_csv('events.csv')"
   ]
  },
  {
   "cell_type": "code",
   "execution_count": 3,
   "metadata": {},
   "outputs": [],
   "source": [
    "## CREAMOS UNA COLUMNA CON CONTENIDO VACIO.\n",
    "eventos['sistema'] = ''"
   ]
  },
  {
   "cell_type": "code",
   "execution_count": 4,
   "metadata": {},
   "outputs": [],
   "source": [
    "## SEGÚN QUE FAMILIA DE SO POSEA ACTUALIZAMOS NUESTRA NUEVA COLUMNA.\n",
    "eventos.loc[eventos.operating_system_version.str.contains('Mac', na=False), 'sistema'] = 'MacOS'\n",
    "eventos.loc[eventos.operating_system_version.str.contains('iOS', na=False), 'sistema'] = 'iOS'\n",
    "eventos.loc[eventos.operating_system_version.str.contains('Chrome', na=False), 'sistema'] = 'Chrome'\n",
    "eventos.loc[eventos.operating_system_version.str.contains('Tizen', na=False), 'sistema'] = 'Tizen'\n",
    "eventos.loc[eventos.operating_system_version.str.contains('Android', na=False), 'sistema'] = 'Android'\n",
    "eventos.loc[eventos.operating_system_version.str.contains('Windows Phone', na=False), 'sistema'] = 'Windows Phone'\n",
    "eventos.loc[eventos.operating_system_version.str.contains('Ubuntu', na=False), 'sistema'] = 'Ubuntu'\n",
    "eventos.loc[eventos.operating_system_version.str.contains('Linux', na=False), 'sistema'] = 'Linux'\n",
    "## CASO PARTICULAR, WINDOWS Y WINDOWS PHONE COMPARTEN LA PALABRA.\n",
    "eventos.loc[(eventos.operating_system_version.str.contains('Windows', na=False) & ~eventos.operating_system_version.str.contains('Phone', na=False)), 'sistema'] = 'Windows'"
   ]
  },
  {
   "cell_type": "code",
   "execution_count": 5,
   "metadata": {},
   "outputs": [
    {
     "data": {
      "text/plain": [
       "Other     48\n",
       "Name: operating_system_version, dtype: int64"
      ]
     },
     "execution_count": 5,
     "metadata": {},
     "output_type": "execute_result"
    }
   ],
   "source": [
    "## QUEREMOS VER PARA AQUELLOS SISTEMAS NO CONOCIDOS, QUE INFORMACIÓN HAY.\n",
    "eventos_sistemasRaros = eventos.loc[eventos.sistema == '',:]\n",
    "eventos_sistemasRaros['operating_system_version'].value_counts()\n",
    "## EL RESULTADO NOS DICE QUE HAY CASI UN MILLÓN DE NULOS Y MUY POCOS CON EL NOMBRE OTHERS (DESPRECIABLE)"
   ]
  },
  {
   "cell_type": "code",
   "execution_count": 6,
   "metadata": {},
   "outputs": [],
   "source": [
    "## SOLO NOS QUEDAMOS CON AQUELLAS FILAS QUE TIENEN VALOR.\n",
    "sistemas = eventos.loc[eventos['sistema'] != '']\n",
    "## GUARDAMOS LAS APARICIONES AGRUPADAS.\n",
    "sistemas = sistemas['sistema'].value_counts()"
   ]
  },
  {
   "cell_type": "code",
   "execution_count": 7,
   "metadata": {},
   "outputs": [
    {
     "data": {
      "text/plain": [
       "Text(0,0.5,'Familia del Sistema Operativo')"
      ]
     },
     "execution_count": 7,
     "metadata": {},
     "output_type": "execute_result"
    },
    {
     "data": {
      "image/png": "[encoded data removed]",
      "text/plain": [
       "<Figure size 432x288 with 1 Axes>"
      ]
     },
     "metadata": {},
     "output_type": "display_data"
    }
   ],
   "source": [
    "## AHORA MOSTRAMOS UN PRIMER GRÁFICO.\n",
    "g = sns.barplot(x=sistemas.head(6).values, y=sistemas.head(6).index, orient='h')\n",
    "g.set_title(\"Familias de Sistemas Operativos\", fontsize=20)\n",
    "g.set_xlabel(\"Cantidad de Equipos\", fontsize=15)\n",
    "g.set_ylabel(\"Familia del Sistema Operativo\", fontsize=15)"
   ]
  },
  {
   "cell_type": "code",
   "execution_count": 8,
   "metadata": {},
   "outputs": [],
   "source": [
    "## ACA PASAMOS LAS COLUMNAS QUE TIENEN UNA CANTIDAD DE VALORES LIMITADA A UN TIPO CATEGORY\n",
    "eventos['event'] = eventos['event'].astype('category')\n",
    "eventos['condition'] = eventos['condition'].astype('category')\n",
    "eventos['storage'] = eventos['storage'].astype('category')\n",
    "eventos['search_engine'] = eventos['search_engine'].astype('category')\n",
    "eventos['channel'] = eventos['channel'].astype('category')\n",
    "eventos['new_vs_returning'] = eventos['new_vs_returning'].astype('category')\n",
    "eventos['device_type'] = eventos['device_type'].astype('category')\n",
    "eventos['sistema'] = eventos['sistema'].astype('category')\n",
    "eventos['timestamp'] = pd.to_datetime(eventos['timestamp'], infer_datetime_format=True)"
   ]
  },
  {
   "cell_type": "markdown",
   "metadata": {},
   "source": [
    "<h2>\n",
    "    Preguntas para contestar sobre el set de datos: \n",
    "    <br/>\n",
    "    (Despues discutimos cuales ponemos y cuales sacamos, pero la idea es ir poniendo preguntas interesantes aca)\n",
    "</h2>\n",
    "<ul>\n",
    "    <li><h5>Como evoluciono las visitas al sitio, las campañas tuvieron algo que ver? (FALTA GRAFICO)</h5></li>\n",
    "    <li><h5>Que proporcion de usuarios regresan al sitio luego de visitarlo por primera vez?</h5></li>\n",
    "    <li><h5>Cuales son las marcas y modelos más visitados/comprados?</h5>\n",
    "    <li><h5>Si un usuario marco como lead en un producto, ver cuantas veces termina comprandolo.</h5></li>\n",
    "</ul>\n"
   ]
  },
  {
   "cell_type": "markdown",
   "metadata": {},
   "source": [
    "## Cosas a tener en cuenta:\n",
    "\n",
    "### Actividad del usuario.\n",
    "Se puede ver que en primer instancia cada usuario tiene varios eventos, que en un lapso de tiempo realiza una actividad (conjunto continuo de eventos), pero hay que tener en cuenta que puede ingresar otro día o en otro momento dentro del mismo día realizando otra actividad.\n",
    "\n",
    "### Columnas acordes a los eventos.\n",
    "Según el tipo de evento hay columnas que se usan y columnas que no, las cuales hay que tener en cuenta a la hora de hacer trabajos sobre ese tipo de evento.\n",
    "\n",
    "### TIempo de permanencia en el sitio.\n",
    "Cuando tengamos armadas las actividades de cada usuario, podremos por ejemplo discernir un tiempo promedio de estadía en el sitio web (tiempo de navegación de las actividades), también vale aclarar que llegado a este punto podemos por ejemplo entrar a hacer vinculaciones con la ciudad, tipo de dispositivo, y similares, por ejemplo tomando las ciudades con más actividades como varían sus tiempos de estadía en el sitio o algo por el estilo.rafi\n",
    "\n",
    "### Graficos generales.\n",
    "Hay ciertos gráficos, como el de las familias de SO que son bastantes básicos, pero que a mi entender tendrían que estar como para mostrar un análisis general (muy por arriba), pero que agrega contenido y un análisis básico, para luego pegar el salto e ir por gráficos un poco más complejos.\n",
    "\n",
    "### Campañas y modelos.\n",
    "Entiendo que aprovechando el evento de la campaña (usuarios que ingresaron por una campaña publicitaria) podremos saber cuales son los modelos (probablemente los más nuevos) que mas ventas tuvieron en base a las campañas ṕublicitarias, lo que nos podría brindar una información sobre que empresas están haciendo bien las cosas a nivel marketing."
   ]
  },
  {
   "cell_type": "code",
   "execution_count": 9,
   "metadata": {},
   "outputs": [],
   "source": [
    "# primero obtengo aquellos registros que me indican una visita a la pagina principal del sitio\n",
    "genericListing = eventos.loc[eventos['event'] == 'generic listing']\n",
    "adCampain = eventos.loc[eventos['event'] == 'ad campaign hit']\n",
    "# Miro la evolucion en la cantidad de visitas a productos en el año 2018\n",
    "vistas_a_home_por_mes = genericListing.groupby(genericListing['timestamp'].dt.strftime('%B'))['event'].count()\n",
    "vistas_a_home_por_mes_campaña = adCampain.groupby(adCampain['timestamp'].dt.strftime('%B'))['event'].count()\n"
   ]
  },
  {
   "cell_type": "code",
   "execution_count": 10,
   "metadata": {},
   "outputs": [],
   "source": [
    "# HAGO LINEPLOTS COMPARATIVOS\n",
    "\n",
    "#vistas_a_prod_por_mes.sort_values().head()\n",
    "#sns.lineplot(x=\"meses\", y=\"cantidad\",\n",
    " #            hue=\"region\", style=\"event\",\n",
    "  #           data=vistas_a_prod_por_mes)\n",
    "\n"
   ]
  },
  {
   "cell_type": "code",
   "execution_count": 11,
   "metadata": {},
   "outputs": [
    {
     "data": {
      "text/plain": [
       "google              58153\n",
       "criteo               9694\n",
       "rtbhouse             8550\n",
       "zanox                1673\n",
       "emblue               1352\n",
       "FacebookAds           764\n",
       "afilio                692\n",
       "bing                  484\n",
       "voxus                 432\n",
       "rakuten               310\n",
       "indexa                154\n",
       "buscape               141\n",
       "manifest              126\n",
       "Facebook               77\n",
       "datacrush              60\n",
       "blog                   37\n",
       "afiliado               34\n",
       "yotpo                  25\n",
       "mercadopago            18\n",
       "FacebookSocial          8\n",
       "MARKETING SOCIAL        7\n",
       "onsite                  3\n",
       "socialmedia             1\n",
       "Google Social           1\n",
       "Name: campaign_source, dtype: int64"
      ]
     },
     "execution_count": 11,
     "metadata": {},
     "output_type": "execute_result"
    }
   ],
   "source": [
    "eventos.campaign_source.value_counts()"
   ]
  },
  {
   "cell_type": "code",
   "execution_count": null,
   "metadata": {},
   "outputs": [],
   "source": []
  },
  {
   "cell_type": "code",
   "execution_count": null,
   "metadata": {},
   "outputs": [],
   "source": []
  },
  {
   "cell_type": "code",
   "execution_count": null,
   "metadata": {},
   "outputs": [],
   "source": []
  },
  {
   "cell_type": "code",
   "execution_count": null,
   "metadata": {},
   "outputs": [],
   "source": []
  },
  {
   "cell_type": "code",
   "execution_count": null,
   "metadata": {},
   "outputs": [],
   "source": []
  },
  {
   "cell_type": "code",
   "execution_count": null,
   "metadata": {},
   "outputs": [],
   "source": []
  },
  {
   "cell_type": "code",
   "execution_count": null,
   "metadata": {},
   "outputs": [],
   "source": []
  },
  {
   "cell_type": "code",
   "execution_count": null,
   "metadata": {},
   "outputs": [],
   "source": []
  },
  {
   "cell_type": "code",
   "execution_count": null,
   "metadata": {},
   "outputs": [],
   "source": []
  },
  {
   "cell_type": "code",
   "execution_count": null,
   "metadata": {},
   "outputs": [],
   "source": []
  },
  {
   "cell_type": "code",
   "execution_count": null,
   "metadata": {},
   "outputs": [],
   "source": []
  }
 ],
 "metadata": {
  "kernelspec": {
   "display_name": "Python 3",
   "language": "python",
   "name": "python3"
  },
  "language_info": {
   "codemirror_mode": {
    "name": "ipython",
    "version": 3
   },
   "file_extension": ".py",
   "mimetype": "text/x-python",
   "name": "python",
   "nbconvert_exporter": "python",
   "pygments_lexer": "ipython3",
   "version": "3.6.5"
  }
 },
 "nbformat": 4,
 "nbformat_minor": 2
}
