{
 "cells": [
  {
   "cell_type": "code",
   "execution_count": 1,
   "metadata": {},
   "outputs": [],
   "source": [
    "## IMPORTACIÓN GENERAL DE LIBRERIAS Y VISUALIZACIÓN DE DATOS (matplotlib y seaborn)\n",
    "import pandas as pd\n",
    "import numpy as np\n",
    "import matplotlib.pyplot as plt\n",
    "import seaborn as sns\n",
    "import datetime as DT\n",
    "import warnings\n",
    "%matplotlib inline\n",
    "warnings.filterwarnings('ignore')\n",
    "plt.style.use('default') \n",
    "sns.set(style=\"whitegrid\") \n",
    "plt.rcParams['figure.figsize'] = (15, 10)\n",
    "from sklearn.model_selection import train_test_split\n",
    "from sklearn.naive_bayes import GaussianNB, BernoulliNB, MultinomialNB"
   ]
  },
  {
   "cell_type": "code",
   "execution_count": 2,
   "metadata": {},
   "outputs": [],
   "source": [
    "educacion_1 = ''\n",
    "edad_genero_1 = ''\n",
    "vistas_avisos_1 = ''\n",
    "postulaciones_1 = ''\n",
    "avisos_online_1 = ''\n",
    "avisos_detalle_1 = ''\n",
    "\n",
    "educacion_2 = ''\n",
    "edad_genero_2 = ''\n",
    "vistas_avisos_2 = ''\n",
    "postulaciones_2 = ''\n",
    "avisos_online_2 = ''\n",
    "avisos_detalle_2 = ''\n",
    "\n",
    "educacion_3 = ''\n",
    "edad_genero_3 = ''\n",
    "vistas_avisos_3 = ''\n",
    "avisos_detalle_3 = ''\n",
    "\n",
    "avisos_detalle_4 = ''"
   ]
  },
  {
   "cell_type": "code",
   "execution_count": 3,
   "metadata": {},
   "outputs": [],
   "source": [
    "postulantes = ''\n",
    "educacion = ''\n",
    "edad_genero = ''\n",
    "vistas_avisos = ''\n",
    "postulaciones = ''\n",
    "avisos_online = ''\n",
    "avisos_detalle = ''\n",
    "vistas_avisos = ''\n",
    "test_final = ''"
   ]
  },
  {
   "cell_type": "markdown",
   "metadata": {},
   "source": [
    "#### ========================================================\n",
    "#### Procesamos los primeros archivos .CSV provistos por navent.\n",
    "#### ========================================================"
   ]
  },
  {
   "cell_type": "code",
   "execution_count": null,
   "metadata": {},
   "outputs": [],
   "source": [
    "#########################################################################################################################\n",
    "#########################################################################################################################\n",
    "### POSTULANTES. ###\n",
    "#########################################################################################################################\n",
    "#########################################################################################################################"
   ]
  },
  {
   "cell_type": "code",
   "execution_count": 3,
   "metadata": {},
   "outputs": [],
   "source": [
    "## OBTENEMOS TODA LA INFORMACIÓN DE: ( fiuba_1_postulantes_educacion )\n",
    "educacion_1 = pd.read_csv('navent_fiuba_1/fiuba_1_postulantes_educacion.csv') ## memory usage: 46.0 MB\n",
    "educacion_2 = pd.read_csv('navent_fiuba_2/fiuba_1_postulantes_educacion.csv') ## memory usage: 62.9 MB\n",
    "educacion_3 = pd.read_csv('navent_fiuba_3/fiuba_1_postulantes_educacion.csv') ## memory usage: 61.3 MB"
   ]
  },
  {
   "cell_type": "code",
   "execution_count": 4,
   "metadata": {},
   "outputs": [
    {
     "name": "stdout",
     "output_type": "stream",
     "text": [
      "<class 'pandas.core.frame.DataFrame'>\n",
      "Int64Index: 1103193 entries, 0 to 397508\n",
      "Data columns (total 3 columns):\n",
      "idpostulante    1103193 non-null object\n",
      "nombre          1103193 non-null object\n",
      "estado          1103193 non-null object\n",
      "dtypes: object(3)\n",
      "memory usage: 33.7+ MB\n"
     ]
    }
   ],
   "source": [
    "## UNIFICO TODOS LOS DATAFRAME EN UNO SOLO: ( educacion )\n",
    "educacion = pd.concat([educacion_1, educacion_2, educacion_3])\n",
    "educacion.reset_index()\n",
    "educacion.info()"
   ]
  },
  {
   "cell_type": "code",
   "execution_count": 5,
   "metadata": {},
   "outputs": [],
   "source": [
    "## OBTENEMOS TODA LA INFORMACIÓN DE: ( fiuba_2_postulantes_genero_y_edad )\n",
    "edad_genero_1 = pd.read_csv('navent_fiuba_1/fiuba_2_postulantes_genero_y_edad.csv') ## memory usage: 29.7 MB\n",
    "edad_genero_2 = pd.read_csv('navent_fiuba_2/fiuba_2_postulantes_genero_y_edad.csv') ## memory usage: 43.8 MB\n",
    "edad_genero_3 = pd.read_csv('navent_fiuba_3/fiuba_2_postulantes_genero_y_edad.csv') ## memory usage: 41.5 MB"
   ]
  },
  {
   "cell_type": "code",
   "execution_count": 6,
   "metadata": {},
   "outputs": [
    {
     "name": "stdout",
     "output_type": "stream",
     "text": [
      "<class 'pandas.core.frame.DataFrame'>\n",
      "Int64Index: 780020 entries, 0 to 281384\n",
      "Data columns (total 3 columns):\n",
      "idpostulante       780020 non-null object\n",
      "fechanacimiento    745747 non-null object\n",
      "sexo               780020 non-null object\n",
      "dtypes: object(3)\n",
      "memory usage: 23.8+ MB\n"
     ]
    }
   ],
   "source": [
    "## UNIFICO TODOS LOS DATAFRAME EN UNO SOLO: ( edad_genero )\n",
    "edad_genero = pd.concat([edad_genero_1, edad_genero_2, edad_genero_3])\n",
    "edad_genero.reset_index()\n",
    "edad_genero.info()"
   ]
  },
  {
   "cell_type": "code",
   "execution_count": 7,
   "metadata": {},
   "outputs": [],
   "source": [
    "## UNIFICACIÓN BÁSICA SOBRE LA INFORMACIÓN DE LOS POSTULANTES.\n",
    "postulantes = educacion.merge(edad_genero,left_on='idpostulante', right_on='idpostulante',how='outer')\n",
    "## TRANSFORMAMOS A DATETIME LA FECHA DE NACIMIENTO DE LOS POSTULANTES.\n",
    "postulantes['fechanacimiento'] = pd.to_datetime(postulantes['fechanacimiento'], errors = 'coerce')\n",
    "## CALCULAMOS LA EDAD DE LOS POSTULANTES CON UN VALOR NUMÉRICO.\n",
    "now = pd.Timestamp(DT.datetime.now())\n",
    "postulantes['edad'] = (now - postulantes['fechanacimiento']).astype('<m8[Y]')\n",
    "## SOLO CONSIDERAMOS COMO VÁLIDOS AQUELLOS POSTULANTES DE ENTRE 17 Y 100 AÑOS.\n",
    "postulantes = postulantes[(postulantes['edad'] > 17) & (postulantes['edad'] < 80)]\n",
    "## ANALIZAMOS LOS NIVELES EDUCATIVOS Y UNIFICAMOS CRITERIOS SOBRE ESTOS.\n",
    "postulantes.loc[postulantes.nombre == 'Terciario/Técnico', 'nombre'] = 'Terciario'\n",
    "postulantes.loc[postulantes.nombre == 'Terciario/Tecnico', 'nombre'] = 'Terciario'"
   ]
  },
  {
   "cell_type": "code",
   "execution_count": 8,
   "metadata": {},
   "outputs": [],
   "source": [
    "## ARMAMOS LOS DIFERENTES RANGOS DE EDAD QUE SE PUEDEN IR DANDO ENTRE LOS POSTULANTES.\n",
    "postulantes['rango_edad'] = 1\n",
    "postulantes.loc[postulantes.edad < 20, 'rango_edad'] = 1\n",
    "postulantes.loc[(postulantes.edad >= 20) & (postulantes.edad <= 24), 'rango_edad'] = 2\n",
    "postulantes.loc[(postulantes.edad >= 25) & (postulantes.edad <= 29), 'rango_edad'] = 3\n",
    "postulantes.loc[(postulantes.edad >= 30) & (postulantes.edad <= 34), 'rango_edad'] = 4\n",
    "postulantes.loc[(postulantes.edad >= 35) & (postulantes.edad <= 39), 'rango_edad'] = 5\n",
    "postulantes.loc[(postulantes.edad >= 40) & (postulantes.edad <= 44), 'rango_edad'] = 6\n",
    "postulantes.loc[(postulantes.edad >= 45) & (postulantes.edad <= 49), 'rango_edad'] = 7\n",
    "postulantes.loc[(postulantes.edad >= 50) & (postulantes.edad <= 54), 'rango_edad'] = 8\n",
    "postulantes.loc[(postulantes.edad >= 55) & (postulantes.edad <= 59), 'rango_edad'] = 9\n",
    "postulantes.loc[(postulantes.edad >= 60) & (postulantes.edad <= 64), 'rango_edad'] = 10\n",
    "postulantes.loc[postulantes.edad > 65, 'rango_edad'] = 11"
   ]
  },
  {
   "cell_type": "code",
   "execution_count": 9,
   "metadata": {},
   "outputs": [],
   "source": [
    "postulantes.loc[postulantes.sexo == 'FEM', 'sexo'] = 0\n",
    "postulantes.loc[postulantes.sexo == 'MASC', 'sexo'] = 1\n",
    "postulantes.loc[postulantes.sexo == 'NO_DECLARA', 'sexo'] = 2\n",
    "postulantes.loc[postulantes.sexo == '0.0', 'sexo'] = 2"
   ]
  },
  {
   "cell_type": "code",
   "execution_count": 10,
   "metadata": {},
   "outputs": [],
   "source": [
    "postulantes.loc[postulantes.nombre == 'Universitario', 'nombre'] = 0\n",
    "postulantes.loc[postulantes.nombre == 'Secundario', 'nombre'] = 1\n",
    "postulantes.loc[postulantes.nombre == 'Terciario', 'nombre'] = 2\n",
    "postulantes.loc[postulantes.nombre == 'Otro', 'nombre'] = 3\n",
    "postulantes.loc[postulantes.nombre == 'Posgrado', 'nombre'] = 4\n",
    "postulantes.loc[postulantes.nombre == 'Master', 'nombre'] = 5\n",
    "postulantes.loc[postulantes.nombre == 'Doctorado', 'nombre'] = 6"
   ]
  },
  {
   "cell_type": "code",
   "execution_count": 11,
   "metadata": {},
   "outputs": [],
   "source": [
    "postulantes.loc[postulantes.estado == 'Graduado', 'estado'] = 0\n",
    "postulantes.loc[postulantes.estado == 'En Curso', 'estado'] = 1\n",
    "postulantes.loc[postulantes.estado == 'Abandonado', 'estado'] = 2"
   ]
  },
  {
   "cell_type": "code",
   "execution_count": 12,
   "metadata": {},
   "outputs": [],
   "source": [
    "postulantes.loc[postulantes.estado.isnull(), 'estado'] = 3\n",
    "postulantes.loc[postulantes.nombre.isnull(), 'nombre'] = 7"
   ]
  },
  {
   "cell_type": "code",
   "execution_count": 13,
   "metadata": {},
   "outputs": [
    {
     "data": {
      "text/html": [
       "<div>\n",
       "<style scoped>\n",
       "    .dataframe tbody tr th:only-of-type {\n",
       "        vertical-align: middle;\n",
       "    }\n",
       "\n",
       "    .dataframe tbody tr th {\n",
       "        vertical-align: top;\n",
       "    }\n",
       "\n",
       "    .dataframe thead th {\n",
       "        text-align: right;\n",
       "    }\n",
       "</style>\n",
       "<table border=\"1\" class=\"dataframe\">\n",
       "  <thead>\n",
       "    <tr style=\"text-align: right;\">\n",
       "      <th></th>\n",
       "      <th>idpostulante</th>\n",
       "      <th>nombre</th>\n",
       "      <th>estado</th>\n",
       "      <th>fechanacimiento</th>\n",
       "      <th>sexo</th>\n",
       "      <th>edad</th>\n",
       "      <th>rango_edad</th>\n",
       "      <th>mes_nacimiento</th>\n",
       "      <th>anio_nacimiento</th>\n",
       "    </tr>\n",
       "  </thead>\n",
       "  <tbody>\n",
       "    <tr>\n",
       "      <th>0</th>\n",
       "      <td>NdJl</td>\n",
       "      <td>4</td>\n",
       "      <td>1</td>\n",
       "      <td>1969-05-09</td>\n",
       "      <td>1</td>\n",
       "      <td>49.0</td>\n",
       "      <td>7</td>\n",
       "      <td>5</td>\n",
       "      <td>1969</td>\n",
       "    </tr>\n",
       "    <tr>\n",
       "      <th>1</th>\n",
       "      <td>NdJl</td>\n",
       "      <td>4</td>\n",
       "      <td>1</td>\n",
       "      <td>1969-05-09</td>\n",
       "      <td>1</td>\n",
       "      <td>49.0</td>\n",
       "      <td>7</td>\n",
       "      <td>5</td>\n",
       "      <td>1969</td>\n",
       "    </tr>\n",
       "    <tr>\n",
       "      <th>2</th>\n",
       "      <td>NdJl</td>\n",
       "      <td>4</td>\n",
       "      <td>1</td>\n",
       "      <td>1969-05-09</td>\n",
       "      <td>1</td>\n",
       "      <td>49.0</td>\n",
       "      <td>7</td>\n",
       "      <td>5</td>\n",
       "      <td>1969</td>\n",
       "    </tr>\n",
       "    <tr>\n",
       "      <th>3</th>\n",
       "      <td>NdJl</td>\n",
       "      <td>0</td>\n",
       "      <td>0</td>\n",
       "      <td>1969-05-09</td>\n",
       "      <td>1</td>\n",
       "      <td>49.0</td>\n",
       "      <td>7</td>\n",
       "      <td>5</td>\n",
       "      <td>1969</td>\n",
       "    </tr>\n",
       "    <tr>\n",
       "      <th>4</th>\n",
       "      <td>NdJl</td>\n",
       "      <td>0</td>\n",
       "      <td>0</td>\n",
       "      <td>1969-05-09</td>\n",
       "      <td>1</td>\n",
       "      <td>49.0</td>\n",
       "      <td>7</td>\n",
       "      <td>5</td>\n",
       "      <td>1969</td>\n",
       "    </tr>\n",
       "  </tbody>\n",
       "</table>\n",
       "</div>"
      ],
      "text/plain": [
       "  idpostulante  nombre  estado fechanacimiento  sexo  edad  rango_edad  \\\n",
       "0         NdJl       4       1      1969-05-09     1  49.0           7   \n",
       "1         NdJl       4       1      1969-05-09     1  49.0           7   \n",
       "2         NdJl       4       1      1969-05-09     1  49.0           7   \n",
       "3         NdJl       0       0      1969-05-09     1  49.0           7   \n",
       "4         NdJl       0       0      1969-05-09     1  49.0           7   \n",
       "\n",
       "   mes_nacimiento  anio_nacimiento  \n",
       "0               5             1969  \n",
       "1               5             1969  \n",
       "2               5             1969  \n",
       "3               5             1969  \n",
       "4               5             1969  "
      ]
     },
     "execution_count": 13,
     "metadata": {},
     "output_type": "execute_result"
    }
   ],
   "source": [
    "## HACEMOS UNA DIFERENCIA ENTRE LA HORA EN QUE SE LLEVÓ A CABO LA POSTULACION.\n",
    "postulantes['mes_nacimiento'] = postulantes['fechanacimiento'].dt.month\n",
    "postulantes['dia_nacimiento'] = postulantes['fechanacimiento'].dt.day\n",
    "postulantes.head()"
   ]
  },
  {
   "cell_type": "code",
   "execution_count": 14,
   "metadata": {},
   "outputs": [],
   "source": [
    "## PASAMOS TODO A INT8\n",
    "postulantes['nombre'] = postulantes['nombre'].astype(np.int8)\n",
    "postulantes['estado'] = postulantes['estado'].astype(np.int8)\n",
    "postulantes['sexo'] = postulantes['sexo'].astype(np.int8)\n",
    "postulantes['edad'] = postulantes['edad'].astype(np.int8)\n",
    "postulantes['rango_edad'] = postulantes['rango_edad'].astype(np.int8)\n",
    "postulantes['mes_nacimiento'] = postulantes['mes_nacimiento'].astype(np.int8)\n",
    "postulantes['dia_nacimiento'] = postulantes['dia_nacimiento'].astype(np.int8)"
   ]
  },
  {
   "cell_type": "code",
   "execution_count": 16,
   "metadata": {},
   "outputs": [
    {
     "name": "stdout",
     "output_type": "stream",
     "text": [
      "<class 'pandas.core.frame.DataFrame'>\n",
      "Int64Index: 2155822 entries, 0 to 2206434\n",
      "Data columns (total 8 columns):\n",
      "idpostulante       object\n",
      "nombre             int8\n",
      "estado             int8\n",
      "sexo               int8\n",
      "edad               int8\n",
      "rango_edad         int8\n",
      "mes_nacimiento     int8\n",
      "anio_nacimiento    int16\n",
      "dtypes: int16(1), int8(6), object(1)\n",
      "memory usage: 49.3+ MB\n"
     ]
    }
   ],
   "source": [
    "postulantes.drop('fechanacimiento', axis=1, inplace=True)\n",
    "postulantes.drop_duplicates(subset=['idpostulante','nombre','estado'], keep='first', inplace=True)\n",
    "postulantes.info()"
   ]
  },
  {
   "cell_type": "code",
   "execution_count": null,
   "metadata": {},
   "outputs": [],
   "source": [
    "#########################################################################################################################\n",
    "#########################################################################################################################\n",
    "### VISITAS. ###\n",
    "#########################################################################################################################\n",
    "#########################################################################################################################"
   ]
  },
  {
   "cell_type": "code",
   "execution_count": 4,
   "metadata": {},
   "outputs": [
    {
     "name": "stdout",
     "output_type": "stream",
     "text": [
      "<class 'pandas.core.frame.DataFrame'>\n",
      "Int64Index: 18368813 entries, 0 to 11648229\n",
      "Data columns (total 3 columns):\n",
      "idAviso         int64\n",
      "timestamp       object\n",
      "idpostulante    object\n",
      "dtypes: int64(1), object(2)\n",
      "memory usage: 560.6+ MB\n"
     ]
    }
   ],
   "source": [
    "## OBTENEMOS TODA LA INFORMACIÓN DE: ( fiuba_3_vistas )\n",
    "vistas_avisos_1 = pd.read_csv('navent_fiuba_1/fiuba_3_vistas.csv') ## memory usage: 121.8 MB\n",
    "vistas_avisos_2 = pd.read_csv('navent_fiuba_2/fiuba_3_vistas.csv') ## memory usage: 729.3 MB\n",
    "vistas_avisos_3 = pd.read_csv('navent_fiuba_3/fiuba_3_vistas.csv') ## memory usage: 1.4 GB\n",
    "## UNIFICO TODOS LOS DATAFRAME EN UNO SOLO: ( vistas_avisos )\n",
    "vistas_avisos = pd.concat([vistas_avisos_1, vistas_avisos_2, vistas_avisos_3])\n",
    "vistas_avisos.reset_index()\n",
    "vistas_avisos.info()"
   ]
  },
  {
   "cell_type": "code",
   "execution_count": 5,
   "metadata": {},
   "outputs": [
    {
     "name": "stdout",
     "output_type": "stream",
     "text": [
      "<class 'pandas.core.frame.DataFrame'>\n",
      "Int64Index: 16754298 entries, 0 to 11648229\n",
      "Data columns (total 3 columns):\n",
      "idAviso         int64\n",
      "timestamp       datetime64[ns]\n",
      "idpostulante    object\n",
      "dtypes: datetime64[ns](1), int64(1), object(1)\n",
      "memory usage: 511.3+ MB\n"
     ]
    }
   ],
   "source": [
    "## TRANSFORMAMOS A DATETIME LA FECHA DE NACIMIENTO DE LOS POSTULANTES.\n",
    "vistas_avisos['timestamp'] = pd.to_datetime(vistas_avisos['timestamp'], errors = 'coerce')\n",
    "vistas_avisos.drop_duplicates(subset=['idAviso','timestamp','idpostulante'], keep='first', inplace=True)\n",
    "vistas_avisos.info()"
   ]
  },
  {
   "cell_type": "code",
   "execution_count": 6,
   "metadata": {},
   "outputs": [
    {
     "name": "stdout",
     "output_type": "stream",
     "text": [
      "<class 'pandas.core.frame.DataFrame'>\n",
      "Int64Index: 16754298 entries, 0 to 11648229\n",
      "Data columns (total 4 columns):\n",
      "idAviso         int64\n",
      "timestamp       datetime64[ns]\n",
      "idpostulante    object\n",
      "dia_semana      int8\n",
      "dtypes: datetime64[ns](1), int64(1), int8(1), object(1)\n",
      "memory usage: 527.3+ MB\n"
     ]
    }
   ],
   "source": [
    "## HACEMOS UNA DIFERENCIA ENTRE EL DÍA DE LA SEMANA EN EL QUE SE LLEVÓ A CABO LA VISITA.\n",
    "vistas_avisos['dia_semana'] = vistas_avisos['timestamp'].dt.weekday_name\n",
    "vistas_avisos['dia_semana'] = vistas_avisos['dia_semana'].astype('category')\n",
    "vistas_avisos['dia_semana'] = vistas_avisos['dia_semana'].cat.codes\n",
    "vistas_avisos['dia_semana'] = vistas_avisos['dia_semana'].astype(np.int8)\n",
    "vistas_avisos.info()"
   ]
  },
  {
   "cell_type": "code",
   "execution_count": 7,
   "metadata": {},
   "outputs": [
    {
     "name": "stdout",
     "output_type": "stream",
     "text": [
      "<class 'pandas.core.frame.DataFrame'>\n",
      "Int64Index: 16754298 entries, 0 to 11648229\n",
      "Data columns (total 5 columns):\n",
      "idAviso         int64\n",
      "timestamp       datetime64[ns]\n",
      "idpostulante    object\n",
      "dia_semana      int8\n",
      "hora            int8\n",
      "dtypes: datetime64[ns](1), int64(1), int8(2), object(1)\n",
      "memory usage: 543.3+ MB\n"
     ]
    }
   ],
   "source": [
    "## HACEMOS UNA DIFERENCIA ENTRE LA HORA EN QUE SE LLEVÓ A CABO LA POSTUVISITA.\n",
    "vistas_avisos['hora'] = vistas_avisos['timestamp'].dt.hour\n",
    "vistas_avisos['hora'] = vistas_avisos['hora'].astype(np.int8)\n",
    "vistas_avisos.info()"
   ]
  },
  {
   "cell_type": "code",
   "execution_count": 8,
   "metadata": {},
   "outputs": [
    {
     "name": "stdout",
     "output_type": "stream",
     "text": [
      "<class 'pandas.core.frame.DataFrame'>\n",
      "Int64Index: 16754298 entries, 0 to 11648229\n",
      "Data columns (total 4 columns):\n",
      "idAviso         int64\n",
      "idpostulante    object\n",
      "dia_semana      int8\n",
      "hora            int8\n",
      "dtypes: int64(1), int8(2), object(1)\n",
      "memory usage: 415.4+ MB\n"
     ]
    }
   ],
   "source": [
    "## ELIMINAMOS LA COLUMNA DE LA FECHA PRECISA QUE NO NOS BRINDA MAYOR INFORMACION DE LA YA OBTENIDA.\n",
    "vistas_avisos.drop('timestamp', axis=1, inplace=True)\n",
    "vistas_avisos.info()"
   ]
  },
  {
   "cell_type": "code",
   "execution_count": 7,
   "metadata": {},
   "outputs": [
    {
     "ename": "NameError",
     "evalue": "name 'vistas_avisos' is not defined",
     "output_type": "error",
     "traceback": [
      "\u001b[0;31m---------------------------------------------------------------------------\u001b[0m",
      "\u001b[0;31mNameError\u001b[0m                                 Traceback (most recent call last)",
      "\u001b[0;32m<ipython-input-7-969a3b671135>\u001b[0m in \u001b[0;36m<module>\u001b[0;34m()\u001b[0m\n\u001b[0;32m----> 1\u001b[0;31m \u001b[0mvistas_avisos\u001b[0m\u001b[0;34m[\u001b[0m\u001b[0;34m'dia_semana'\u001b[0m\u001b[0;34m]\u001b[0m\u001b[0;34m.\u001b[0m\u001b[0mvalue_counts\u001b[0m\u001b[0;34m(\u001b[0m\u001b[0;34m)\u001b[0m\u001b[0;34m\u001b[0m\u001b[0m\n\u001b[0m",
      "\u001b[0;31mNameError\u001b[0m: name 'vistas_avisos' is not defined"
     ]
    }
   ],
   "source": [
    "vistas_avisos['dia_semana'].value_counts()"
   ]
  },
  {
   "cell_type": "code",
   "execution_count": null,
   "metadata": {},
   "outputs": [],
   "source": [
    "#########################################################################################################################\n",
    "#########################################################################################################################\n",
    "### AVISOS DETALLE. ###\n",
    "#########################################################################################################################\n",
    "#########################################################################################################################"
   ]
  },
  {
   "cell_type": "code",
   "execution_count": 9,
   "metadata": {},
   "outputs": [],
   "source": [
    "## OBTENEMOS TODA LA INFORMACIÓN DE: ( fiuba_5_avisos_online )\n",
    "avisos_online_1 = pd.read_csv('navent_fiuba_1/fiuba_5_avisos_online.csv') ## memory usage: 39.4 KB\n",
    "avisos_online_2 = pd.read_csv('navent_fiuba_2/fiuba_5_avisos_online.csv') ## memory usage: 38.0 KB  "
   ]
  },
  {
   "cell_type": "code",
   "execution_count": 10,
   "metadata": {},
   "outputs": [
    {
     "name": "stdout",
     "output_type": "stream",
     "text": [
      "<class 'pandas.core.frame.DataFrame'>\n",
      "Int64Index: 9886 entries, 0 to 4857\n",
      "Data columns (total 1 columns):\n",
      "idaviso    9886 non-null int64\n",
      "dtypes: int64(1)\n",
      "memory usage: 154.5 KB\n"
     ]
    }
   ],
   "source": [
    "## UNIFICO TODOS LOS DATAFRAME EN UNO SOLO: ( avisos_online )\n",
    "avisos_online = pd.concat([avisos_online_1, avisos_online_2])\n",
    "avisos_online.reset_index()\n",
    "avisos_online.info()"
   ]
  },
  {
   "cell_type": "code",
   "execution_count": 11,
   "metadata": {},
   "outputs": [],
   "source": [
    "## OBTENEMOS TODA LA INFORMACIÓN DE: ( fiuba_6_avisos_detalle )\n",
    "avisos_detalle_1 = pd.read_csv('navent_fiuba_1/fiuba_6_avisos_detalle.csv') ## memory usage: 24.3 MB\n",
    "avisos_detalle_2 = pd.read_csv('navent_fiuba_2/fiuba_6_avisos_detalle.csv') ## memory usage: 32.8 MB\n",
    "avisos_detalle_3 = pd.read_csv('navent_fiuba_3/fiuba_6_avisos_detalle.csv') ## memory usage: 24.6 MB\n",
    "avisos_detalle_4 = pd.read_csv('navent_fiuba_4/fiuba_6_avisos_detalle_missing_nivel_laboral.csv') ## memory usage: 677.4 KB"
   ]
  },
  {
   "cell_type": "code",
   "execution_count": 12,
   "metadata": {},
   "outputs": [
    {
     "name": "stdout",
     "output_type": "stream",
     "text": [
      "<class 'pandas.core.frame.DataFrame'>\n",
      "Int64Index: 45969 entries, 0 to 337\n",
      "Data columns (total 11 columns):\n",
      "idaviso                 45969 non-null int64\n",
      "idpais                  45969 non-null int64\n",
      "titulo                  45969 non-null object\n",
      "descripcion             45969 non-null object\n",
      "nombre_zona             45969 non-null object\n",
      "ciudad                  225 non-null object\n",
      "mapacalle               3444 non-null object\n",
      "tipo_de_trabajo         45969 non-null object\n",
      "nivel_laboral           45634 non-null object\n",
      "nombre_area             45969 non-null object\n",
      "denominacion_empresa    45955 non-null object\n",
      "dtypes: int64(2), object(9)\n",
      "memory usage: 4.2+ MB\n"
     ]
    }
   ],
   "source": [
    "## UNIFICO TODOS LOS DATAFRAME EN UNO SOLO: ( avisos_detalle )\n",
    "avisos_detalle = pd.concat([avisos_detalle_1, avisos_detalle_2, avisos_detalle_3, avisos_detalle_4])\n",
    "avisos_detalle.reset_index()\n",
    "avisos_detalle.info()"
   ]
  },
  {
   "cell_type": "code",
   "execution_count": 13,
   "metadata": {},
   "outputs": [],
   "source": [
    "avisos_detalle.drop('ciudad', axis=1, inplace=True)\n",
    "avisos_detalle.drop('mapacalle', axis=1, inplace=True)"
   ]
  },
  {
   "cell_type": "code",
   "execution_count": 14,
   "metadata": {},
   "outputs": [
    {
     "name": "stdout",
     "output_type": "stream",
     "text": [
      "<class 'pandas.core.frame.DataFrame'>\n",
      "Int64Index: 45969 entries, 0 to 337\n",
      "Data columns (total 9 columns):\n",
      "idaviso                 45969 non-null int64\n",
      "idpais                  45969 non-null int64\n",
      "titulo                  45969 non-null object\n",
      "descripcion             45969 non-null object\n",
      "nombre_zona             45969 non-null object\n",
      "tipo_de_trabajo         45969 non-null object\n",
      "nivel_laboral           45634 non-null object\n",
      "nombre_area             45969 non-null object\n",
      "denominacion_empresa    45955 non-null object\n",
      "dtypes: int64(2), object(7)\n",
      "memory usage: 3.5+ MB\n",
      "<class 'pandas.core.frame.DataFrame'>\n",
      "Int64Index: 45969 entries, 0 to 337\n",
      "Data columns (total 9 columns):\n",
      "idaviso                 45969 non-null int64\n",
      "idpais                  45969 non-null int64\n",
      "titulo                  45969 non-null object\n",
      "descripcion             45969 non-null object\n",
      "nombre_zona             45969 non-null object\n",
      "tipo_de_trabajo         45969 non-null object\n",
      "nivel_laboral           45969 non-null object\n",
      "nombre_area             45969 non-null object\n",
      "denominacion_empresa    45955 non-null object\n",
      "dtypes: int64(2), object(7)\n",
      "memory usage: 3.5+ MB\n"
     ]
    }
   ],
   "source": [
    "avisos_detalle.info()\n",
    "avisos_detalle.nivel_laboral.replace(np.NaN, 'Otro', inplace=True)\n",
    "avisos_detalle.info()"
   ]
  },
  {
   "cell_type": "code",
   "execution_count": 15,
   "metadata": {},
   "outputs": [
    {
     "name": "stdout",
     "output_type": "stream",
     "text": [
      "<class 'pandas.core.frame.DataFrame'>\n",
      "Int64Index: 45969 entries, 0 to 337\n",
      "Data columns (total 9 columns):\n",
      "idaviso                 45969 non-null int64\n",
      "idpais                  45969 non-null int64\n",
      "titulo                  45969 non-null object\n",
      "descripcion             45969 non-null object\n",
      "nombre_zona             45969 non-null object\n",
      "tipo_de_trabajo         45969 non-null object\n",
      "nivel_laboral           45969 non-null object\n",
      "nombre_area             45969 non-null object\n",
      "denominacion_empresa    45955 non-null object\n",
      "dtypes: int64(2), object(7)\n",
      "memory usage: 3.5+ MB\n",
      "<class 'pandas.core.frame.DataFrame'>\n",
      "Int64Index: 45969 entries, 0 to 337\n",
      "Data columns (total 9 columns):\n",
      "idaviso                 45969 non-null int64\n",
      "idpais                  45969 non-null int64\n",
      "titulo                  45969 non-null object\n",
      "descripcion             45969 non-null object\n",
      "nombre_zona             45969 non-null object\n",
      "tipo_de_trabajo         45969 non-null object\n",
      "nivel_laboral           45969 non-null object\n",
      "nombre_area             45969 non-null object\n",
      "denominacion_empresa    45969 non-null object\n",
      "dtypes: int64(2), object(7)\n",
      "memory usage: 3.5+ MB\n"
     ]
    }
   ],
   "source": [
    "## POR LO QUE VEMOS LOS AVISOS QUE TIENEN NULO LA DENOMINACIÓN DE LA EMPRESA ESTAN VINCULADOS \n",
    "## DE UNA U OTRA FORMA CON PORTSAID, POR LO QUE PROCEDEMOS A COMPLETAR LOS DATOS PARA QUITAR NULOS.\n",
    "avisos_detalle.info()\n",
    "avisos_detalle.denominacion_empresa.replace(np.NaN, 'PORTSAID', inplace=True)\n",
    "avisos_detalle.info()"
   ]
  },
  {
   "cell_type": "code",
   "execution_count": 16,
   "metadata": {},
   "outputs": [],
   "source": [
    "## UNIFICAMOS CRITERIOS A LA HORA DE NOMBRAR LAS ZONAS QUE INTERVIENEN EN EL ANALISIS.\n",
    "avisos_detalle.loc[avisos_detalle.nombre_zona == 'GBA Oeste', 'nombre_zona'] = 'Gran Buenos Aires'\n",
    "avisos_detalle.loc[(avisos_detalle.nombre_zona != 'Gran Buenos Aires') & (avisos_detalle.nombre_zona != 'Capital Federal'), 'nombre_zona'] = 'Interior'"
   ]
  },
  {
   "cell_type": "code",
   "execution_count": 17,
   "metadata": {},
   "outputs": [
    {
     "name": "stdout",
     "output_type": "stream",
     "text": [
      "<class 'pandas.core.frame.DataFrame'>\n",
      "Int64Index: 45969 entries, 0 to 337\n",
      "Data columns (total 9 columns):\n",
      "idaviso                 45969 non-null int64\n",
      "idpais                  45969 non-null int64\n",
      "titulo                  45969 non-null object\n",
      "descripcion             45969 non-null object\n",
      "nombre_zona             45969 non-null object\n",
      "tipo_de_trabajo         45969 non-null object\n",
      "nivel_laboral           45969 non-null object\n",
      "nombre_area             45969 non-null object\n",
      "denominacion_empresa    45969 non-null object\n",
      "dtypes: int64(2), object(7)\n",
      "memory usage: 3.5+ MB\n",
      "<class 'pandas.core.frame.DataFrame'>\n",
      "Int64Index: 45969 entries, 0 to 337\n",
      "Data columns (total 9 columns):\n",
      "idaviso                 45969 non-null int64\n",
      "idpais                  45969 non-null int64\n",
      "titulo                  45969 non-null object\n",
      "descripcion             45969 non-null object\n",
      "nombre_zona             45969 non-null int8\n",
      "tipo_de_trabajo         45969 non-null object\n",
      "nivel_laboral           45969 non-null object\n",
      "nombre_area             45969 non-null object\n",
      "denominacion_empresa    45969 non-null object\n",
      "dtypes: int64(2), int8(1), object(6)\n",
      "memory usage: 3.2+ MB\n"
     ]
    }
   ],
   "source": [
    "## VERIFICAMOS LAS AGRUPACIONES SOBRE LAS ZONAS DE LOS AVISOS.\n",
    "avisos_detalle['nombre_zona'].value_counts()\n",
    "## Gran Buenos Aires    42333 -- 1\n",
    "## Capital Federal       3556 -- 2\n",
    "## Interior                80 -- 3\n",
    "## VAMOS A SEPARAR LAS 3 ZONAS QUE NOS QUEDAN Y TRANSFORMARLAS A VALORES ENTEROS.\n",
    "avisos_detalle.nombre_zona[avisos_detalle.nombre_zona == 'Gran Buenos Aires'] = 1\n",
    "avisos_detalle.nombre_zona[avisos_detalle.nombre_zona == 'Capital Federal'] = 2\n",
    "avisos_detalle.nombre_zona[avisos_detalle.nombre_zona == 'Interior'] = 3\n",
    "avisos_detalle.info()\n",
    "avisos_detalle['nombre_zona'] = avisos_detalle['nombre_zona'].astype(np.int8)\n",
    "avisos_detalle.info()"
   ]
  },
  {
   "cell_type": "code",
   "execution_count": 18,
   "metadata": {},
   "outputs": [
    {
     "name": "stdout",
     "output_type": "stream",
     "text": [
      "<class 'pandas.core.frame.DataFrame'>\n",
      "Int64Index: 45969 entries, 0 to 337\n",
      "Data columns (total 9 columns):\n",
      "idaviso                 45969 non-null int64\n",
      "idpais                  45969 non-null int64\n",
      "titulo                  45969 non-null object\n",
      "descripcion             45969 non-null object\n",
      "nombre_zona             45969 non-null int8\n",
      "tipo_de_trabajo         45969 non-null object\n",
      "nivel_laboral           45969 non-null object\n",
      "nombre_area             45969 non-null object\n",
      "denominacion_empresa    45969 non-null object\n",
      "dtypes: int64(2), int8(1), object(6)\n",
      "memory usage: 3.2+ MB\n",
      "<class 'pandas.core.frame.DataFrame'>\n",
      "Int64Index: 45969 entries, 0 to 337\n",
      "Data columns (total 9 columns):\n",
      "idaviso                 45969 non-null int64\n",
      "idpais                  45969 non-null int64\n",
      "titulo                  45969 non-null object\n",
      "descripcion             45969 non-null object\n",
      "nombre_zona             45969 non-null int8\n",
      "tipo_de_trabajo         45969 non-null int8\n",
      "nivel_laboral           45969 non-null object\n",
      "nombre_area             45969 non-null object\n",
      "denominacion_empresa    45969 non-null object\n",
      "dtypes: int64(2), int8(2), object(5)\n",
      "memory usage: 2.9+ MB\n"
     ]
    }
   ],
   "source": [
    "## VERIFICAMOS LAS AGRUPACIONES SOBRE LOS TIPOS DE TRABAJO DE LOS AVISOS.\n",
    "avisos_detalle['tipo_de_trabajo'].value_counts()\n",
    "## Full-time          41698 -- 1\n",
    "## Part-time           3088 -- 2\n",
    "## Teletrabajo          402 -- 3 \n",
    "## Por Horas            225 -- 4\n",
    "## Pasantia             207 -- 5\n",
    "## Temporario           154 -- 6\n",
    "## Por Contrato         139 -- 7\n",
    "## Fines de Semana       45 -- 8\n",
    "## Primer empleo         10 -- 9\n",
    "## Voluntario             1 -- 10\n",
    "## VAMOS A SEPARAR LOS TIPOS DE TRABAJO QUE NOS QUEDAN Y TRANSFORMARLAS A VALORES ENTEROS.\n",
    "avisos_detalle.tipo_de_trabajo[avisos_detalle.tipo_de_trabajo == 'Full-time'] = 1\n",
    "avisos_detalle.tipo_de_trabajo[avisos_detalle.tipo_de_trabajo == 'Part-time'] = 2\n",
    "avisos_detalle.tipo_de_trabajo[avisos_detalle.tipo_de_trabajo == 'Teletrabajo'] = 3\n",
    "avisos_detalle.tipo_de_trabajo[avisos_detalle.tipo_de_trabajo == 'Por Horas'] = 4\n",
    "avisos_detalle.tipo_de_trabajo[avisos_detalle.tipo_de_trabajo == 'Pasantia'] = 5\n",
    "avisos_detalle.tipo_de_trabajo[avisos_detalle.tipo_de_trabajo == 'Temporario'] = 6\n",
    "avisos_detalle.tipo_de_trabajo[avisos_detalle.tipo_de_trabajo == 'Por Contrato'] = 7\n",
    "avisos_detalle.tipo_de_trabajo[avisos_detalle.tipo_de_trabajo == 'Fines de Semana'] = 8\n",
    "avisos_detalle.tipo_de_trabajo[avisos_detalle.tipo_de_trabajo == 'Primer empleo'] = 9\n",
    "avisos_detalle.tipo_de_trabajo[avisos_detalle.tipo_de_trabajo == 'Voluntario'] = 9\n",
    "\n",
    "avisos_detalle.info()\n",
    "avisos_detalle['tipo_de_trabajo'] = avisos_detalle['tipo_de_trabajo'].astype(np.int8)\n",
    "avisos_detalle.info()"
   ]
  },
  {
   "cell_type": "code",
   "execution_count": 19,
   "metadata": {},
   "outputs": [
    {
     "name": "stdout",
     "output_type": "stream",
     "text": [
      "<class 'pandas.core.frame.DataFrame'>\n",
      "Int64Index: 45969 entries, 0 to 337\n",
      "Data columns (total 9 columns):\n",
      "idaviso                 45969 non-null int64\n",
      "idpais                  45969 non-null int64\n",
      "titulo                  45969 non-null object\n",
      "descripcion             45969 non-null object\n",
      "nombre_zona             45969 non-null int8\n",
      "tipo_de_trabajo         45969 non-null int8\n",
      "nivel_laboral           45969 non-null object\n",
      "nombre_area             45969 non-null object\n",
      "denominacion_empresa    45969 non-null object\n",
      "dtypes: int64(2), int8(2), object(5)\n",
      "memory usage: 2.9+ MB\n",
      "<class 'pandas.core.frame.DataFrame'>\n",
      "Int64Index: 45969 entries, 0 to 337\n",
      "Data columns (total 9 columns):\n",
      "idaviso                 45969 non-null int64\n",
      "idpais                  45969 non-null int64\n",
      "titulo                  45969 non-null object\n",
      "descripcion             45969 non-null object\n",
      "nombre_zona             45969 non-null int8\n",
      "tipo_de_trabajo         45969 non-null int8\n",
      "nivel_laboral           45969 non-null int8\n",
      "nombre_area             45969 non-null object\n",
      "denominacion_empresa    45969 non-null object\n",
      "dtypes: int64(2), int8(3), object(4)\n",
      "memory usage: 2.6+ MB\n"
     ]
    }
   ],
   "source": [
    "## VERIFICAMOS LAS AGRUPACIONES SOBRE LOS NIVELES LABORALES DE LOS AVISOS.\n",
    "avisos_detalle['nivel_laboral'].value_counts()\n",
    "## Senior / Semi-Senior                    31280 -- 1\n",
    "## Junior                                   7575 -- 2\n",
    "## Otro                                     3731 -- 3\n",
    "## Jefe / Supervisor / Responsable          2779 -- 4\n",
    "## Gerencia / Alta Gerencia / Dirección      604 -- 5\n",
    "\n",
    "## VAMOS A SEPARAR LOS TIPOS DE TRABAJO QUE NOS QUEDAN Y TRANSFORMARLAS A VALORES ENTEROS.\n",
    "avisos_detalle.nivel_laboral[avisos_detalle.nivel_laboral == 'Senior / Semi-Senior'] = 1\n",
    "avisos_detalle.nivel_laboral[avisos_detalle.nivel_laboral == 'Junior'] = 2\n",
    "avisos_detalle.nivel_laboral[avisos_detalle.nivel_laboral == 'Otro'] = 3\n",
    "avisos_detalle.nivel_laboral[avisos_detalle.nivel_laboral == 'Jefe / Supervisor / Responsable'] = 4\n",
    "avisos_detalle.nivel_laboral[avisos_detalle.nivel_laboral == 'Gerencia / Alta Gerencia / Dirección'] = 5\n",
    "\n",
    "avisos_detalle.info()\n",
    "avisos_detalle['nivel_laboral'] = avisos_detalle['nivel_laboral'].astype(np.int8)\n",
    "avisos_detalle.info()"
   ]
  },
  {
   "cell_type": "code",
   "execution_count": 20,
   "metadata": {},
   "outputs": [
    {
     "name": "stdout",
     "output_type": "stream",
     "text": [
      "<class 'pandas.core.frame.DataFrame'>\n",
      "Int64Index: 45969 entries, 0 to 337\n",
      "Data columns (total 9 columns):\n",
      "idaviso                 45969 non-null int64\n",
      "idpais                  45969 non-null int64\n",
      "titulo                  45969 non-null object\n",
      "descripcion             45969 non-null object\n",
      "nombre_zona             45969 non-null int8\n",
      "tipo_de_trabajo         45969 non-null int8\n",
      "nivel_laboral           45969 non-null int8\n",
      "nombre_area             45969 non-null object\n",
      "denominacion_empresa    45969 non-null object\n",
      "dtypes: int64(2), int8(3), object(4)\n",
      "memory usage: 2.6+ MB\n",
      "<class 'pandas.core.frame.DataFrame'>\n",
      "Int64Index: 45969 entries, 0 to 337\n",
      "Data columns (total 9 columns):\n",
      "idaviso                 45969 non-null int64\n",
      "idpais                  45969 non-null int64\n",
      "titulo                  45969 non-null object\n",
      "descripcion             45969 non-null object\n",
      "nombre_zona             45969 non-null int8\n",
      "tipo_de_trabajo         45969 non-null int8\n",
      "nivel_laboral           45969 non-null int8\n",
      "nombre_area             45969 non-null object\n",
      "denominacion_empresa    45969 non-null object\n",
      "dtypes: int64(2), int8(3), object(4)\n",
      "memory usage: 2.6+ MB\n"
     ]
    }
   ],
   "source": [
    "avisos_detalle.info()\n",
    "avisos_detalle['titulo'] = avisos_detalle['titulo'].astype('str')\n",
    "avisos_detalle['descripcion'] = avisos_detalle['descripcion'].astype('str')\n",
    "avisos_detalle['denominacion_empresa'] = avisos_detalle['denominacion_empresa'].astype('str')\n",
    "avisos_detalle.info()"
   ]
  },
  {
   "cell_type": "code",
   "execution_count": 21,
   "metadata": {},
   "outputs": [
    {
     "name": "stdout",
     "output_type": "stream",
     "text": [
      "<class 'pandas.core.frame.DataFrame'>\n",
      "Int64Index: 45969 entries, 0 to 337\n",
      "Data columns (total 9 columns):\n",
      "idaviso                 45969 non-null int64\n",
      "idpais                  45969 non-null int64\n",
      "titulo                  45969 non-null object\n",
      "descripcion             45969 non-null object\n",
      "nombre_zona             45969 non-null int8\n",
      "tipo_de_trabajo         45969 non-null int8\n",
      "nivel_laboral           45969 non-null int8\n",
      "nombre_area             45969 non-null object\n",
      "denominacion_empresa    45969 non-null object\n",
      "dtypes: int64(2), int8(3), object(4)\n",
      "memory usage: 2.6+ MB\n"
     ]
    }
   ],
   "source": [
    "## VERIFICAMOS LAS AGRUPACIONES SOBRE LAS AREAS DE LOS AVISOS.\n",
    "##pd.options.display.max_rows = 200\n",
    "##avisos_detalle['nombre_area'].value_counts()\n",
    "avisos_detalle['nombre_zona'] = avisos_detalle['nombre_zona'].astype(np.int8)\n",
    "avisos_detalle['tipo_de_trabajo'] = avisos_detalle['tipo_de_trabajo'].astype(np.int8)\n",
    "avisos_detalle['nivel_laboral'] = avisos_detalle['nivel_laboral'].astype(np.int8)\n",
    "avisos_detalle.info()"
   ]
  },
  {
   "cell_type": "code",
   "execution_count": 22,
   "metadata": {},
   "outputs": [
    {
     "name": "stdout",
     "output_type": "stream",
     "text": [
      "<class 'pandas.core.frame.DataFrame'>\n",
      "Int64Index: 45969 entries, 0 to 337\n",
      "Data columns (total 9 columns):\n",
      "idaviso                 45969 non-null int64\n",
      "idpais                  45969 non-null int64\n",
      "titulo                  45969 non-null object\n",
      "descripcion             45969 non-null object\n",
      "nombre_zona             45969 non-null int8\n",
      "tipo_de_trabajo         45969 non-null int8\n",
      "nivel_laboral           45969 non-null int8\n",
      "nombre_area             45969 non-null int8\n",
      "denominacion_empresa    45969 non-null object\n",
      "dtypes: int64(2), int8(4), object(3)\n",
      "memory usage: 2.3+ MB\n"
     ]
    }
   ],
   "source": [
    "avisos_detalle['nombre_area'] = avisos_detalle['nombre_area'].astype('category')\n",
    "avisos_detalle['nombre_area'] = avisos_detalle['nombre_area'].cat.codes\n",
    "avisos_detalle['nombre_area'] = avisos_detalle['nombre_area'].astype(np.int8)\n",
    "avisos_detalle.info()"
   ]
  },
  {
   "cell_type": "code",
   "execution_count": 23,
   "metadata": {},
   "outputs": [
    {
     "name": "stdout",
     "output_type": "stream",
     "text": [
      "<class 'pandas.core.frame.DataFrame'>\n",
      "Int64Index: 9886 entries, 0 to 4857\n",
      "Data columns (total 2 columns):\n",
      "idaviso        9886 non-null int64\n",
      "esta_online    9886 non-null int8\n",
      "dtypes: int64(1), int8(1)\n",
      "memory usage: 164.1 KB\n",
      "<class 'pandas.core.frame.DataFrame'>\n",
      "Int64Index: 45969 entries, 0 to 337\n",
      "Data columns (total 9 columns):\n",
      "idaviso                 45969 non-null int64\n",
      "idpais                  45969 non-null int64\n",
      "titulo                  45969 non-null object\n",
      "descripcion             45969 non-null object\n",
      "nombre_zona             45969 non-null int8\n",
      "tipo_de_trabajo         45969 non-null int8\n",
      "nivel_laboral           45969 non-null int8\n",
      "nombre_area             45969 non-null int8\n",
      "denominacion_empresa    45969 non-null object\n",
      "dtypes: int64(2), int8(4), object(3)\n",
      "memory usage: 2.3+ MB\n"
     ]
    }
   ],
   "source": [
    "## AGREGAMOS UN DATO PARA DISTINGUIR LOS AVISOS ONLINE.\n",
    "avisos_online['esta_online'] = 1\n",
    "avisos_online['esta_online'] = avisos_online['esta_online'].astype(np.int8)\n",
    "avisos_online.info()\n",
    "avisos_detalle.info()"
   ]
  },
  {
   "cell_type": "code",
   "execution_count": 24,
   "metadata": {},
   "outputs": [
    {
     "name": "stdout",
     "output_type": "stream",
     "text": [
      "<class 'pandas.core.frame.DataFrame'>\n",
      "Int64Index: 25288 entries, 0 to 337\n",
      "Data columns (total 9 columns):\n",
      "idaviso                 25288 non-null int64\n",
      "idpais                  25288 non-null int64\n",
      "titulo                  25288 non-null object\n",
      "descripcion             25288 non-null object\n",
      "nombre_zona             25288 non-null int8\n",
      "tipo_de_trabajo         25288 non-null int8\n",
      "nivel_laboral           25288 non-null int8\n",
      "nombre_area             25288 non-null int8\n",
      "denominacion_empresa    25288 non-null object\n",
      "dtypes: int64(2), int8(4), object(3)\n",
      "memory usage: 1.3+ MB\n"
     ]
    }
   ],
   "source": [
    "avisos_detalle.drop_duplicates('idaviso', keep='first', inplace=True)\n",
    "ids = avisos_detalle[\"idaviso\"]\n",
    "avisos_detalle[ids.isin(ids[ids.duplicated()])].sort_values(\"idaviso\")\n",
    "avisos_detalle.info()"
   ]
  },
  {
   "cell_type": "code",
   "execution_count": 25,
   "metadata": {},
   "outputs": [
    {
     "name": "stdout",
     "output_type": "stream",
     "text": [
      "<class 'pandas.core.frame.DataFrame'>\n",
      "Int64Index: 9430 entries, 0 to 4857\n",
      "Data columns (total 2 columns):\n",
      "idaviso        9430 non-null int64\n",
      "esta_online    9430 non-null int8\n",
      "dtypes: int64(1), int8(1)\n",
      "memory usage: 156.6 KB\n"
     ]
    }
   ],
   "source": [
    "avisos_online.drop_duplicates('idaviso', keep='first', inplace=True)\n",
    "ids = avisos_online[\"idaviso\"]\n",
    "avisos_online[ids.isin(ids[ids.duplicated()])].sort_values(\"idaviso\")\n",
    "avisos_online.info()"
   ]
  },
  {
   "cell_type": "code",
   "execution_count": 35,
   "metadata": {},
   "outputs": [
    {
     "name": "stdout",
     "output_type": "stream",
     "text": [
      "<class 'pandas.core.frame.DataFrame'>\n",
      "Int64Index: 25288 entries, 0 to 25287\n",
      "Data columns (total 10 columns):\n",
      "idaviso                 25288 non-null int64\n",
      "idpais                  25288 non-null int64\n",
      "titulo                  25288 non-null object\n",
      "descripcion             25288 non-null object\n",
      "nombre_zona             25288 non-null int8\n",
      "tipo_de_trabajo         25288 non-null int8\n",
      "nivel_laboral           25288 non-null int8\n",
      "nombre_area             25288 non-null int8\n",
      "denominacion_empresa    25288 non-null object\n",
      "esta_online             9151 non-null float64\n",
      "dtypes: float64(1), int64(2), int8(4), object(3)\n",
      "memory usage: 1.4+ MB\n"
     ]
    }
   ],
   "source": [
    "## UNIFICAMOS PARA SABER CUALES SON LOS QUE ESTAN ONLINE.\n",
    "avisos_detalle_completo = avisos_detalle.merge(avisos_online,left_on='idaviso', right_on='idaviso',how='left')\n",
    "avisos_detalle_completo.info()"
   ]
  },
  {
   "cell_type": "code",
   "execution_count": 37,
   "metadata": {},
   "outputs": [
    {
     "name": "stdout",
     "output_type": "stream",
     "text": [
      "<class 'pandas.core.frame.DataFrame'>\n",
      "Int64Index: 25288 entries, 0 to 25287\n",
      "Data columns (total 10 columns):\n",
      "idaviso                 25288 non-null int64\n",
      "idpais                  25288 non-null int64\n",
      "titulo                  25288 non-null object\n",
      "descripcion             25288 non-null object\n",
      "nombre_zona             25288 non-null int8\n",
      "tipo_de_trabajo         25288 non-null int8\n",
      "nivel_laboral           25288 non-null int8\n",
      "nombre_area             25288 non-null int8\n",
      "denominacion_empresa    25288 non-null object\n",
      "esta_online             25288 non-null float64\n",
      "dtypes: float64(1), int64(2), int8(4), object(3)\n",
      "memory usage: 1.4+ MB\n"
     ]
    }
   ],
   "source": [
    "avisos_detalle_completo.loc[avisos_detalle_completo.esta_online != 1, 'esta_online'] = 0\n",
    "avisos_detalle_completo.info()"
   ]
  },
  {
   "cell_type": "code",
   "execution_count": 39,
   "metadata": {},
   "outputs": [
    {
     "name": "stdout",
     "output_type": "stream",
     "text": [
      "<class 'pandas.core.frame.DataFrame'>\n",
      "Int64Index: 25288 entries, 0 to 25287\n",
      "Data columns (total 10 columns):\n",
      "idaviso                 25288 non-null int64\n",
      "idpais                  25288 non-null int8\n",
      "titulo                  25288 non-null object\n",
      "descripcion             25288 non-null object\n",
      "nombre_zona             25288 non-null int8\n",
      "tipo_de_trabajo         25288 non-null int8\n",
      "nivel_laboral           25288 non-null int8\n",
      "nombre_area             25288 non-null int8\n",
      "denominacion_empresa    25288 non-null object\n",
      "esta_online             25288 non-null int8\n",
      "dtypes: int64(1), int8(6), object(3)\n",
      "memory usage: 1.1+ MB\n"
     ]
    }
   ],
   "source": [
    "avisos_detalle_completo['idpais'] = avisos_detalle_completo['idpais'].astype(np.int8)\n",
    "avisos_detalle_completo['esta_online'] = avisos_detalle_completo['esta_online'].astype(np.int8)\n",
    "avisos_detalle_completo.info()"
   ]
  },
  {
   "cell_type": "code",
   "execution_count": null,
   "metadata": {},
   "outputs": [],
   "source": [
    "#########################################################################################################################\n",
    "#########################################################################################################################\n",
    "### POSTULACIONES. ###\n",
    "#########################################################################################################################\n",
    "#########################################################################################################################"
   ]
  },
  {
   "cell_type": "code",
   "execution_count": 41,
   "metadata": {},
   "outputs": [
    {
     "name": "stdout",
     "output_type": "stream",
     "text": [
      "<class 'pandas.core.frame.DataFrame'>\n",
      "Int64Index: 8311264 entries, 0 to 4909640\n",
      "Data columns (total 3 columns):\n",
      "idaviso             int64\n",
      "idpostulante        object\n",
      "fechapostulacion    object\n",
      "dtypes: int64(1), object(2)\n",
      "memory usage: 253.6+ MB\n"
     ]
    }
   ],
   "source": [
    "## OBTENEMOS TODA LA INFORMACIÓN DE: ( fiuba_4_postulaciones )\n",
    "postulaciones_1 = pd.read_csv('navent_fiuba_1/fiuba_4_postulaciones.csv') ## memory usage: 401.6 MB\n",
    "postulaciones_2 = pd.read_csv('navent_fiuba_2/fiuba_4_postulaciones.csv') ## memory usage: 579.6 MB\n",
    "## UNIFICO TODOS LOS DATAFRAME EN UNO SOLO: ( postulaciones )\n",
    "postulaciones = pd.concat([postulaciones_1, postulaciones_2])\n",
    "postulaciones.reset_index()\n",
    "postulaciones.info()"
   ]
  },
  {
   "cell_type": "code",
   "execution_count": 43,
   "metadata": {},
   "outputs": [
    {
     "name": "stdout",
     "output_type": "stream",
     "text": [
      "<class 'pandas.core.frame.DataFrame'>\n",
      "Int64Index: 8311264 entries, 0 to 4909640\n",
      "Data columns (total 3 columns):\n",
      "idaviso             int64\n",
      "idpostulante        object\n",
      "fechapostulacion    datetime64[ns]\n",
      "dtypes: datetime64[ns](1), int64(1), object(1)\n",
      "memory usage: 253.6+ MB\n"
     ]
    }
   ],
   "source": [
    "## PLANTEMOAS LA FECHA EN QUE SE VISITAS EL AVISO COMO UNA NUEVA COLUMNA DATETIME.\n",
    "postulaciones['fechapostulacion'] = pd.to_datetime(postulaciones['fechapostulacion'], errors = 'coerce')\n",
    "postulaciones.info()"
   ]
  },
  {
   "cell_type": "code",
   "execution_count": 46,
   "metadata": {},
   "outputs": [],
   "source": [
    "## HACEMOS UNA DIFERENCIA ENTRE EL DÍA DE LA SEMANA EN EL QUE SE LLEVÓ A CABO LA POSTULACION.\n",
    "postulaciones['dia_semana'] = postulaciones['fechapostulacion'].dt.weekday_name"
   ]
  },
  {
   "cell_type": "code",
   "execution_count": 48,
   "metadata": {},
   "outputs": [
    {
     "name": "stdout",
     "output_type": "stream",
     "text": [
      "<class 'pandas.core.frame.DataFrame'>\n",
      "Int64Index: 8311264 entries, 0 to 4909640\n",
      "Data columns (total 4 columns):\n",
      "idaviso             int64\n",
      "idpostulante        object\n",
      "fechapostulacion    datetime64[ns]\n",
      "dia_semana          int8\n",
      "dtypes: datetime64[ns](1), int64(1), int8(1), object(1)\n",
      "memory usage: 261.6+ MB\n"
     ]
    }
   ],
   "source": [
    "postulaciones['dia_semana'] = postulaciones['dia_semana'].astype('category')\n",
    "postulaciones['dia_semana'] = postulaciones['dia_semana'].cat.codes\n",
    "postulaciones['dia_semana'] = postulaciones['dia_semana'].astype(np.int8)\n",
    "postulaciones.info()"
   ]
  },
  {
   "cell_type": "code",
   "execution_count": 49,
   "metadata": {},
   "outputs": [],
   "source": [
    "## HACEMOS UNA DIFERENCIA ENTRE LA HORA EN QUE SE LLEVÓ A CABO LA POSTULACION.\n",
    "postulaciones['hora'] = postulaciones['fechapostulacion'].dt.hour"
   ]
  },
  {
   "cell_type": "code",
   "execution_count": 50,
   "metadata": {},
   "outputs": [
    {
     "name": "stdout",
     "output_type": "stream",
     "text": [
      "<class 'pandas.core.frame.DataFrame'>\n",
      "Int64Index: 8311264 entries, 0 to 4909640\n",
      "Data columns (total 5 columns):\n",
      "idaviso             int64\n",
      "idpostulante        object\n",
      "fechapostulacion    datetime64[ns]\n",
      "dia_semana          int8\n",
      "hora                int8\n",
      "dtypes: datetime64[ns](1), int64(1), int8(2), object(1)\n",
      "memory usage: 269.5+ MB\n"
     ]
    }
   ],
   "source": [
    "postulaciones['hora'] = postulaciones['hora'].astype(np.int8)\n",
    "postulaciones.info()"
   ]
  },
  {
   "cell_type": "code",
   "execution_count": 51,
   "metadata": {},
   "outputs": [
    {
     "name": "stdout",
     "output_type": "stream",
     "text": [
      "<class 'pandas.core.frame.DataFrame'>\n",
      "Int64Index: 8311264 entries, 0 to 4909640\n",
      "Data columns (total 4 columns):\n",
      "idaviso         int64\n",
      "idpostulante    object\n",
      "dia_semana      int8\n",
      "hora            int8\n",
      "dtypes: int64(1), int8(2), object(1)\n",
      "memory usage: 206.1+ MB\n"
     ]
    }
   ],
   "source": [
    "## ELIMINAMOS LA COLUMNA DE LA FECHA PRECISA QUE NO NOS BRINDA MAYOR INFORMACION DE LA YA OBTENIDA.\n",
    "postulaciones.drop('fechapostulacion', axis=1, inplace=True)\n",
    "postulaciones.info()"
   ]
  },
  {
   "cell_type": "code",
   "execution_count": 21,
   "metadata": {},
   "outputs": [
    {
     "ename": "AttributeError",
     "evalue": "'str' object has no attribute 'duplicated'",
     "output_type": "error",
     "traceback": [
      "\u001b[0;31m---------------------------------------------------------------------------\u001b[0m",
      "\u001b[0;31mAttributeError\u001b[0m                            Traceback (most recent call last)",
      "\u001b[0;32m<ipython-input-21-da625aa4f10b>\u001b[0m in \u001b[0;36m<module>\u001b[0;34m()\u001b[0m\n\u001b[1;32m      2\u001b[0m \u001b[0;31m## ids = postulaciones[\"idaviso\"]\u001b[0m\u001b[0;34m\u001b[0m\u001b[0;34m\u001b[0m\u001b[0m\n\u001b[1;32m      3\u001b[0m \u001b[0;31m## postulaciones[ids.isin(ids[ids.duplicated()])].sort_values(\"idaviso\")\u001b[0m\u001b[0;34m\u001b[0m\u001b[0;34m\u001b[0m\u001b[0m\n\u001b[0;32m----> 4\u001b[0;31m \u001b[0mpos_repetidas\u001b[0m \u001b[0;34m=\u001b[0m \u001b[0mpostulaciones\u001b[0m\u001b[0;34m[\u001b[0m\u001b[0mpostulaciones\u001b[0m\u001b[0;34m.\u001b[0m\u001b[0mduplicated\u001b[0m\u001b[0;34m(\u001b[0m\u001b[0msubset\u001b[0m\u001b[0;34m=\u001b[0m\u001b[0;34m[\u001b[0m\u001b[0;34m'idaviso'\u001b[0m\u001b[0;34m,\u001b[0m\u001b[0;34m'idpostulante'\u001b[0m\u001b[0;34m,\u001b[0m\u001b[0;34m'fechapostulacion'\u001b[0m\u001b[0;34m]\u001b[0m\u001b[0;34m,\u001b[0m \u001b[0mkeep\u001b[0m\u001b[0;34m=\u001b[0m\u001b[0mFalse\u001b[0m\u001b[0;34m)\u001b[0m\u001b[0;34m]\u001b[0m\u001b[0;34m\u001b[0m\u001b[0m\n\u001b[0m",
      "\u001b[0;31mAttributeError\u001b[0m: 'str' object has no attribute 'duplicated'"
     ]
    }
   ],
   "source": [
    "## VEMOS SI HAY DUPLICADOS.\n",
    "## ids = postulaciones[\"idaviso\"]\n",
    "## postulaciones[ids.isin(ids[ids.duplicated()])].sort_values(\"idaviso\")\n",
    "pos_repetidas = postulaciones[postulaciones.duplicated(subset=['idaviso','idpostulante','fechapostulacion'], keep=False)]"
   ]
  },
  {
   "cell_type": "code",
   "execution_count": null,
   "metadata": {},
   "outputs": [],
   "source": []
  },
  {
   "cell_type": "code",
   "execution_count": null,
   "metadata": {},
   "outputs": [],
   "source": [
    "#########################################################################################################################\n",
    "#########################################################################################################################\n",
    "### DATOS DE PRUEBA. ###\n",
    "#########################################################################################################################\n",
    "#########################################################################################################################"
   ]
  },
  {
   "cell_type": "code",
   "execution_count": 12,
   "metadata": {},
   "outputs": [],
   "source": [
    "## PLANTEMOAS LA FECHA EN QUE SE VISITAS EL AVISO COMO UNA NUEVA COLUMNA DATETIME.\n",
    "vistas_avisos['fecha_vista'] = pd.to_datetime(vistas_avisos['timestamp'], errors = 'coerce')\n",
    "## HACEMOS UNA DIFERENCIA ENTRE EL DÍA DE LA SEMANA EN EL QUE SE LLEVÓ A CABO LA VISITA.\n",
    "vistas_avisos['dia_semana'] = vistas_avisos['fecha_vista'].dt.weekday_name\n",
    "## CREAMOS UN ORDENAMIENTO PARA LOS DÍAS DE LA SEMANA, COSA DE QUE NO QUEDE ORDENADA POR VALORES ASCENDENTES.\n",
    "vistas_avisos['dia_semana'] = pd.Categorical(vistas_avisos['dia_semana'], categories=['Monday','Tuesday','Wednesday','Thursday','Friday','Saturday', 'Sunday'], ordered=True)"
   ]
  },
  {
   "cell_type": "code",
   "execution_count": null,
   "metadata": {},
   "outputs": [],
   "source": [
    "## LE AGREGAMOS EL DETALLE DE LOS AVISOS A LAS VISITAS QUE ESTAMOS TRABAJANDO.\n",
    "## vistas_avisos.reset_index() \n",
    "## vistas_avisos.info()\n",
    "## avisos_detalle.info()\n",
    "vistas_avisos = vistas_avisos.merge(avisos_detalle,left_on='idAviso', right_on='idaviso',how='left')\n",
    "## vistas_avisos_3.info()\n",
    "## vistas_avisos_3.isnull().count()"
   ]
  },
  {
   "cell_type": "code",
   "execution_count": null,
   "metadata": {},
   "outputs": [],
   "source": [
    "## LIMPIAMOS LOS ACENTOS PARA LA DENOMINACION_EMPRESA QUE NOS TRAEN PROBLEMAS A LA HORA DE GRAFICAR.\n",
    "vistas_avisos['denominacion_empresa'] = vistas_avisos['denominacion_empresa'].str.replace(\"á\", \"a\")\n",
    "vistas_avisos['denominacion_empresa'] = vistas_avisos['denominacion_empresa'].str.replace(\"é\", \"e\")\n",
    "vistas_avisos['denominacion_empresa'] = vistas_avisos['denominacion_empresa'].str.replace(\"í\", \"i\")\n",
    "vistas_avisos['denominacion_empresa'] = vistas_avisos['denominacion_empresa'].str.replace(\"ó\", \"o\")\n",
    "vistas_avisos['denominacion_empresa'] = vistas_avisos['denominacion_empresa'].str.replace(\"ú\", \"u\")"
   ]
  },
  {
   "cell_type": "code",
   "execution_count": 4,
   "metadata": {},
   "outputs": [],
   "source": [
    "## OBTENEMOS TODA LA INFORMACIÓN DE: ( test_final_100k )\n",
    "test_final = pd.read_csv('navent_fiuba_4/test_final_100k.csv') ## memory usage: 6.4 MB"
   ]
  },
  {
   "cell_type": "code",
   "execution_count": 8,
   "metadata": {},
   "outputs": [],
   "source": [
    "test_final['probabilidad'] = 0"
   ]
  },
  {
   "cell_type": "code",
   "execution_count": 10,
   "metadata": {},
   "outputs": [],
   "source": [
    "test_final['probabilidad'] = test_final['probabilidad'].astype(float)"
   ]
  },
  {
   "cell_type": "code",
   "execution_count": 11,
   "metadata": {},
   "outputs": [
    {
     "name": "stdout",
     "output_type": "stream",
     "text": [
      "<class 'pandas.core.frame.DataFrame'>\n",
      "RangeIndex: 100000 entries, 0 to 99999\n",
      "Data columns (total 4 columns):\n",
      "id              100000 non-null int64\n",
      "idaviso         100000 non-null int64\n",
      "idpostulante    100000 non-null object\n",
      "probabilidad    100000 non-null float64\n",
      "dtypes: float64(1), int64(2), object(1)\n",
      "memory usage: 3.1+ MB\n"
     ]
    }
   ],
   "source": [
    "test_final.info()"
   ]
  },
  {
   "cell_type": "code",
   "execution_count": 5,
   "metadata": {},
   "outputs": [],
   "source": [
    "### VER USOS DE MEMORIA.#########################\n",
    "### avisos_detalle_4.info(memory_usage='deep')\n",
    "### #############################################"
   ]
  }
 ],
 "metadata": {
  "kernelspec": {
   "display_name": "Python 2",
   "language": "python",
   "name": "python2"
  },
  "language_info": {
   "codemirror_mode": {
    "name": "ipython",
    "version": 2
   },
   "file_extension": ".py",
   "mimetype": "text/x-python",
   "name": "python",
   "nbconvert_exporter": "python",
   "pygments_lexer": "ipython2",
   "version": "2.7.14"
  }
 },
 "nbformat": 4,
 "nbformat_minor": 2
}
