{
 "cells": [
  {
   "cell_type": "markdown",
   "metadata": {},
   "source": [
    "### =======================================================================\n",
    "### IMPORTACIÓN DE DATOS.\n",
    "### ======================================================================="
   ]
  },
  {
   "cell_type": "code",
   "execution_count": 1,
   "metadata": {},
   "outputs": [],
   "source": [
    "## IMPORTACIÓN GENERAL DE LIBRERIAS Y VISUALIZACIÓN DE DATOS (matplotlib y seaborn)\n",
    "import pandas as pd\n",
    "import numpy as np\n",
    "import matplotlib.pyplot as plt\n",
    "import seaborn as sns\n",
    "import datetime as DT\n",
    "import warnings\n",
    "%matplotlib inline\n",
    "warnings.filterwarnings('ignore')\n",
    "plt.style.use('default') \n",
    "sns.set(style=\"whitegrid\") \n",
    "plt.rcParams['figure.figsize'] = (15, 10)\n",
    "import xgboost as xgb\n",
    "from sklearn.preprocessing import LabelEncoder\n",
    "from sklearn.ensemble import RandomForestClassifier"
   ]
  },
  {
   "cell_type": "code",
   "execution_count": 2,
   "metadata": {},
   "outputs": [],
   "source": [
    "training = ''\n",
    "eventos = ''\n",
    "dummies = ''\n",
    "test = ''\n",
    "\n",
    "# QUEREMOS VER TODAS LAS COLUMNAS/FEATURES.\n",
    "pd.options.display.max_columns = 350"
   ]
  },
  {
   "cell_type": "code",
   "execution_count": 3,
   "metadata": {},
   "outputs": [],
   "source": [
    "## OBTENEMOS TODA LA INFORMACIÓN DEL SET DE ENTRENAMIENTO.\n",
    "training = pd.read_csv('labels_training_set.csv', encoding = 'utf-8')\n",
    "## OBTENEMOS TODA LA INFORMACIÓN DE LOS DIFERENTES EVENTOS.\n",
    "eventos = pd.read_csv('events_up_to_01062018.csv', encoding = 'utf-8')\n",
    "## OBTENEMOS TODA LA INFORMACIÓN A TESTEAR.\n",
    "test = pd.read_csv('trocafone_kaggle_test.csv', encoding = 'utf-8')"
   ]
  },
  {
   "cell_type": "code",
   "execution_count": 4,
   "metadata": {},
   "outputs": [],
   "source": [
    "## PASAMOS LAS COLUMNAS QUE TIENEN UNA CANTIDAD DE VALORES LIMITADA A UN TIPO CATEGORY\n",
    "eventos['person'] = eventos['person'].astype('category')\n",
    "eventos['event'] = eventos['event'].astype('category')\n",
    "eventos['condition'] = eventos['condition'].astype('category')\n",
    "eventos['storage'] = eventos['storage'].astype('category')\n",
    "eventos['search_engine'] = eventos['search_engine'].astype('category')\n",
    "eventos['channel'] = eventos['channel'].astype('category')\n",
    "eventos['new_vs_returning'] = eventos['new_vs_returning'].astype('category')\n",
    "eventos['device_type'] = eventos['device_type'].astype('category')\n",
    "eventos['color'] = eventos['color'].astype('category')\n",
    "eventos['region'] = eventos['region'].astype('category')\n",
    "eventos['country'] = eventos['country'].astype('category')\n",
    "eventos['operating_system_version'] = eventos['operating_system_version'].astype('category')\n",
    "eventos['city'] = eventos['city'].astype('category')\n",
    "eventos['browser_version'] = eventos['browser_version'].astype('category')\n",
    "eventos['screen_resolution'] = eventos['screen_resolution'].astype('category')\n",
    "eventos['model'] = eventos['model'].astype('category')\n",
    "eventos['timestamp'] = pd.to_datetime(eventos['timestamp'], infer_datetime_format=True)"
   ]
  },
  {
   "cell_type": "markdown",
   "metadata": {},
   "source": [
    "### =======================================================================\n",
    "### ARMADO DE FEATURES.\n",
    "### ======================================================================="
   ]
  },
  {
   "cell_type": "code",
   "execution_count": 5,
   "metadata": {},
   "outputs": [],
   "source": [
    "## ORDENAMOS LOS DATOS ṔOR PERSONAS EN PRIMER LUGAR Y TIEMPO EN SEGUNDO.\n",
    "eventos.sort_values(['person', 'timestamp'], ascending=[True, True], inplace=True)\n",
    "## DIFERENCIAMOS EN TRES COLUMNAS DIFERENTES EL DIA, MES Y AÑO.\n",
    "eventos['mes'] = eventos['timestamp'].dt.month\n",
    "eventos['dia'] = eventos['timestamp'].dt.day\n",
    "eventos['hora'] = eventos['timestamp'].dt.hour\n",
    "## ARMAMOS UNA COLUMNA PARA EL DÍA DE LA SEMANA COMO NOMBRE.\n",
    "eventos['diasemana'] = eventos['timestamp'].dt.weekday_name\n",
    "## PONEMOS LOS NOMBRES DE MANERA MÁS PROLIJA PARA LOS GRÁFICOS.\n",
    "eventos.loc[eventos.diasemana.str.contains('Monday', na=False), 'diasemana'] = 'lunes'\n",
    "eventos.loc[eventos.diasemana.str.contains('Tuesday', na=False), 'diasemana'] = 'martes'\n",
    "eventos.loc[eventos.diasemana.str.contains('Wednesday', na=False), 'diasemana'] = 'miercoles'\n",
    "eventos.loc[eventos.diasemana.str.contains('Thursday', na=False), 'diasemana'] = 'jueves'\n",
    "eventos.loc[eventos.diasemana.str.contains('Friday', na=False), 'diasemana'] = 'viernes'\n",
    "eventos.loc[eventos.diasemana.str.contains('Saturday', na=False), 'diasemana'] = 'sabado'\n",
    "eventos.loc[eventos.diasemana.str.contains('Sunday', na=False), 'diasemana'] = 'domingo'\n",
    "# DEFINIMOS UNA LÓGICA PARA INDICAR SI EL DÍA EN QUE SE EJECUTA EL EVENTO ES FIN DE SEMANA.\n",
    "eventos['finde'] = 0\n",
    "eventos.loc[(eventos.diasemana.str.contains('DOM', na=False) | eventos.diasemana.str.contains('SAB', na=False)), 'finde'] = 1\n",
    "# DEFINIMOS EL MES COMO NOMBRE PARA FACILITAR LAS COLUMNAS\n",
    "eventos['mesMayus'] = ''\n",
    "eventos.loc[eventos.mes == 1, 'mesMayus'] = 'enero'\n",
    "eventos.loc[eventos.mes == 2, 'mesMayus'] = 'febrero'\n",
    "eventos.loc[eventos.mes == 3, 'mesMayus'] = 'marzo'\n",
    "eventos.loc[eventos.mes == 4, 'mesMayus'] = 'abril'\n",
    "eventos.loc[eventos.mes == 5, 'mesMayus'] = 'mayo'\n",
    "eventos.loc[eventos.mes == 6, 'mesMayus'] = 'junio'\n",
    "eventos.loc[eventos.mes == 7, 'mesMayus'] = 'julio'\n",
    "eventos.loc[eventos.mes == 8, 'mesMayus'] = 'agosto'\n",
    "eventos.loc[eventos.mes == 9, 'mesMayus'] = 'septiembre'\n",
    "eventos.loc[eventos.mes == 10, 'mesMayus'] = 'octubre'\n",
    "eventos.loc[eventos.mes == 11, 'mesMayus'] = 'noviembre'\n",
    "eventos.loc[eventos.mes == 12, 'mesMayus'] = 'diciembre'\n",
    "# ARMAMOS UNA LÓGICA PARA SEGMENTAR LAS FRANJAS HORARIAS.\n",
    "# MADRUGADA de 00 a 06\n",
    "eventos['hora_madrugada'] = 0\n",
    "eventos.loc[((eventos.hora > -1) & (eventos.hora < 7)), 'hora_madrugada'] = 1\n",
    "# MAÑANA de 07 a 11\n",
    "eventos['hora_maniana'] = 0\n",
    "eventos.loc[((eventos.hora > 6) & (eventos.hora < 12)), 'hora_maniana'] = 1\n",
    "# ALMUERZO de 12 a 13\n",
    "eventos['hora_almuerzo'] = 0\n",
    "eventos.loc[((eventos.hora > 11) & (eventos.hora < 14)), 'hora_almuerzo'] = 1\n",
    "# TARDE de 14 a 18\n",
    "eventos['hora_tarde'] = 0\n",
    "eventos.loc[((eventos.hora > 13) & (eventos.hora < 19)), 'hora_tarde'] = 1\n",
    "# NOCHE de 19 a 23\n",
    "eventos['hora_noche'] = 0\n",
    "eventos.loc[((eventos.hora > 18) & (eventos.hora < 24)), 'hora_noche'] = 1\n",
    "# TRANSFORMAMOS EN CATEGÓRICAS EL DÍA DE LA SEMANA Y EL MES.\n",
    "eventos['diasemana'] = eventos['diasemana'].astype('category')\n",
    "eventos['mesMayus'] = eventos['mesMayus'].astype('category')"
   ]
  },
  {
   "cell_type": "code",
   "execution_count": 6,
   "metadata": {},
   "outputs": [
    {
     "data": {
      "text/plain": [
       "viewed product       1248124\n",
       "brand listing         216312\n",
       "visited site          204069\n",
       "ad campaign hit       191388\n",
       "generic listing       160176\n",
       "searched products     130616\n",
       "search engine hit     106406\n",
       "checkout               65315\n",
       "staticpage             11201\n",
       "conversion              7091\n",
       "lead                     983\n",
       "Name: event, dtype: int64"
      ]
     },
     "execution_count": 6,
     "metadata": {},
     "output_type": "execute_result"
    }
   ],
   "source": [
    "# COMO TENEMOS UN EVENTO CON EL MISMO NOMBRE SE GENERA CONFLICTOS, \n",
    "# ERGO LE MODIFICAMOS EL NOMBRE PARA NO TENER DOS COLUMNAS CON = NOMBRE Y DISTINTO TIPO.\n",
    "eventos.rename(columns={'staticpage': 'Genstatpage'}, inplace=True)\n",
    "eventos['event'].value_counts()"
   ]
  },
  {
   "cell_type": "code",
   "execution_count": 7,
   "metadata": {},
   "outputs": [],
   "source": [
    "# COLUMNAS DONDE POR CADA REGISTRO SABEMOS QUE TENEMOS UN VALOR (SIEMPRE PRESENTES)\n",
    "dummies = pd.get_dummies(eventos['diasemana'], drop_first=False)\n",
    "eventos = pd.concat([eventos, dummies], axis=1)\n",
    "dummies = ''\n",
    "dummies = pd.get_dummies(eventos['mesMayus'], drop_first=False)\n",
    "eventos = pd.concat([eventos, dummies], axis=1)\n",
    "dummies = ''\n",
    "dummies = pd.get_dummies(eventos['event'], drop_first=False)\n",
    "eventos = pd.concat([eventos, dummies], axis=1)\n",
    "dummies = ''"
   ]
  },
  {
   "cell_type": "code",
   "execution_count": 8,
   "metadata": {},
   "outputs": [],
   "source": [
    "# MEJORA UN POCO\n",
    "dummies = pd.get_dummies(eventos['storage'], drop_first=False)\n",
    "eventos = pd.concat([eventos, dummies], axis=1)\n",
    "dummies = ''\n",
    "# MEJORA UN POCO.\n",
    "dummies = pd.get_dummies(eventos['condition'], drop_first=False)\n",
    "eventos = pd.concat([eventos, dummies], axis=1)\n",
    "dummies = ''\n",
    "# EMPEORA UN POCO.\n",
    "#dummies = pd.get_dummies(eventos['color'], drop_first=False)\n",
    "#eventos = pd.concat([eventos, dummies], axis=1)\n",
    "#dummies = ''\n",
    "\n",
    "dummies = pd.get_dummies(eventos['model'], drop_first=False)\n",
    "eventos = pd.concat([eventos, dummies], axis=1)\n",
    "dummies = ''"
   ]
  },
  {
   "cell_type": "code",
   "execution_count": 9,
   "metadata": {},
   "outputs": [],
   "source": [
    "eventos.rename(columns={'generic listing': 'geneList', 'staticpage': 'statpage', 'staticpage': 'SP'}, inplace=True)"
   ]
  },
  {
   "cell_type": "code",
   "execution_count": 10,
   "metadata": {},
   "outputs": [],
   "source": [
    "eventos_filtrados = ''\n",
    "eventos_agrupados = ''\n",
    "agregar = ''\n",
    "\n",
    "columnas_filtrar = list(eventos.select_dtypes(include=['int','float64','uint8']).columns)"
   ]
  },
  {
   "cell_type": "code",
   "execution_count": null,
   "metadata": {},
   "outputs": [],
   "source": [
    "eventos_agrupados = ''\n",
    "eventos_filtrados = ''\n",
    "agrupar = ''\n",
    "\n",
    "columnas_filtrar.remove('sku')\n",
    "columnas_filtrar.append('person')\n",
    "agrupar = eventos.loc[:, eventos.columns.isin(columnas_filtrar)]\n",
    "columnas_filtrar.remove('person')\n",
    "\n",
    "eventos_agrupados = agrupar.groupby('person')[columnas_filtrar].mean().astype(np.float16).reset_index()\n",
    "eventos_filtrados = ''\n",
    "agrupar = ''"
   ]
  },
  {
   "cell_type": "code",
   "execution_count": null,
   "metadata": {},
   "outputs": [],
   "source": [
    "eventos_agrupados.head()"
   ]
  },
  {
   "cell_type": "code",
   "execution_count": null,
   "metadata": {},
   "outputs": [],
   "source": [
    "training.info()"
   ]
  },
  {
   "cell_type": "code",
   "execution_count": null,
   "metadata": {},
   "outputs": [],
   "source": [
    "test.info()"
   ]
  },
  {
   "cell_type": "code",
   "execution_count": null,
   "metadata": {},
   "outputs": [],
   "source": [
    "eventos_agrupados.info()"
   ]
  },
  {
   "cell_type": "code",
   "execution_count": null,
   "metadata": {},
   "outputs": [],
   "source": [
    "## ====================================================================================================================\n",
    "## LO QUE NOS INDICA LA SIGUIENTE INFORMACIÓN ES QUE DE TODO EL SET DE DATOS TENEMOS LA SIGUIENTE CANTIDAD DE PERSONAS:\n",
    "## 38829 ... ESTAS SON TODAS LAS PERSONAS QUE HAY REGISTRADAS EN ESTE SET DE DATOS.\n",
    "## POR OTRO LADO PARA EL SET DE DATOS CON EL QUE VAMOS A HACER EL ENTRENAMIENTO TENEMOS: 19414\n",
    "## Y PARA EL SET DE DATOS CON EL QUE VAMOS A HACER LA PRUEBA TENEMOS: 19415\n",
    "## QUE SUMANDO AMBOS NOS DA EL TOTAL DE PERSONAS REGISTRADAS.\n",
    "## ===================================================================================================================="
   ]
  },
  {
   "cell_type": "code",
   "execution_count": null,
   "metadata": {},
   "outputs": [],
   "source": [
    "training_completo = pd.merge(eventos_agrupados, training, on='person', how='inner')\n",
    "training_completo.info()"
   ]
  },
  {
   "cell_type": "code",
   "execution_count": null,
   "metadata": {},
   "outputs": [],
   "source": [
    "test_completo = pd.merge(eventos_agrupados, test, on='person', how='inner')\n",
    "test_completo.info()"
   ]
  },
  {
   "cell_type": "markdown",
   "metadata": {},
   "source": [
    "### =======================================================================\n",
    "### ENTRENAMIENTO Y PREDICCIÓN.\n",
    "### ======================================================================="
   ]
  },
  {
   "cell_type": "code",
   "execution_count": null,
   "metadata": {},
   "outputs": [],
   "source": [
    "feature_columns_to_use = columnas_filtrar\n",
    "nonnumeric_columns = ['person']"
   ]
  },
  {
   "cell_type": "code",
   "execution_count": null,
   "metadata": {},
   "outputs": [],
   "source": [
    "columnas_filtrar"
   ]
  },
  {
   "cell_type": "code",
   "execution_count": null,
   "metadata": {},
   "outputs": [],
   "source": [
    "y = pd.factorize(training_completo['label'])[0]\n",
    "#columnas_filtrar.remove('person')\n",
    "#train_completo = train_completo[columnas_filtrar]\n",
    "\n",
    "#columnas_filtrar.append('person')\n",
    "training_completo = training_completo.loc[:, training_completo.columns.isin(columnas_filtrar)]\n",
    "# VER COMO OBTENER LAS COLUMNAS ESPECÍFICAS QUE QUEREMOS TRABAJAR.\n",
    "features = training_completo.columns\n",
    "#pd.to_numeric(train_completo, downcast='float')\n",
    "#train_completo.astype(np.float16)\n",
    "#train_completo.info()"
   ]
  },
  {
   "cell_type": "code",
   "execution_count": null,
   "metadata": {},
   "outputs": [],
   "source": [
    "y"
   ]
  },
  {
   "cell_type": "code",
   "execution_count": null,
   "metadata": {},
   "outputs": [],
   "source": [
    "# Creamos un clasificador con Random Forest..\n",
    "clf = RandomForestClassifier(n_jobs=2, random_state=0)\n",
    "# Entrenamos.train_completo[features].astype(float32)\n",
    "clf.fit(training_completo[features], y)"
   ]
  },
  {
   "cell_type": "code",
   "execution_count": null,
   "metadata": {},
   "outputs": [],
   "source": [
    "## Predecimos.\n",
    "test_completo['label'] = 0\n",
    "#prediccion = clf.predict(test_completo[features])"
   ]
  },
  {
   "cell_type": "code",
   "execution_count": null,
   "metadata": {},
   "outputs": [],
   "source": [
    "# REVISAR. todos dan iguales.\n",
    "prediccion = clf.predict_proba(test_completo[features])[:,1]"
   ]
  },
  {
   "cell_type": "code",
   "execution_count": null,
   "metadata": {},
   "outputs": [],
   "source": [
    "#y = np.unique(prueba)\n",
    "prediccion"
   ]
  },
  {
   "cell_type": "code",
   "execution_count": null,
   "metadata": {},
   "outputs": [],
   "source": [
    "#y"
   ]
  },
  {
   "cell_type": "code",
   "execution_count": null,
   "metadata": {},
   "outputs": [],
   "source": [
    "## =================================================================================================\n",
    "## ARMAMOS EN BASE A LA PREDICCIÓN QUE TENEMOS UN CSV PARA SUBIR A KAGGLE CON EL FORMATO INDICADO.\n",
    "## =================================================================================================\n",
    "submission = pd.DataFrame({ 'label': prediccion, 'person': test_completo['person'] })\n",
    "submission.to_csv(\"submission_grupo17_RF.csv\", index=False)"
   ]
  },
  {
   "cell_type": "code",
   "execution_count": null,
   "metadata": {},
   "outputs": [],
   "source": [
    "## RESULTADO DE KAGGLE: 0.71355\n",
    "\n",
    "## HABIENDO AGREGADO LOS FEATURES DEL 'STORAGE' >> MEJORA POCO: 0.71856\n",
    "\n",
    "## HABIENDO AGREGADO LOS FEATURES DEL 'CONDITION' >> MEJORA POCO: 0.72024\n",
    "\n",
    "## HABIENDO AGREGADO LOS FEATURES DEL 'COLOR' >> EMPEORA: 0.70725"
   ]
  }
 ],
 "metadata": {
  "kernelspec": {
   "display_name": "Python 2",
   "language": "python",
   "name": "python2"
  },
  "language_info": {
   "codemirror_mode": {
    "name": "ipython",
    "version": 2
   },
   "file_extension": ".py",
   "mimetype": "text/x-python",
   "name": "python",
   "nbconvert_exporter": "python",
   "pygments_lexer": "ipython2",
   "version": "2.7.14"
  }
 },
 "nbformat": 4,
 "nbformat_minor": 2
}
