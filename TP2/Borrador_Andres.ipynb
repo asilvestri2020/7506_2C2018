{
 "cells": [
  {
   "cell_type": "markdown",
   "metadata": {},
   "source": [
    "### =======================================================================\n",
    "### IMPORTACIÓN DE DATOS.\n",
    "### ======================================================================="
   ]
  },
  {
   "cell_type": "code",
   "execution_count": 1,
   "metadata": {},
   "outputs": [],
   "source": [
    "## IMPORTACIÓN GENERAL DE LIBRERIAS Y VISUALIZACIÓN DE DATOS (matplotlib y seaborn)\n",
    "import pandas as pd\n",
    "import numpy as np\n",
    "import matplotlib.pyplot as plt\n",
    "import seaborn as sns\n",
    "import datetime as DT\n",
    "import warnings\n",
    "%matplotlib inline\n",
    "warnings.filterwarnings('ignore')\n",
    "plt.style.use('default') \n",
    "sns.set(style=\"whitegrid\") \n",
    "plt.rcParams['figure.figsize'] = (15, 10)\n",
    "# Load scikit's random forest classifier library\n",
    "from sklearn.ensemble import RandomForestClassifier"
   ]
  },
  {
   "cell_type": "code",
   "execution_count": 2,
   "metadata": {},
   "outputs": [],
   "source": [
    "## OBTENEMOS TODA LA INFORMACIÓN DEL SET DE ENTRENAMIENTO.\n",
    "training = pd.read_csv('labels_training_set.csv', encoding = 'utf-8')\n",
    "## OBTENEMOS TODA LA INFORMACIÓN DE LOS DIFERENTES EVENTOS.\n",
    "eventos = pd.read_csv('events_up_to_01062018.csv', encoding = 'utf-8')\n",
    "## OBTENEMOS TODA LA INFORMACIÓN A TESTEAR.\n",
    "test = pd.read_csv('trocafone_kaggle_test.csv', encoding = 'utf-8')"
   ]
  },
  {
   "cell_type": "code",
   "execution_count": 3,
   "metadata": {},
   "outputs": [],
   "source": [
    "## PASAMOS LAS COLUMNAS QUE TIENEN UNA CANTIDAD DE VALORES LIMITADA A UN TIPO CATEGORY\n",
    "eventos['event'] = eventos['event'].astype('category')\n",
    "eventos['condition'] = eventos['condition'].astype('category')\n",
    "eventos['storage'] = eventos['storage'].astype('category')\n",
    "eventos['search_engine'] = eventos['search_engine'].astype('category')\n",
    "eventos['channel'] = eventos['channel'].astype('category')\n",
    "eventos['new_vs_returning'] = eventos['new_vs_returning'].astype('category')\n",
    "eventos['device_type'] = eventos['device_type'].astype('category')\n",
    "eventos['color'] = eventos['color'].astype('category')\n",
    "eventos['region'] = eventos['region'].astype('category')\n",
    "eventos['country'] = eventos['country'].astype('category')\n",
    "eventos['operating_system_version'] = eventos['operating_system_version'].astype('category')\n",
    "eventos['city'] = eventos['city'].astype('category')\n",
    "eventos['browser_version'] = eventos['browser_version'].astype('category')\n",
    "eventos['screen_resolution'] = eventos['screen_resolution'].astype('category')\n",
    "eventos['model'] = eventos['model'].astype('category')\n",
    "eventos['timestamp'] = pd.to_datetime(eventos['timestamp'], infer_datetime_format=True)"
   ]
  },
  {
   "cell_type": "markdown",
   "metadata": {},
   "source": [
    "### =======================================================================\n",
    "### ARMADO DE FEATURES.\n",
    "### ======================================================================="
   ]
  },
  {
   "cell_type": "code",
   "execution_count": 4,
   "metadata": {},
   "outputs": [],
   "source": [
    "## ORDENAMOS LOS DATOS ṔOR PERSONAS EN PRIMER LUGAR Y TIEMPO EN SEGUNDO.\n",
    "eventos.sort_values(['person', 'timestamp'], ascending=[True, True], inplace=True)\n",
    "## DIFERENCIAMOS EN TRES COLUMNAS DIFERENTES EL DIA, MES Y AÑO.\n",
    "eventos['mes'] = eventos['timestamp'].dt.month\n",
    "eventos['dia'] = eventos['timestamp'].dt.day\n",
    "eventos['hora'] = eventos['timestamp'].dt.hour\n",
    "## ARMAMOS UNA COLUMNA PARA EL DÍA DE LA SEMANA COMO NOMBRE.\n",
    "eventos['diasemana'] = eventos['timestamp'].dt.weekday_name\n",
    "## PONEMOS LOS NOMBRES DE MANERA MÁS PROLIJA PARA LOS GRÁFICOS.\n",
    "eventos.loc[eventos.diasemana.str.contains('Monday', na=False), 'diasemana'] = 'lunes'\n",
    "eventos.loc[eventos.diasemana.str.contains('Tuesday', na=False), 'diasemana'] = 'martes'\n",
    "eventos.loc[eventos.diasemana.str.contains('Wednesday', na=False), 'diasemana'] = 'miercoles'\n",
    "eventos.loc[eventos.diasemana.str.contains('Thursday', na=False), 'diasemana'] = 'jueves'\n",
    "eventos.loc[eventos.diasemana.str.contains('Friday', na=False), 'diasemana'] = 'viernes'\n",
    "eventos.loc[eventos.diasemana.str.contains('Saturday', na=False), 'diasemana'] = 'sabado'\n",
    "eventos.loc[eventos.diasemana.str.contains('Sunday', na=False), 'diasemana'] = 'domingo'\n",
    "# DEFINIMOS UNA LÓGICA PARA INDICAR SI EL DÍA EN QUE SE EJECUTA EL EVENTO ES FIN DE SEMANA.\n",
    "eventos['finde'] = 0\n",
    "eventos.loc[(eventos.diasemana.str.contains('DOM', na=False) | eventos.diasemana.str.contains('SAB', na=False)), 'finde'] = 1\n",
    "# DEFINIMOS EL MES COMO NOMBRE PARA FACILITAR LAS COLUMNAS\n",
    "eventos['mesMayus'] = ''\n",
    "eventos.loc[eventos.mes == 1, 'mesMayus'] = 'enero'\n",
    "eventos.loc[eventos.mes == 2, 'mesMayus'] = 'febrero'\n",
    "eventos.loc[eventos.mes == 3, 'mesMayus'] = 'marzo'\n",
    "eventos.loc[eventos.mes == 4, 'mesMayus'] = 'abril'\n",
    "eventos.loc[eventos.mes == 5, 'mesMayus'] = 'mayo'\n",
    "eventos.loc[eventos.mes == 6, 'mesMayus'] = 'junio'\n",
    "eventos.loc[eventos.mes == 7, 'mesMayus'] = 'julio'\n",
    "eventos.loc[eventos.mes == 8, 'mesMayus'] = 'agosto'\n",
    "eventos.loc[eventos.mes == 9, 'mesMayus'] = 'septiembre'\n",
    "eventos.loc[eventos.mes == 10, 'mesMayus'] = 'octubre'\n",
    "eventos.loc[eventos.mes == 11, 'mesMayus'] = 'noviembre'\n",
    "eventos.loc[eventos.mes == 12, 'mesMayus'] = 'diciembre'\n",
    "# ARMAMOS UNA LÓGICA PARA SEGMENTAR LAS FRANJAS HORARIAS.\n",
    "# MADRUGADA de 00 a 06\n",
    "eventos['hora_madrugada'] = 0\n",
    "eventos.loc[((eventos.hora > -1) & (eventos.hora < 7)), 'hora_madrugada'] = 1\n",
    "# MAÑANA de 07 a 11\n",
    "eventos['hora_mañana'] = 0\n",
    "eventos.loc[((eventos.hora > 6) & (eventos.hora < 12)), 'hora_mañana'] = 1\n",
    "# ALMUERZO de 12 a 13\n",
    "eventos['hora_almuerzo'] = 0\n",
    "eventos.loc[((eventos.hora > 11) & (eventos.hora < 14)), 'hora_almuerzo'] = 1\n",
    "# TARDE de 14 a 18\n",
    "eventos['hora_tarde'] = 0\n",
    "eventos.loc[((eventos.hora > 13) & (eventos.hora < 19)), 'hora_tarde'] = 1\n",
    "# NOCHE de 19 a 23\n",
    "eventos['hora_noche'] = 0\n",
    "eventos.loc[((eventos.hora > 18) & (eventos.hora < 24)), 'hora_noche'] = 1\n",
    "# TRANSFORMAMOS EN CATEGÓRICAS EL DÍA DE LA SEMANA Y EL MES.\n",
    "eventos['diasemana'] = eventos['diasemana'].astype('category')\n",
    "eventos['mesMayus'] = eventos['mesMayus'].astype('category')"
   ]
  },
  {
   "cell_type": "code",
   "execution_count": 5,
   "metadata": {},
   "outputs": [
    {
     "name": "stdout",
     "output_type": "stream",
     "text": [
      "<class 'pandas.core.frame.DataFrame'>\n",
      "Int64Index: 2341681 entries, 1507286 to 1504503\n",
      "Data columns (total 34 columns):\n",
      "timestamp                   datetime64[ns]\n",
      "event                       category\n",
      "person                      object\n",
      "url                         object\n",
      "sku                         float64\n",
      "model                       category\n",
      "condition                   category\n",
      "storage                     category\n",
      "color                       category\n",
      "skus                        object\n",
      "search_term                 object\n",
      "staticpage                  object\n",
      "campaign_source             object\n",
      "search_engine               category\n",
      "channel                     category\n",
      "new_vs_returning            category\n",
      "city                        category\n",
      "region                      category\n",
      "country                     category\n",
      "device_type                 category\n",
      "screen_resolution           category\n",
      "operating_system_version    category\n",
      "browser_version             category\n",
      "mes                         int64\n",
      "dia                         int64\n",
      "hora                        int64\n",
      "diasemana                   category\n",
      "finde                       int64\n",
      "mesMayus                    category\n",
      "hora_madrugada              int64\n",
      "hora_mañana                 int64\n",
      "hora_almuerzo               int64\n",
      "hora_tarde                  int64\n",
      "hora_noche                  int64\n",
      "dtypes: category(17), datetime64[ns](1), float64(1), int64(9), object(6)\n",
      "memory usage: 370.9+ MB\n"
     ]
    }
   ],
   "source": [
    "eventos.info()"
   ]
  },
  {
   "cell_type": "code",
   "execution_count": 6,
   "metadata": {},
   "outputs": [],
   "source": [
    "# COLUMNAS DONDE POR CADA REGISTRO SABEMOS QUE TENEMOS UN VALOR (SIEMPRE PRESENTES)\n",
    "dummies_diasemana = pd.get_dummies(eventos['diasemana'], drop_first=False)\n",
    "eventos = pd.concat([eventos, dummies_diasemana], axis=1)\n",
    "dummies_mesMayus = pd.get_dummies(eventos['mesMayus'], drop_first=False)\n",
    "eventos = pd.concat([eventos, dummies_mesMayus], axis=1)\n",
    "dummies_event = pd.get_dummies(eventos['event'], drop_first=False)\n",
    "eventos = pd.concat([eventos, dummies_event], axis=1)"
   ]
  },
  {
   "cell_type": "code",
   "execution_count": 7,
   "metadata": {},
   "outputs": [],
   "source": [
    "## ESTAS COLUMNAS NO APARECEN SIEMPRE, PUESTO QUE SOLO APARECEN SEGÚN EL TIPO DE EVENTO.\n",
    "dummies_color = pd.get_dummies(eventos['color'], drop_first=False)\n",
    "eventos = pd.concat([eventos, dummies_color], axis=1)\n",
    "dummies_model = pd.get_dummies(eventos['model'], drop_first=False)\n",
    "eventos = pd.concat([eventos, dummies_model], axis=1)\n",
    "dummies_condition = pd.get_dummies(eventos['condition'], drop_first=False)\n",
    "eventos = pd.concat([eventos, dummies_condition], axis=1)\n",
    "dummies_storage = pd.get_dummies(eventos['storage'], drop_first=False)\n",
    "eventos = pd.concat([eventos, dummies_storage], axis=1)"
   ]
  },
  {
   "cell_type": "code",
   "execution_count": null,
   "metadata": {
    "scrolled": true
   },
   "outputs": [],
   "source": [
    "columnas_filtrar = list(eventos.select_dtypes(include=['int','float64','uint8']).columns)\n",
    "\n",
    "columnas_filtrar.remove('sku')\n",
    "columnas_filtrar.remove('staticpage')\n",
    "columnas_filtrar.append('person')\n",
    "asd = eventos.loc[:, eventos.columns.isin(columnas_filtrar)]\n",
    "columnas_filtrar.remove('person')\n",
    "\n",
    "eventos_agrupados = asd.groupby('person')[columnas_filtrar]\n",
    "\n",
    "\n",
    "#asd.head()\n",
    "#grouped_df = eventos.groupby('person').mean().reset_index()\n",
    "#entrenar = pd.](grouped_df)"
   ]
  },
  {
   "cell_type": "markdown",
   "metadata": {},
   "source": [
    "### =======================================================================\n",
    "### ENTRENAMIENTO Y PREDICCIÓN.\n",
    "### ======================================================================="
   ]
  },
  {
   "cell_type": "code",
   "execution_count": 9,
   "metadata": {},
   "outputs": [
    {
     "name": "stdout",
     "output_type": "stream",
     "text": [
      "<class 'pandas.core.frame.DataFrame'>\n",
      "Int64Index: 1171886 entries, 0 to 1171885\n",
      "Columns: 342 entries, person to 8GB\n",
      "dtypes: category(17), datetime64[ns](1), float64(1), int64(10), object(6), uint8(307)\n",
      "memory usage: 537.7+ MB\n"
     ]
    }
   ],
   "source": [
    "train_completo = pd.merge(training, eventos, on='person', how='left')\n",
    "train_completo.dropna(subset=['person']) \n",
    "train_completo.info()"
   ]
  },
  {
   "cell_type": "code",
   "execution_count": 10,
   "metadata": {},
   "outputs": [],
   "source": [
    "y = pd.factorize(train_completo['label'])[0]\n",
    "train_completo = train_completo[['mes','dia','hora','finde','hora_madrugada','hora_mañana','hora_almuerzo','hora_tarde','hora_noche','domingo','jueves','lunes','martes','miercoles','sabado','viernes','abril','enero','febrero','marzo','mayo']]\n",
    "# VER COMO OBTENER LAS COLUMNAS \n",
    "# ESPECÍFICAS QUE QUEREMOS TRABAJAR.\n",
    "features = train_completo.columns"
   ]
  },
  {
   "cell_type": "code",
   "execution_count": 11,
   "metadata": {},
   "outputs": [
    {
     "data": {
      "text/plain": [
       "array([0, 0, 0, ..., 0, 0, 0])"
      ]
     },
     "execution_count": 11,
     "metadata": {},
     "output_type": "execute_result"
    }
   ],
   "source": [
    "y"
   ]
  },
  {
   "cell_type": "code",
   "execution_count": 12,
   "metadata": {},
   "outputs": [
    {
     "data": {
      "text/plain": [
       "RandomForestClassifier(bootstrap=True, class_weight=None, criterion='gini',\n",
       "            max_depth=None, max_features='auto', max_leaf_nodes=None,\n",
       "            min_impurity_decrease=0.0, min_impurity_split=None,\n",
       "            min_samples_leaf=1, min_samples_split=2,\n",
       "            min_weight_fraction_leaf=0.0, n_estimators=10, n_jobs=2,\n",
       "            oob_score=False, random_state=0, verbose=0, warm_start=False)"
      ]
     },
     "execution_count": 12,
     "metadata": {},
     "output_type": "execute_result"
    }
   ],
   "source": [
    "# Creamos un clasificador con Random Forest..\n",
    "clf = RandomForestClassifier(n_jobs=2, random_state=0)\n",
    "# Entrenamos.\n",
    "clf.fit(train_completo[features], y)"
   ]
  },
  {
   "cell_type": "code",
   "execution_count": 13,
   "metadata": {},
   "outputs": [
    {
     "data": {
      "text/plain": [
       "array([0, 0, 0, ..., 0, 0, 0])"
      ]
     },
     "execution_count": 13,
     "metadata": {},
     "output_type": "execute_result"
    }
   ],
   "source": [
    "# Predecimos.\n",
    "eventos['label'] = 0\n",
    "clf.predict(eventos[features])"
   ]
  },
  {
   "cell_type": "code",
   "execution_count": 14,
   "metadata": {},
   "outputs": [],
   "source": [
    "# REVISAR. todos dan iguales.\n",
    "prueba = clf.predict_proba(eventos[features])[0:10000]"
   ]
  },
  {
   "cell_type": "code",
   "execution_count": 15,
   "metadata": {},
   "outputs": [],
   "source": [
    "y = np.unique(prueba)"
   ]
  },
  {
   "cell_type": "code",
   "execution_count": 16,
   "metadata": {},
   "outputs": [
    {
     "data": {
      "text/plain": [
       "array([0.        , 0.00263289, 0.00326545, ..., 0.99673455, 0.99736711,\n",
       "       1.        ])"
      ]
     },
     "execution_count": 16,
     "metadata": {},
     "output_type": "execute_result"
    }
   ],
   "source": [
    "y"
   ]
  },
  {
   "cell_type": "code",
   "execution_count": null,
   "metadata": {},
   "outputs": [],
   "source": []
  }
 ],
 "metadata": {
  "kernelspec": {
   "display_name": "Python 2",
   "language": "python",
   "name": "python2"
  },
  "language_info": {
   "codemirror_mode": {
    "name": "ipython",
    "version": 2
   },
   "file_extension": ".py",
   "mimetype": "text/x-python",
   "name": "python",
   "nbconvert_exporter": "python",
   "pygments_lexer": "ipython2",
   "version": "2.7.14"
  }
 },
 "nbformat": 4,
 "nbformat_minor": 2
}
