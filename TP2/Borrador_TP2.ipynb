{
 "cells": [
  {
   "cell_type": "code",
   "execution_count": 39,
   "metadata": {},
   "outputs": [],
   "source": [
    "## IMPORTACIÓN GENERAL DE LIBRERIAS Y VISUALIZACIÓN DE DATOS (matplotlib y seaborn)\n",
    "import pandas as pd\n",
    "import numpy as np\n",
    "import matplotlib.pyplot as plt\n",
    "import seaborn as sns\n",
    "import datetime as DT\n",
    "import warnings\n",
    "%matplotlib inline\n",
    "warnings.filterwarnings('ignore')\n",
    "plt.style.use('default') \n",
    "sns.set(style=\"whitegrid\") \n",
    "plt.rcParams['figure.figsize'] = (15, 10)\n",
    "# Load scikit's random forest classifier library\n",
    "from sklearn.ensemble import RandomForestClassifier"
   ]
  },
  {
   "cell_type": "code",
   "execution_count": 40,
   "metadata": {},
   "outputs": [],
   "source": [
    "## OBTENEMOS TODA LA INFORMACIÓN DEL SET DE ENTRENAMIENTO.\n",
    "training = pd.read_csv('labels_training_set.csv', encoding = 'utf-8')\n",
    "## OBTENEMOS TODA LA INFORMACIÓN DE LOS DIFERENTES EVENTOS.\n",
    "eventos = pd.read_csv('events_up_to_01062018.csv', encoding = 'utf-8')\n",
    "## OBTENEMOS TODA LA INFORMACIÓN A TESTEAR.\n",
    "test = pd.read_csv('trocafone_kaggle_test.csv', encoding = 'utf-8')"
   ]
  },
  {
   "cell_type": "code",
   "execution_count": 41,
   "metadata": {},
   "outputs": [],
   "source": [
    "## PASAMOS LAS COLUMNAS QUE TIENEN UNA CANTIDAD DE VALORES LIMITADA A UN TIPO CATEGORY\n",
    "eventos['event'] = eventos['event'].astype('category')\n",
    "eventos['condition'] = eventos['condition'].astype('category')\n",
    "eventos['storage'] = eventos['storage'].astype('category')\n",
    "eventos['search_engine'] = eventos['search_engine'].astype('category')\n",
    "eventos['channel'] = eventos['channel'].astype('category')\n",
    "eventos['new_vs_returning'] = eventos['new_vs_returning'].astype('category')\n",
    "eventos['device_type'] = eventos['device_type'].astype('category')\n",
    "eventos['color'] = eventos['color'].astype('category')\n",
    "eventos['region'] = eventos['region'].astype('category')\n",
    "eventos['country'] = eventos['country'].astype('category')\n",
    "eventos['operating_system_version'] = eventos['operating_system_version'].astype('category')\n",
    "eventos['city'] = eventos['city'].astype('category')\n",
    "eventos['browser_version'] = eventos['browser_version'].astype('category')\n",
    "eventos['screen_resolution'] = eventos['screen_resolution'].astype('category')\n",
    "eventos['timestamp'] = pd.to_datetime(eventos['timestamp'], infer_datetime_format=True)"
   ]
  },
  {
   "cell_type": "code",
   "execution_count": 48,
   "metadata": {},
   "outputs": [
    {
     "name": "stdout",
     "output_type": "stream",
     "text": [
      "<class 'pandas.core.frame.DataFrame'>\n",
      "Int64Index: 1171886 entries, 0 to 1171885\n",
      "Data columns (total 24 columns):\n",
      "person                      1171886 non-null object\n",
      "label                       1171886 non-null int64\n",
      "timestamp                   1171886 non-null datetime64[ns]\n",
      "event                       1171886 non-null category\n",
      "url                         94875 non-null object\n",
      "sku                         665336 non-null float64\n",
      "model                       665767 non-null object\n",
      "condition                   665336 non-null category\n",
      "storage                     665336 non-null category\n",
      "color                       665336 non-null category\n",
      "skus                        249587 non-null object\n",
      "search_term                 55774 non-null object\n",
      "staticpage                  5660 non-null object\n",
      "campaign_source             94940 non-null object\n",
      "search_engine               52829 non-null category\n",
      "channel                     102299 non-null category\n",
      "new_vs_returning            102299 non-null category\n",
      "city                        102299 non-null category\n",
      "region                      102299 non-null category\n",
      "country                     102299 non-null category\n",
      "device_type                 102299 non-null category\n",
      "screen_resolution           102297 non-null category\n",
      "operating_system_version    102299 non-null category\n",
      "browser_version             102299 non-null category\n",
      "dtypes: category(14), datetime64[ns](1), float64(1), int64(1), object(7)\n",
      "memory usage: 118.6+ MB\n"
     ]
    }
   ],
   "source": [
    "train_completo = pd.merge(training, eventos, on='person', how='left')\n",
    "train_completo.info()"
   ]
  },
  {
   "cell_type": "code",
   "execution_count": 49,
   "metadata": {},
   "outputs": [],
   "source": [
    "## CREAMOS UNA COLUMNA PARA DIFERENCIAR LA CONDICION.\n",
    "train_completo['dia_semana'] = train_completo['timestamp'].dt.day\n",
    "train_completo['mes'] = train_completo['timestamp'].dt.month\n",
    "train_completo['anio'] = train_completo['timestamp'].dt.year\n"
   ]
  },
  {
   "cell_type": "code",
   "execution_count": 50,
   "metadata": {},
   "outputs": [
    {
     "name": "stdout",
     "output_type": "stream",
     "text": [
      "<class 'pandas.core.frame.DataFrame'>\n",
      "Int64Index: 1171886 entries, 0 to 1171885\n",
      "Data columns (total 27 columns):\n",
      "person                      1171886 non-null object\n",
      "label                       1171886 non-null int64\n",
      "timestamp                   1171886 non-null datetime64[ns]\n",
      "event                       1171886 non-null category\n",
      "url                         94875 non-null object\n",
      "sku                         665336 non-null float64\n",
      "model                       665767 non-null object\n",
      "condition                   665336 non-null category\n",
      "storage                     665336 non-null category\n",
      "color                       665336 non-null category\n",
      "skus                        249587 non-null object\n",
      "search_term                 55774 non-null object\n",
      "staticpage                  5660 non-null object\n",
      "campaign_source             94940 non-null object\n",
      "search_engine               52829 non-null category\n",
      "channel                     102299 non-null category\n",
      "new_vs_returning            102299 non-null category\n",
      "city                        102299 non-null category\n",
      "region                      102299 non-null category\n",
      "country                     102299 non-null category\n",
      "device_type                 102299 non-null category\n",
      "screen_resolution           102297 non-null category\n",
      "operating_system_version    102299 non-null category\n",
      "browser_version             102299 non-null category\n",
      "dia_semana                  1171886 non-null int64\n",
      "mes                         1171886 non-null int64\n",
      "anio                        1171886 non-null int64\n",
      "dtypes: category(14), datetime64[ns](1), float64(1), int64(4), object(7)\n",
      "memory usage: 145.4+ MB\n"
     ]
    }
   ],
   "source": [
    "train_completo.info()"
   ]
  },
  {
   "cell_type": "code",
   "execution_count": 51,
   "metadata": {},
   "outputs": [],
   "source": []
  },
  {
   "cell_type": "code",
   "execution_count": 52,
   "metadata": {},
   "outputs": [],
   "source": [
    "y = pd.factorize(train_completo['label'])[0]\n",
    "train_completo = train_completo[['dia_semana','mes','anio']]\n",
    "# VER COMO OBTENER LAS COLUMNAS \n",
    "# ESPECÍFICAS QUE QUEREMOS TRABAJAR.\n",
    "features = train_completo.columns"
   ]
  },
  {
   "cell_type": "code",
   "execution_count": 53,
   "metadata": {},
   "outputs": [
    {
     "data": {
      "text/plain": [
       "array([0, 0, 0, ..., 0, 0, 0])"
      ]
     },
     "execution_count": 53,
     "metadata": {},
     "output_type": "execute_result"
    }
   ],
   "source": [
    "y"
   ]
  },
  {
   "cell_type": "code",
   "execution_count": 54,
   "metadata": {},
   "outputs": [
    {
     "data": {
      "text/plain": [
       "RandomForestClassifier(bootstrap=True, class_weight=None, criterion='gini',\n",
       "            max_depth=None, max_features='auto', max_leaf_nodes=None,\n",
       "            min_impurity_decrease=0.0, min_impurity_split=None,\n",
       "            min_samples_leaf=1, min_samples_split=2,\n",
       "            min_weight_fraction_leaf=0.0, n_estimators=10, n_jobs=2,\n",
       "            oob_score=False, random_state=0, verbose=0, warm_start=False)"
      ]
     },
     "execution_count": 54,
     "metadata": {},
     "output_type": "execute_result"
    }
   ],
   "source": [
    "# Creamos un clasificador con Random Forest..\n",
    "clf = RandomForestClassifier(n_jobs=2, random_state=0)\n",
    "\n",
    "# Train the Classifier to take the training features and learn how they relate\n",
    "# to the training y (the species)\n",
    "clf.fit(train_completo[features], y)"
   ]
  },
  {
   "cell_type": "code",
   "execution_count": 55,
   "metadata": {},
   "outputs": [],
   "source": [
    "eventos['dia_semana'] = eventos['timestamp'].dt.day\n",
    "eventos['mes'] = eventos['timestamp'].dt.month\n",
    "eventos['anio'] = eventos['timestamp'].dt.year"
   ]
  },
  {
   "cell_type": "code",
   "execution_count": 56,
   "metadata": {},
   "outputs": [
    {
     "data": {
      "text/plain": [
       "array([0, 0, 0, ..., 0, 0, 0])"
      ]
     },
     "execution_count": 56,
     "metadata": {},
     "output_type": "execute_result"
    }
   ],
   "source": [
    "clf.predict(eventos[features])"
   ]
  },
  {
   "cell_type": "code",
   "execution_count": 58,
   "metadata": {},
   "outputs": [
    {
     "data": {
      "text/plain": [
       "array([[0.95189959, 0.04810041],\n",
       "       [0.95189959, 0.04810041],\n",
       "       [0.95189959, 0.04810041],\n",
       "       [0.95189959, 0.04810041],\n",
       "       [0.95189959, 0.04810041],\n",
       "       [0.95189959, 0.04810041],\n",
       "       [0.95189959, 0.04810041],\n",
       "       [0.95189959, 0.04810041],\n",
       "       [0.95189959, 0.04810041],\n",
       "       [0.95189959, 0.04810041],\n",
       "       [0.95189959, 0.04810041],\n",
       "       [0.95189959, 0.04810041],\n",
       "       [0.95189959, 0.04810041],\n",
       "       [0.95189959, 0.04810041],\n",
       "       [0.95189959, 0.04810041],\n",
       "       [0.95189959, 0.04810041],\n",
       "       [0.95189959, 0.04810041],\n",
       "       [0.95189959, 0.04810041],\n",
       "       [0.95189959, 0.04810041],\n",
       "       [0.95189959, 0.04810041],\n",
       "       [0.95189959, 0.04810041],\n",
       "       [0.95189959, 0.04810041],\n",
       "       [0.95189959, 0.04810041],\n",
       "       [0.95189959, 0.04810041],\n",
       "       [0.95189959, 0.04810041],\n",
       "       [0.95189959, 0.04810041],\n",
       "       [0.95189959, 0.04810041],\n",
       "       [0.95189959, 0.04810041],\n",
       "       [0.95189959, 0.04810041],\n",
       "       [0.95189959, 0.04810041],\n",
       "       [0.95189959, 0.04810041],\n",
       "       [0.95189959, 0.04810041],\n",
       "       [0.95189959, 0.04810041],\n",
       "       [0.95189959, 0.04810041],\n",
       "       [0.95189959, 0.04810041],\n",
       "       [0.95189959, 0.04810041],\n",
       "       [0.95189959, 0.04810041],\n",
       "       [0.95189959, 0.04810041],\n",
       "       [0.95189959, 0.04810041],\n",
       "       [0.95189959, 0.04810041],\n",
       "       [0.95189959, 0.04810041],\n",
       "       [0.95189959, 0.04810041],\n",
       "       [0.95189959, 0.04810041],\n",
       "       [0.95189959, 0.04810041],\n",
       "       [0.95189959, 0.04810041],\n",
       "       [0.95189959, 0.04810041],\n",
       "       [0.95189959, 0.04810041],\n",
       "       [0.95189959, 0.04810041],\n",
       "       [0.95189959, 0.04810041],\n",
       "       [0.95189959, 0.04810041],\n",
       "       [0.95189959, 0.04810041],\n",
       "       [0.95189959, 0.04810041],\n",
       "       [0.95189959, 0.04810041],\n",
       "       [0.95189959, 0.04810041],\n",
       "       [0.95189959, 0.04810041],\n",
       "       [0.95189959, 0.04810041],\n",
       "       [0.95189959, 0.04810041],\n",
       "       [0.95189959, 0.04810041],\n",
       "       [0.95189959, 0.04810041],\n",
       "       [0.95189959, 0.04810041],\n",
       "       [0.95189959, 0.04810041],\n",
       "       [0.95189959, 0.04810041],\n",
       "       [0.95189959, 0.04810041],\n",
       "       [0.95189959, 0.04810041],\n",
       "       [0.95189959, 0.04810041],\n",
       "       [0.95189959, 0.04810041],\n",
       "       [0.95189959, 0.04810041],\n",
       "       [0.95189959, 0.04810041],\n",
       "       [0.95189959, 0.04810041],\n",
       "       [0.95189959, 0.04810041],\n",
       "       [0.95189959, 0.04810041],\n",
       "       [0.95189959, 0.04810041],\n",
       "       [0.95189959, 0.04810041],\n",
       "       [0.95189959, 0.04810041],\n",
       "       [0.95189959, 0.04810041],\n",
       "       [0.95189959, 0.04810041],\n",
       "       [0.95189959, 0.04810041],\n",
       "       [0.95189959, 0.04810041],\n",
       "       [0.95189959, 0.04810041],\n",
       "       [0.95189959, 0.04810041],\n",
       "       [0.95189959, 0.04810041],\n",
       "       [0.95189959, 0.04810041],\n",
       "       [0.95189959, 0.04810041],\n",
       "       [0.95189959, 0.04810041],\n",
       "       [0.95189959, 0.04810041],\n",
       "       [0.95189959, 0.04810041],\n",
       "       [0.95189959, 0.04810041],\n",
       "       [0.95189959, 0.04810041],\n",
       "       [0.95189959, 0.04810041],\n",
       "       [0.95189959, 0.04810041],\n",
       "       [0.95189959, 0.04810041],\n",
       "       [0.95189959, 0.04810041],\n",
       "       [0.95189959, 0.04810041],\n",
       "       [0.95189959, 0.04810041],\n",
       "       [0.95189959, 0.04810041],\n",
       "       [0.95189959, 0.04810041],\n",
       "       [0.95189959, 0.04810041],\n",
       "       [0.95189959, 0.04810041],\n",
       "       [0.95189959, 0.04810041],\n",
       "       [0.95189959, 0.04810041],\n",
       "       [0.95189959, 0.04810041],\n",
       "       [0.95189959, 0.04810041],\n",
       "       [0.95189959, 0.04810041],\n",
       "       [0.95189959, 0.04810041],\n",
       "       [0.95189959, 0.04810041],\n",
       "       [0.95189959, 0.04810041],\n",
       "       [0.95189959, 0.04810041],\n",
       "       [0.95189959, 0.04810041],\n",
       "       [0.95189959, 0.04810041],\n",
       "       [0.95189959, 0.04810041],\n",
       "       [0.95189959, 0.04810041],\n",
       "       [0.95189959, 0.04810041],\n",
       "       [0.95189959, 0.04810041],\n",
       "       [0.95189959, 0.04810041],\n",
       "       [0.95189959, 0.04810041],\n",
       "       [0.95189959, 0.04810041],\n",
       "       [0.95189959, 0.04810041],\n",
       "       [0.95189959, 0.04810041],\n",
       "       [0.95189959, 0.04810041],\n",
       "       [0.95189959, 0.04810041],\n",
       "       [0.95189959, 0.04810041],\n",
       "       [0.95189959, 0.04810041],\n",
       "       [0.95189959, 0.04810041],\n",
       "       [0.95189959, 0.04810041],\n",
       "       [0.95189959, 0.04810041],\n",
       "       [0.95189959, 0.04810041],\n",
       "       [0.95189959, 0.04810041],\n",
       "       [0.95189959, 0.04810041],\n",
       "       [0.95189959, 0.04810041],\n",
       "       [0.95189959, 0.04810041],\n",
       "       [0.95189959, 0.04810041],\n",
       "       [0.95189959, 0.04810041],\n",
       "       [0.95189959, 0.04810041],\n",
       "       [0.95189959, 0.04810041],\n",
       "       [0.95189959, 0.04810041],\n",
       "       [0.95189959, 0.04810041],\n",
       "       [0.95189959, 0.04810041],\n",
       "       [0.95189959, 0.04810041],\n",
       "       [0.95189959, 0.04810041],\n",
       "       [0.95189959, 0.04810041],\n",
       "       [0.95189959, 0.04810041],\n",
       "       [0.95189959, 0.04810041],\n",
       "       [0.95189959, 0.04810041],\n",
       "       [0.95189959, 0.04810041],\n",
       "       [0.95189959, 0.04810041],\n",
       "       [0.95189959, 0.04810041],\n",
       "       [0.95189959, 0.04810041],\n",
       "       [0.95189959, 0.04810041],\n",
       "       [0.95189959, 0.04810041],\n",
       "       [0.95189959, 0.04810041]])"
      ]
     },
     "execution_count": 58,
     "metadata": {},
     "output_type": "execute_result"
    }
   ],
   "source": [
    "# REVISAR.\n",
    "clf.predict_proba(eventos[features])[0:150]"
   ]
  },
  {
   "cell_type": "code",
   "execution_count": null,
   "metadata": {},
   "outputs": [],
   "source": []
  }
 ],
 "metadata": {
  "kernelspec": {
   "display_name": "Python 2",
   "language": "python",
   "name": "python2"
  },
  "language_info": {
   "codemirror_mode": {
    "name": "ipython",
    "version": 2
   },
   "file_extension": ".py",
   "mimetype": "text/x-python",
   "name": "python",
   "nbconvert_exporter": "python",
   "pygments_lexer": "ipython2",
   "version": "2.7.14"
  }
 },
 "nbformat": 4,
 "nbformat_minor": 2
}
