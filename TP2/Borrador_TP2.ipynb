{
 "cells": [
  {
   "cell_type": "code",
   "execution_count": 2,
   "metadata": {},
   "outputs": [],
   "source": [
    "## IMPORTACIÓN GENERAL DE LIBRERIAS Y VISUALIZACIÓN DE DATOS (matplotlib y seaborn)\n",
    "import pandas as pd\n",
    "import numpy as np\n",
    "import matplotlib.pyplot as plt\n",
    "import seaborn as sns\n",
    "import datetime as DT\n",
    "import warnings\n",
    "%matplotlib inline\n",
    "warnings.filterwarnings('ignore')\n",
    "plt.style.use('default') \n",
    "sns.set(style=\"whitegrid\") \n",
    "plt.rcParams['figure.figsize'] = (15, 10)\n",
    "# Load scikit's random forest classifier library\n",
    "from sklearn.ensemble import RandomForestClassifier"
   ]
  },
  {
   "cell_type": "code",
   "execution_count": 3,
   "metadata": {},
   "outputs": [],
   "source": [
    "## OBTENEMOS TODA LA INFORMACIÓN DEL SET DE ENTRENAMIENTO.\n",
    "training = pd.read_csv('labels_training_set.csv', encoding = 'utf-8')\n",
    "## OBTENEMOS TODA LA INFORMACIÓN DE LOS DIFERENTES EVENTOS.\n",
    "eventos = pd.read_csv('events_up_to_01062018.csv', encoding = 'utf-8')\n",
    "## OBTENEMOS TODA LA INFORMACIÓN A TESTEAR.\n",
    "test = pd.read_csv('trocafone_kaggle_test.csv', encoding = 'utf-8')"
   ]
  },
  {
   "cell_type": "code",
   "execution_count": 4,
   "metadata": {},
   "outputs": [],
   "source": [
    "## PASAMOS LAS COLUMNAS QUE TIENEN UNA CANTIDAD DE VALORES LIMITADA A UN TIPO CATEGORY\n",
    "eventos['event'] = eventos['event'].astype('category')\n",
    "eventos['condition'] = eventos['condition'].astype('category')\n",
    "eventos['storage'] = eventos['storage'].astype('category')\n",
    "eventos['search_engine'] = eventos['search_engine'].astype('category')\n",
    "eventos['channel'] = eventos['channel'].astype('category')\n",
    "eventos['new_vs_returning'] = eventos['new_vs_returning'].astype('category')\n",
    "eventos['device_type'] = eventos['device_type'].astype('category')\n",
    "eventos['color'] = eventos['color'].astype('category')\n",
    "eventos['region'] = eventos['region'].astype('category')\n",
    "eventos['country'] = eventos['country'].astype('category')\n",
    "eventos['operating_system_version'] = eventos['operating_system_version'].astype('category')\n",
    "eventos['city'] = eventos['city'].astype('category')\n",
    "eventos['browser_version'] = eventos['browser_version'].astype('category')\n",
    "eventos['screen_resolution'] = eventos['screen_resolution'].astype('category')\n",
    "eventos['timestamp'] = pd.to_datetime(eventos['timestamp'], infer_datetime_format=True)"
   ]
  },
  {
   "cell_type": "code",
   "execution_count": 5,
   "metadata": {},
   "outputs": [],
   "source": [
    "## ORDENAMOS LOS DATOS ṔOR PERSONAS EN PRIMER LUGAR Y TIEMPO EN SEGUNDO.\n",
    "eventos.sort_values(['person', 'timestamp'], ascending=[True, True], inplace=True)\n",
    "## DIFERENCIAMOS EN TRES COLUMNAS DIFERENTES EL DIA, MES Y AÑO.\n",
    "eventos['mes'] = eventos['timestamp'].dt.month\n",
    "eventos['dia'] = eventos['timestamp'].dt.day\n",
    "eventos['hora'] = eventos['timestamp'].dt.hour\n",
    "## ARMAMOS UNA COLUMNA PARA EL DÍA DE LA SEMANA COMO NOMBRE.\n",
    "eventos['diasemana'] = eventos['timestamp'].dt.weekday_name\n",
    "## PONEMOS LOS NOMBRES DE MANERA MÁS PROLIJA PARA LOS GRÁFICOS.\n",
    "eventos.loc[eventos.diasemana.str.contains('Monday', na=False), 'diasemana'] = 'lunes'\n",
    "eventos.loc[eventos.diasemana.str.contains('Tuesday', na=False), 'diasemana'] = 'martes'\n",
    "eventos.loc[eventos.diasemana.str.contains('Wednesday', na=False), 'diasemana'] = 'miercoles'\n",
    "eventos.loc[eventos.diasemana.str.contains('Thursday', na=False), 'diasemana'] = 'jueves'\n",
    "eventos.loc[eventos.diasemana.str.contains('Friday', na=False), 'diasemana'] = 'viernes'\n",
    "eventos.loc[eventos.diasemana.str.contains('Saturday', na=False), 'diasemana'] = 'sabado'\n",
    "eventos.loc[eventos.diasemana.str.contains('Sunday', na=False), 'diasemana'] = 'domingo'\n",
    "# DEFINIMOS UNA LÓGICA PARA INDICAR SI EL DÍA EN QUE SE EJECUTA EL EVENTO ES FIN DE SEMANA.\n",
    "eventos['finde'] = 0\n",
    "eventos.loc[(eventos.diasemana.str.contains('DOM', na=False) | eventos.diasemana.str.contains('SAB', na=False)), 'finde'] = 1\n",
    "# DEFINIMOS EL MES COMO NOMBRE PARA FACILITAR LAS COLUMNAS\n",
    "eventos['mesMayus'] = ''\n",
    "eventos.loc[eventos.mes == 1, 'mesMayus'] = 'enero'\n",
    "eventos.loc[eventos.mes == 2, 'mesMayus'] = 'febrero'\n",
    "eventos.loc[eventos.mes == 3, 'mesMayus'] = 'marzo'\n",
    "eventos.loc[eventos.mes == 4, 'mesMayus'] = 'abril'\n",
    "eventos.loc[eventos.mes == 5, 'mesMayus'] = 'mayo'\n",
    "eventos.loc[eventos.mes == 6, 'mesMayus'] = 'junio'\n",
    "eventos.loc[eventos.mes == 7, 'mesMayus'] = 'julio'\n",
    "eventos.loc[eventos.mes == 8, 'mesMayus'] = 'agosto'\n",
    "eventos.loc[eventos.mes == 9, 'mesMayus'] = 'septiembre'\n",
    "eventos.loc[eventos.mes == 10, 'mesMayus'] = 'octubre'\n",
    "eventos.loc[eventos.mes == 11, 'mesMayus'] = 'noviembre'\n",
    "eventos.loc[eventos.mes == 12, 'mesMayus'] = 'diciembre'\n",
    "# ARMAMOS UNA LÓGICA PARA SEGMENTAR LAS FRANJAS HORARIAS.\n",
    "# MADRUGADA de 00 a 06\n",
    "eventos['hora_madrugada'] = 0\n",
    "eventos.loc[((eventos.hora > -1) & (eventos.hora < 7)), 'hora_madrugada'] = 1\n",
    "# MAÑANA de 07 a 11\n",
    "eventos['hora_mañana'] = 0\n",
    "eventos.loc[((eventos.hora > 6) & (eventos.hora < 12)), 'hora_mañana'] = 1\n",
    "# ALMUERZO de 12 a 13\n",
    "eventos['hora_almuerzo'] = 0\n",
    "eventos.loc[((eventos.hora > 11) & (eventos.hora < 14)), 'hora_almuerzo'] = 1\n",
    "# TARDE de 14 a 18\n",
    "eventos['hora_tarde'] = 0\n",
    "eventos.loc[((eventos.hora > 13) & (eventos.hora < 19)), 'hora_tarde'] = 1\n",
    "# NOCHE de 19 a 23\n",
    "eventos['hora_noche'] = 0\n",
    "eventos.loc[((eventos.hora > 18) & (eventos.hora < 24)), 'hora_noche'] = 1\n",
    "# TRANSFORMAMOS EN CATEGÓRICAS EL DÍA DE LA SEMANA Y EL MES.\n",
    "eventos['diasemana'] = eventos['diasemana'].astype('category')\n",
    "eventos['mesMayus'] = eventos['mesMayus'].astype('category')"
   ]
  },
  {
   "cell_type": "code",
   "execution_count": 7,
   "metadata": {},
   "outputs": [],
   "source": [
    "dummies_diasemana = pd.get_dummies(eventos['diasemana'], drop_first=False)\n",
    "\n",
    "eventos = pd.concat([eventos, dummies_diasemana], axis=1)\n",
    "\n",
    "dummies_mesMayus = pd.get_dummies(eventos['mesMayus'], drop_first=False)\n",
    "\n",
    "eventos = pd.concat([eventos, dummies_mesMayus], axis=1)"
   ]
  },
  {
   "cell_type": "code",
   "execution_count": 8,
   "metadata": {},
   "outputs": [
    {
     "name": "stdout",
     "output_type": "stream",
     "text": [
      "<class 'pandas.core.frame.DataFrame'>\n",
      "Int64Index: 1171886 entries, 0 to 1171885\n",
      "Data columns (total 47 columns):\n",
      "person                      1171886 non-null object\n",
      "label                       1171886 non-null int64\n",
      "timestamp                   1171886 non-null datetime64[ns]\n",
      "event                       1171886 non-null category\n",
      "url                         94875 non-null object\n",
      "sku                         665336 non-null float64\n",
      "model                       665767 non-null object\n",
      "condition                   665336 non-null category\n",
      "storage                     665336 non-null category\n",
      "color                       665336 non-null category\n",
      "skus                        249587 non-null object\n",
      "search_term                 55774 non-null object\n",
      "staticpage                  5660 non-null object\n",
      "campaign_source             94940 non-null object\n",
      "search_engine               52829 non-null category\n",
      "channel                     102299 non-null category\n",
      "new_vs_returning            102299 non-null category\n",
      "city                        102299 non-null category\n",
      "region                      102299 non-null category\n",
      "country                     102299 non-null category\n",
      "device_type                 102299 non-null category\n",
      "screen_resolution           102297 non-null category\n",
      "operating_system_version    102299 non-null category\n",
      "browser_version             102299 non-null category\n",
      "mes                         1171886 non-null int64\n",
      "dia                         1171886 non-null int64\n",
      "hora                        1171886 non-null int64\n",
      "diasemana                   1171886 non-null category\n",
      "finde                       1171886 non-null int64\n",
      "mesMayus                    1171886 non-null category\n",
      "hora_madrugada              1171886 non-null int64\n",
      "hora_mañana                 1171886 non-null int64\n",
      "hora_almuerzo               1171886 non-null int64\n",
      "hora_tarde                  1171886 non-null int64\n",
      "hora_noche                  1171886 non-null int64\n",
      "domingo                     1171886 non-null uint8\n",
      "jueves                      1171886 non-null uint8\n",
      "lunes                       1171886 non-null uint8\n",
      "martes                      1171886 non-null uint8\n",
      "miercoles                   1171886 non-null uint8\n",
      "sabado                      1171886 non-null uint8\n",
      "viernes                     1171886 non-null uint8\n",
      "abril                       1171886 non-null uint8\n",
      "enero                       1171886 non-null uint8\n",
      "febrero                     1171886 non-null uint8\n",
      "marzo                       1171886 non-null uint8\n",
      "mayo                        1171886 non-null uint8\n",
      "dtypes: category(16), datetime64[ns](1), float64(1), int64(10), object(7), uint8(12)\n",
      "memory usage: 214.7+ MB\n"
     ]
    }
   ],
   "source": [
    "train_completo = pd.merge(training, eventos, on='person', how='left')\n",
    "train_completo.dropna(subset=['person']) \n",
    "train_completo.info()"
   ]
  },
  {
   "cell_type": "code",
   "execution_count": 9,
   "metadata": {},
   "outputs": [],
   "source": [
    "y = pd.factorize(train_completo['label'])[0]\n",
    "train_completo = train_completo[['mes','dia','hora','finde','hora_madrugada','hora_mañana','hora_almuerzo','hora_tarde','hora_noche','domingo','jueves','lunes','martes','miercoles','sabado','viernes','abril','enero','febrero','marzo','mayo']]\n",
    "# VER COMO OBTENER LAS COLUMNAS \n",
    "# ESPECÍFICAS QUE QUEREMOS TRABAJAR.\n",
    "features = train_completo.columns"
   ]
  },
  {
   "cell_type": "code",
   "execution_count": 10,
   "metadata": {},
   "outputs": [
    {
     "data": {
      "text/plain": [
       "array([0, 0, 0, ..., 0, 0, 0])"
      ]
     },
     "execution_count": 10,
     "metadata": {},
     "output_type": "execute_result"
    }
   ],
   "source": [
    "y"
   ]
  },
  {
   "cell_type": "code",
   "execution_count": 11,
   "metadata": {},
   "outputs": [
    {
     "data": {
      "text/plain": [
       "RandomForestClassifier(bootstrap=True, class_weight=None, criterion='gini',\n",
       "            max_depth=None, max_features='auto', max_leaf_nodes=None,\n",
       "            min_impurity_decrease=0.0, min_impurity_split=None,\n",
       "            min_samples_leaf=1, min_samples_split=2,\n",
       "            min_weight_fraction_leaf=0.0, n_estimators=10, n_jobs=2,\n",
       "            oob_score=False, random_state=0, verbose=0, warm_start=False)"
      ]
     },
     "execution_count": 11,
     "metadata": {},
     "output_type": "execute_result"
    }
   ],
   "source": [
    "# Creamos un clasificador con Random Forest..\n",
    "clf = RandomForestClassifier(n_jobs=2, random_state=0)\n",
    "# Entrenamos.\n",
    "clf.fit(train_completo[features], y)"
   ]
  },
  {
   "cell_type": "code",
   "execution_count": 12,
   "metadata": {},
   "outputs": [
    {
     "data": {
      "text/plain": [
       "array([0, 0, 0, ..., 0, 0, 0])"
      ]
     },
     "execution_count": 12,
     "metadata": {},
     "output_type": "execute_result"
    }
   ],
   "source": [
    "# Predecimos.\n",
    "eventos['label'] = 0\n",
    "clf.predict(eventos[features])"
   ]
  },
  {
   "cell_type": "code",
   "execution_count": 13,
   "metadata": {},
   "outputs": [],
   "source": [
    "# REVISAR. todos dan iguales.\n",
    "prueba = clf.predict_proba(eventos[features])[0:1000]"
   ]
  },
  {
   "cell_type": "code",
   "execution_count": 14,
   "metadata": {},
   "outputs": [],
   "source": [
    "y = np.unique(prueba)"
   ]
  },
  {
   "cell_type": "code",
   "execution_count": 15,
   "metadata": {},
   "outputs": [
    {
     "data": {
      "text/plain": [
       "array([0.01235825, 0.01812917, 0.01849175, 0.01875001, 0.01965383,\n",
       "       0.02193093, 0.02428836, 0.02641002, 0.03184322, 0.03529104,\n",
       "       0.03785505, 0.03791787, 0.03998886, 0.04099342, 0.04166749,\n",
       "       0.04365776, 0.04381605, 0.04452895, 0.04941189, 0.05207888,\n",
       "       0.05265529, 0.05560323, 0.05745559, 0.05766315, 0.05879958,\n",
       "       0.05919772, 0.06007577, 0.06078276, 0.06098996, 0.0643176 ,\n",
       "       0.06491026, 0.06661598, 0.06685586, 0.06872183, 0.06980955,\n",
       "       0.07035905, 0.07192336, 0.07444623, 0.07797967, 0.08167662,\n",
       "       0.08196785, 0.08614193, 0.08759783, 0.08912079, 0.09256653,\n",
       "       0.094044  , 0.09643218, 0.10937078, 0.11211194, 0.1236754 ,\n",
       "       0.13955269, 0.14376049, 0.15597018, 0.15709843, 0.16441547,\n",
       "       0.17199945, 0.22962318, 0.33656206, 0.66343794, 0.77037682,\n",
       "       0.82800055, 0.83558453, 0.84290157, 0.84402982, 0.85623951,\n",
       "       0.86044731, 0.8763246 , 0.88788806, 0.89062922, 0.90356782,\n",
       "       0.905956  , 0.90743347, 0.91087921, 0.91240217, 0.91385807,\n",
       "       0.91803215, 0.91832338, 0.92202033, 0.92555377, 0.92807664,\n",
       "       0.92964095, 0.93019045, 0.93127817, 0.93314414, 0.93338402,\n",
       "       0.93508974, 0.9356824 , 0.93901004, 0.93921724, 0.93992423,\n",
       "       0.94080228, 0.94120042, 0.94233685, 0.94254441, 0.94439677,\n",
       "       0.94734471, 0.94792112, 0.95058811, 0.95547105, 0.95618395,\n",
       "       0.95634224, 0.95833251, 0.95900658, 0.96001114, 0.96208213,\n",
       "       0.96214495, 0.96470896, 0.96815678, 0.97358998, 0.97571164,\n",
       "       0.97806907, 0.98034617, 0.98124999, 0.98150825, 0.98187083,\n",
       "       0.98764175])"
      ]
     },
     "execution_count": 15,
     "metadata": {},
     "output_type": "execute_result"
    }
   ],
   "source": [
    "y"
   ]
  },
  {
   "cell_type": "code",
   "execution_count": null,
   "metadata": {},
   "outputs": [],
   "source": []
  }
 ],
 "metadata": {
  "kernelspec": {
   "display_name": "Python 2",
   "language": "python",
   "name": "python2"
  },
  "language_info": {
   "codemirror_mode": {
    "name": "ipython",
    "version": 2
   },
   "file_extension": ".py",
   "mimetype": "text/x-python",
   "name": "python",
   "nbconvert_exporter": "python",
   "pygments_lexer": "ipython2",
   "version": "2.7.14"
  }
 },
 "nbformat": 4,
 "nbformat_minor": 2
}
