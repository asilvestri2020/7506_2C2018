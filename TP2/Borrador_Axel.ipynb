{
 "cells": [
  {
   "cell_type": "markdown",
   "metadata": {},
   "source": [
    "### =======================================================================\n",
    "### IMPORTACIÓN DE DATOS.\n",
    "### ======================================================================="
   ]
  },
  {
   "cell_type": "code",
   "execution_count": 1,
   "metadata": {},
   "outputs": [
    {
     "name": "stderr",
     "output_type": "stream",
     "text": [
      "C:\\Anaconda\\lib\\site-packages\\sklearn\\cross_validation.py:41: DeprecationWarning: This module was deprecated in version 0.18 in favor of the model_selection module into which all the refactored classes and functions are moved. Also note that the interface of the new CV iterators are different from that of this module. This module will be removed in 0.20.\n",
      "  \"This module will be removed in 0.20.\", DeprecationWarning)\n"
     ]
    }
   ],
   "source": [
    "## IMPORTACIÓN GENERAL DE LIBRERIAS Y VISUALIZACIÓN DE DATOS (matplotlib y seaborn)\n",
    "import pandas as pd\n",
    "import numpy as np\n",
    "import matplotlib.pyplot as plt\n",
    "import seaborn as sns\n",
    "import datetime as DT\n",
    "import warnings\n",
    "from sklearn.ensemble import RandomForestClassifier\n",
    "from sklearn import metrics\n",
    "from sklearn.cross_validation import train_test_split\n",
    "import xgboost as xgb\n",
    "\n",
    "%matplotlib inline\n",
    "warnings.filterwarnings('ignore')\n",
    "plt.style.use('default') \n",
    "sns.set(style=\"whitegrid\") \n",
    "plt.rcParams['figure.figsize'] = (15, 10)\n",
    "pd.set_option('display.max_columns', 1000)\n",
    "np.set_printoptions(threshold=np.nan)"
   ]
  },
  {
   "cell_type": "code",
   "execution_count": 57,
   "metadata": {},
   "outputs": [],
   "source": [
    "## OBTENEMOS TODA LA INFORMACIÓN DE LOS DIFERENTES EVENTOS.\n",
    "eventos = pd.read_csv('events_up_to_01062018.csv', encoding = 'utf-8')"
   ]
  },
  {
   "cell_type": "code",
   "execution_count": 58,
   "metadata": {},
   "outputs": [
    {
     "data": {
      "text/html": [
       "<div>\n",
       "<style scoped>\n",
       "    .dataframe tbody tr th:only-of-type {\n",
       "        vertical-align: middle;\n",
       "    }\n",
       "\n",
       "    .dataframe tbody tr th {\n",
       "        vertical-align: top;\n",
       "    }\n",
       "\n",
       "    .dataframe thead th {\n",
       "        text-align: right;\n",
       "    }\n",
       "</style>\n",
       "<table border=\"1\" class=\"dataframe\">\n",
       "  <thead>\n",
       "    <tr style=\"text-align: right;\">\n",
       "      <th></th>\n",
       "      <th>timestamp</th>\n",
       "      <th>event</th>\n",
       "      <th>person</th>\n",
       "      <th>url</th>\n",
       "      <th>sku</th>\n",
       "      <th>model</th>\n",
       "      <th>condition</th>\n",
       "      <th>storage</th>\n",
       "      <th>color</th>\n",
       "      <th>skus</th>\n",
       "      <th>search_term</th>\n",
       "      <th>staticpage</th>\n",
       "      <th>campaign_source</th>\n",
       "      <th>search_engine</th>\n",
       "      <th>channel</th>\n",
       "      <th>new_vs_returning</th>\n",
       "      <th>city</th>\n",
       "      <th>region</th>\n",
       "      <th>country</th>\n",
       "      <th>device_type</th>\n",
       "      <th>screen_resolution</th>\n",
       "      <th>operating_system_version</th>\n",
       "      <th>browser_version</th>\n",
       "    </tr>\n",
       "  </thead>\n",
       "  <tbody>\n",
       "    <tr>\n",
       "      <th>0</th>\n",
       "      <td>2018-05-18 00:11:59</td>\n",
       "      <td>viewed product</td>\n",
       "      <td>4886f805</td>\n",
       "      <td>NaN</td>\n",
       "      <td>9288.0</td>\n",
       "      <td>Samsung Galaxy J7 Prime</td>\n",
       "      <td>Excelente</td>\n",
       "      <td>32GB</td>\n",
       "      <td>Dourado</td>\n",
       "      <td>NaN</td>\n",
       "      <td>NaN</td>\n",
       "      <td>NaN</td>\n",
       "      <td>NaN</td>\n",
       "      <td>NaN</td>\n",
       "      <td>NaN</td>\n",
       "      <td>NaN</td>\n",
       "      <td>NaN</td>\n",
       "      <td>NaN</td>\n",
       "      <td>NaN</td>\n",
       "      <td>NaN</td>\n",
       "      <td>NaN</td>\n",
       "      <td>NaN</td>\n",
       "      <td>NaN</td>\n",
       "    </tr>\n",
       "    <tr>\n",
       "      <th>1</th>\n",
       "      <td>2018-05-18 00:11:27</td>\n",
       "      <td>viewed product</td>\n",
       "      <td>ad93850f</td>\n",
       "      <td>NaN</td>\n",
       "      <td>304.0</td>\n",
       "      <td>iPhone 5s</td>\n",
       "      <td>Muito Bom</td>\n",
       "      <td>32GB</td>\n",
       "      <td>Cinza espacial</td>\n",
       "      <td>NaN</td>\n",
       "      <td>NaN</td>\n",
       "      <td>NaN</td>\n",
       "      <td>NaN</td>\n",
       "      <td>NaN</td>\n",
       "      <td>NaN</td>\n",
       "      <td>NaN</td>\n",
       "      <td>NaN</td>\n",
       "      <td>NaN</td>\n",
       "      <td>NaN</td>\n",
       "      <td>NaN</td>\n",
       "      <td>NaN</td>\n",
       "      <td>NaN</td>\n",
       "      <td>NaN</td>\n",
       "    </tr>\n",
       "    <tr>\n",
       "      <th>2</th>\n",
       "      <td>2018-05-18 00:11:16</td>\n",
       "      <td>viewed product</td>\n",
       "      <td>0297fc1e</td>\n",
       "      <td>NaN</td>\n",
       "      <td>6888.0</td>\n",
       "      <td>iPhone 6S</td>\n",
       "      <td>Muito Bom</td>\n",
       "      <td>64GB</td>\n",
       "      <td>Prateado</td>\n",
       "      <td>NaN</td>\n",
       "      <td>NaN</td>\n",
       "      <td>NaN</td>\n",
       "      <td>NaN</td>\n",
       "      <td>NaN</td>\n",
       "      <td>NaN</td>\n",
       "      <td>NaN</td>\n",
       "      <td>NaN</td>\n",
       "      <td>NaN</td>\n",
       "      <td>NaN</td>\n",
       "      <td>NaN</td>\n",
       "      <td>NaN</td>\n",
       "      <td>NaN</td>\n",
       "      <td>NaN</td>\n",
       "    </tr>\n",
       "    <tr>\n",
       "      <th>3</th>\n",
       "      <td>2018-05-18 00:11:14</td>\n",
       "      <td>viewed product</td>\n",
       "      <td>2d681dd8</td>\n",
       "      <td>NaN</td>\n",
       "      <td>11890.0</td>\n",
       "      <td>iPhone 7</td>\n",
       "      <td>Bom</td>\n",
       "      <td>128GB</td>\n",
       "      <td>Vermelho</td>\n",
       "      <td>NaN</td>\n",
       "      <td>NaN</td>\n",
       "      <td>NaN</td>\n",
       "      <td>NaN</td>\n",
       "      <td>NaN</td>\n",
       "      <td>NaN</td>\n",
       "      <td>NaN</td>\n",
       "      <td>NaN</td>\n",
       "      <td>NaN</td>\n",
       "      <td>NaN</td>\n",
       "      <td>NaN</td>\n",
       "      <td>NaN</td>\n",
       "      <td>NaN</td>\n",
       "      <td>NaN</td>\n",
       "    </tr>\n",
       "    <tr>\n",
       "      <th>4</th>\n",
       "      <td>2018-05-18 00:11:09</td>\n",
       "      <td>viewed product</td>\n",
       "      <td>cccea85e</td>\n",
       "      <td>NaN</td>\n",
       "      <td>7517.0</td>\n",
       "      <td>LG G4 H818P</td>\n",
       "      <td>Excelente</td>\n",
       "      <td>32GB</td>\n",
       "      <td>Branco</td>\n",
       "      <td>NaN</td>\n",
       "      <td>NaN</td>\n",
       "      <td>NaN</td>\n",
       "      <td>NaN</td>\n",
       "      <td>NaN</td>\n",
       "      <td>NaN</td>\n",
       "      <td>NaN</td>\n",
       "      <td>NaN</td>\n",
       "      <td>NaN</td>\n",
       "      <td>NaN</td>\n",
       "      <td>NaN</td>\n",
       "      <td>NaN</td>\n",
       "      <td>NaN</td>\n",
       "      <td>NaN</td>\n",
       "    </tr>\n",
       "  </tbody>\n",
       "</table>\n",
       "</div>"
      ],
      "text/plain": [
       "             timestamp           event    person  url      sku  \\\n",
       "0  2018-05-18 00:11:59  viewed product  4886f805  NaN   9288.0   \n",
       "1  2018-05-18 00:11:27  viewed product  ad93850f  NaN    304.0   \n",
       "2  2018-05-18 00:11:16  viewed product  0297fc1e  NaN   6888.0   \n",
       "3  2018-05-18 00:11:14  viewed product  2d681dd8  NaN  11890.0   \n",
       "4  2018-05-18 00:11:09  viewed product  cccea85e  NaN   7517.0   \n",
       "\n",
       "                     model  condition storage           color skus  \\\n",
       "0  Samsung Galaxy J7 Prime  Excelente    32GB         Dourado  NaN   \n",
       "1                iPhone 5s  Muito Bom    32GB  Cinza espacial  NaN   \n",
       "2                iPhone 6S  Muito Bom    64GB        Prateado  NaN   \n",
       "3                 iPhone 7        Bom   128GB        Vermelho  NaN   \n",
       "4              LG G4 H818P  Excelente    32GB          Branco  NaN   \n",
       "\n",
       "  search_term staticpage campaign_source search_engine channel  \\\n",
       "0         NaN        NaN             NaN           NaN     NaN   \n",
       "1         NaN        NaN             NaN           NaN     NaN   \n",
       "2         NaN        NaN             NaN           NaN     NaN   \n",
       "3         NaN        NaN             NaN           NaN     NaN   \n",
       "4         NaN        NaN             NaN           NaN     NaN   \n",
       "\n",
       "  new_vs_returning city region country device_type screen_resolution  \\\n",
       "0              NaN  NaN    NaN     NaN         NaN               NaN   \n",
       "1              NaN  NaN    NaN     NaN         NaN               NaN   \n",
       "2              NaN  NaN    NaN     NaN         NaN               NaN   \n",
       "3              NaN  NaN    NaN     NaN         NaN               NaN   \n",
       "4              NaN  NaN    NaN     NaN         NaN               NaN   \n",
       "\n",
       "  operating_system_version browser_version  \n",
       "0                      NaN             NaN  \n",
       "1                      NaN             NaN  \n",
       "2                      NaN             NaN  \n",
       "3                      NaN             NaN  \n",
       "4                      NaN             NaN  "
      ]
     },
     "execution_count": 58,
     "metadata": {},
     "output_type": "execute_result"
    }
   ],
   "source": [
    "eventos.head()"
   ]
  },
  {
   "cell_type": "markdown",
   "metadata": {},
   "source": [
    "### =======================================================================\n",
    "### ARMADO DE FEATURES.\n",
    "### =======================================================================\\"
   ]
  },
  {
   "cell_type": "code",
   "execution_count": 59,
   "metadata": {},
   "outputs": [],
   "source": [
    "## PASAMOS LAS COLUMNAS QUE TIENEN UNA CANTIDAD DE VALORES LIMITADA A UN TIPO CATEGORY\n",
    "eventos['event'] = eventos['event'].astype('category')\n",
    "eventos['search_engine'] = eventos['search_engine'].astype('category')\n",
    "eventos['channel'] = eventos['channel'].astype('category')\n",
    "eventos['new_vs_returning'] = eventos['new_vs_returning'].astype('category')\n",
    "eventos['device_type'] = eventos['device_type'].astype('category')\n",
    "eventos['color'] = eventos['color'].astype('category')\n",
    "eventos['region'] = eventos['region'].astype('category')\n",
    "#eventos['city'] = eventos['city'].astype('category')\n",
    "#eventos['browser_version'] = eventos['browser_version'].astype('category')\n",
    "eventos['screen_resolution'] = eventos['screen_resolution'].astype('category')\n",
    "eventos['timestamp'] = pd.to_datetime(eventos['timestamp'], infer_datetime_format=True)"
   ]
  },
  {
   "cell_type": "code",
   "execution_count": 60,
   "metadata": {},
   "outputs": [],
   "source": [
    "## ORDENAMOS LOS DATOS ṔOR PERSONAS EN PRIMER LUGAR Y TIEMPO EN SEGUNDO.\n",
    "#eventos.sort_values(['person', 'timestamp'], ascending=[True, True], inplace=True)"
   ]
  },
  {
   "cell_type": "code",
   "execution_count": 61,
   "metadata": {},
   "outputs": [],
   "source": [
    "## DIFERENCIAMOS EN TRES COLUMNAS DIFERENTES EL DIA, MES Y AÑO.\n",
    "eventos['mes'] = eventos['timestamp'].dt.month\n",
    "eventos['dia'] = eventos['timestamp'].dt.day\n",
    "eventos['hora'] = eventos['timestamp'].dt.hour"
   ]
  },
  {
   "cell_type": "code",
   "execution_count": 62,
   "metadata": {},
   "outputs": [],
   "source": [
    "## ARMAMOS UNA COLUMNA PARA EL DÍA DE LA SEMANA COMO NOMBRE.\n",
    "eventos['diasemana'] = eventos['timestamp'].dt.weekday_name\n",
    "## PONEMOS LOS NOMBRES DE MANERA MÁS PROLIJA PARA LOS GRÁFICOS.\n",
    "eventos.loc[eventos.diasemana.str.contains('Monday', na=False), 'diasemana'] = 'lunes'\n",
    "eventos.loc[eventos.diasemana.str.contains('Tuesday', na=False), 'diasemana'] = 'martes'\n",
    "eventos.loc[eventos.diasemana.str.contains('Wednesday', na=False), 'diasemana'] = 'miercoles'\n",
    "eventos.loc[eventos.diasemana.str.contains('Thursday', na=False), 'diasemana'] = 'jueves'\n",
    "eventos.loc[eventos.diasemana.str.contains('Friday', na=False), 'diasemana'] = 'viernes'\n",
    "eventos.loc[eventos.diasemana.str.contains('Saturday', na=False), 'diasemana'] = 'sabado'\n",
    "eventos.loc[eventos.diasemana.str.contains('Sunday', na=False), 'diasemana'] = 'domingo'"
   ]
  },
  {
   "cell_type": "code",
   "execution_count": 63,
   "metadata": {},
   "outputs": [],
   "source": [
    "# AGREGAMOS UNA COLUMNA PARA INDICAR SI EL EVENTO OCURRIO UN FIN DE SEMANA\n",
    "eventos['evento_en_finde'] = 0\n",
    "eventos.loc[(eventos.diasemana.str.contains('DOM', na=False) | eventos.diasemana.str.contains('SAB', na=False)), 'evento_en_finde'] = 1"
   ]
  },
  {
   "cell_type": "code",
   "execution_count": 64,
   "metadata": {},
   "outputs": [],
   "source": [
    "# DEFINIMOS EL MES COMO NOMBRE PARA FACILITAR LAS COLUMNAS\n",
    "eventos['mesMayus'] = ''\n",
    "eventos.loc[eventos.mes == 1, 'mesMayus'] = 'enero'\n",
    "eventos.loc[eventos.mes == 2, 'mesMayus'] = 'febrero'\n",
    "eventos.loc[eventos.mes == 3, 'mesMayus'] = 'marzo'\n",
    "eventos.loc[eventos.mes == 4, 'mesMayus'] = 'abril'\n",
    "eventos.loc[eventos.mes == 5, 'mesMayus'] = 'mayo'\n",
    "eventos.loc[eventos.mes == 6, 'mesMayus'] = 'junio'\n",
    "eventos.loc[eventos.mes == 7, 'mesMayus'] = 'julio'\n",
    "eventos.loc[eventos.mes == 8, 'mesMayus'] = 'agosto'\n",
    "eventos.loc[eventos.mes == 9, 'mesMayus'] = 'septiembre'\n",
    "eventos.loc[eventos.mes == 10, 'mesMayus'] = 'octubre'\n",
    "eventos.loc[eventos.mes == 11, 'mesMayus'] = 'noviembre'\n",
    "eventos.loc[eventos.mes == 12, 'mesMayus'] = 'diciembre'"
   ]
  },
  {
   "cell_type": "code",
   "execution_count": 65,
   "metadata": {},
   "outputs": [],
   "source": [
    "# ARMAMOS UNA LÓGICA PARA SEGMENTAR LAS FRANJAS HORARIAS.\n",
    "# MADRUGADA de 00 a 06\n",
    "eventos['hora_madrugada'] = 0\n",
    "eventos.loc[((eventos.hora > -1) & (eventos.hora < 7)), 'hora_madrugada'] = 1\n",
    "# MAÑANA de 07 a 11\n",
    "eventos['hora_maniana'] = 0\n",
    "eventos.loc[((eventos.hora > 6) & (eventos.hora < 12)), 'hora_maniana'] = 1\n",
    "# ALMUERZO de 12 a 13\n",
    "eventos['hora_almuerzo'] = 0\n",
    "eventos.loc[((eventos.hora > 11) & (eventos.hora < 14)), 'hora_almuerzo'] = 1\n",
    "# TARDE de 14 a 18\n",
    "eventos['hora_tarde'] = 0\n",
    "eventos.loc[((eventos.hora > 13) & (eventos.hora < 19)), 'hora_tarde'] = 1\n",
    "# NOCHE de 19 a 23\n",
    "eventos['hora_noche'] = 0\n",
    "eventos.loc[((eventos.hora > 18) & (eventos.hora < 24)), 'hora_noche'] = 1\n",
    "# TRANSFORMAMOS EN CATEGÓRICAS EL DÍA DE LA SEMANA Y EL MES.\n",
    "eventos['diasemana'] = eventos['diasemana'].astype('category')\n",
    "eventos['mesMayus'] = eventos['mesMayus'].astype('category')"
   ]
  },
  {
   "cell_type": "code",
   "execution_count": 66,
   "metadata": {},
   "outputs": [],
   "source": [
    "## CREAMOS UNA COLUMNA CON CONTENIDO VACIO.\n",
    "eventos['sistema'] = 'OtrosSistemas'\n",
    "## SEGÚN QUE FAMILIA DE SO POSEA ACTUALIZAMOS NUESTRA NUEVA COLUMNA.\n",
    "eventos.loc[eventos.operating_system_version.str.contains('Mac', na=False), 'sistema'] = 'MacOS'\n",
    "eventos.loc[eventos.operating_system_version.str.contains('iOS', na=False), 'sistema'] = 'iOS'\n",
    "eventos.loc[eventos.operating_system_version.str.contains('Chrome', na=False), 'sistema'] = 'ChromeOS'\n",
    "eventos.loc[eventos.operating_system_version.str.contains('Tizen', na=False), 'sistema'] = 'Tizen'\n",
    "eventos.loc[eventos.operating_system_version.str.contains('Android', na=False), 'sistema'] = 'Android'\n",
    "eventos.loc[eventos.operating_system_version.str.contains('Windows Phone', na=False), 'sistema'] = 'Windows Phone'\n",
    "eventos.loc[eventos.operating_system_version.str.contains('Ubuntu', na=False), 'sistema'] = 'Ubuntu'\n",
    "eventos.loc[eventos.operating_system_version.str.contains('Linux', na=False), 'sistema'] = 'Linux'\n",
    "## CASO PARTICULAR, WINDOWS Y WINDOWS PHONE COMPARTEN LA PALABRA.\n",
    "eventos.loc[(eventos.operating_system_version.str.contains('Windows', na=False) & ~eventos.operating_system_version.str.contains('Phone', na=False)), 'sistema'] = 'Windows'\n",
    "## AHORA SI PASAMOS LA COLUMNA DE SISTEMAS OPERATIVOS A UN ENUMERATIVO.\n",
    "eventos['operating_system_version'] = eventos['operating_system_version'].astype('category')\n",
    "eventos['sistema'] = eventos['sistema'].astype('category')"
   ]
  },
  {
   "cell_type": "code",
   "execution_count": null,
   "metadata": {},
   "outputs": [],
   "source": []
  },
  {
   "cell_type": "code",
   "execution_count": 67,
   "metadata": {},
   "outputs": [],
   "source": [
    "## AGREGAMOS UNA COLUMNA PARA DIFERENCIAR LAS MARCAS.\n",
    "eventos['marca'] = 'OtrasMarcas'\n",
    "## VAMOS OBTENIENDO LAS MARCAS SEGÚN LAS PALABRAS CLAVES QUE LAS CONFORMAN.\n",
    "eventos.loc[eventos.model.str.contains('Samsung', na=False), 'marca'] = 'Samsung'\n",
    "eventos.loc[eventos.model.str.contains('Motorola', na=False), 'marca'] = 'Motorola'\n",
    "eventos.loc[eventos.model.str.contains('Sony', na=False), 'marca'] = 'Sony'\n",
    "eventos.loc[eventos.model.str.contains('LG ', na=False), 'marca'] = 'LG'\n",
    "eventos.loc[eventos.model.str.contains('iPad', na=False), 'marca'] = 'iPad'\n",
    "eventos.loc[eventos.model.str.contains('Asus', na=False), 'marca'] = 'Asus'\n",
    "eventos.loc[eventos.model.str.contains('iPhone', na=False), 'marca'] = 'iPhone'\n",
    "eventos.loc[eventos.model.str.contains('Quantum', na=False), 'marca'] = 'Quantum'\n",
    "eventos.loc[eventos.model.str.contains('Lenovo', na=False), 'marca'] = 'Lenovo'\n",
    "## AHORA SI PASAMOS LA COLUMNA DE MODELOS A UN ENUMERATIVO.\n",
    "eventos['model'] = eventos['model'].astype('category')\n",
    "eventos['marca'] = eventos['marca'].astype('category')"
   ]
  },
  {
   "cell_type": "code",
   "execution_count": 68,
   "metadata": {},
   "outputs": [],
   "source": [
    "# AGREGAMOS UNA COLUMNA PARA DIFERENCIAR BRASIL DEL RESTO.\n",
    "eventos['pais'] = 'OtrosPaises'\n",
    "eventos.loc[eventos.country.str.contains('Brazil', na=False), 'pais'] = 'Brasil'\n",
    "## AHORA SI PASAMOS LA COLUMNA DE PAISES A UN ENUMERATIVO.\n",
    "eventos['pais'] = eventos['pais'].astype('category')\n",
    "eventos['country'] = eventos['country'].astype('category')\n",
    "#eventos['pais'] = 'OtrosPaises'\n",
    "#paisesMasPopulares = eventos['country'].value_counts().to_frame().reset_index().head()['index']\n",
    "#eventos.loc[eventos['country'].isin(paisesMasPopulares), 'pais'] = eventos['country']\n",
    "#eventos['pais'] = eventos['pais'].astype('category')\n",
    "#eventos['pais'].value_counts()"
   ]
  },
  {
   "cell_type": "code",
   "execution_count": 69,
   "metadata": {},
   "outputs": [],
   "source": [
    "## COLUMNA DE CIUDAD\n",
    "eventos['ciudad'] = 'OtraCiudad'\n",
    "ciudadesMasPopulares = eventos['city'].value_counts().to_frame().reset_index().head(200)['index']\n",
    "eventos.loc[eventos['city'].isin(ciudadesMasPopulares), 'ciudad'] = eventos['city']\n",
    "eventos['ciudad'] = eventos['ciudad'].astype('category')"
   ]
  },
  {
   "cell_type": "code",
   "execution_count": 70,
   "metadata": {},
   "outputs": [],
   "source": [
    "## COLUMNA DE NAVEGADOR\n",
    "# eventos['navegador'] = 'OtroNavegador'\n",
    "# navegadoresMasPopulares = eventos['browser_version'].value_counts().to_frame().reset_index().head(50)['index']\n",
    "# eventos.loc[eventos['browser_version'].isin(navegadoresMasPopulares), 'navegador'] = eventos['browser_version']\n",
    "# eventos['navegador'] = eventos['navegador'].astype('category')\n",
    "eventos['navegador'] = 'OtroNavegador'\n",
    "eventos.loc[(eventos.browser_version.str.contains('Chrome', na=False) & ~eventos.browser_version.str.contains('Mobile', na=False)), 'navegador'] = 'Chrome'\n",
    "eventos.loc[(eventos.browser_version.str.contains('Chrome', na=False) & eventos.browser_version.str.contains('Mobile', na=False)), 'navegador'] = 'Chrome Mobile'\n",
    "eventos.loc[eventos.browser_version.str.contains('Edge', na=False), 'navegador'] = 'Edge'\n",
    "eventos.loc[eventos.browser_version.str.contains('Facebook', na=False), 'navegador'] = 'Facebook'\n",
    "eventos.loc[eventos.browser_version.str.contains('Firefox ', na=False), 'navegador'] = 'Firefox'\n",
    "eventos.loc[eventos.browser_version.str.contains('Opera', na=False), 'navegador'] = 'Opera'\n",
    "eventos.loc[(eventos.browser_version.str.contains('Safari', na=False) & ~eventos.browser_version.str.contains('Mobile', na=False)), 'navegador'] = 'Safari'\n",
    "eventos.loc[(eventos.browser_version.str.contains('Safari', na=False) & eventos.browser_version.str.contains('Mobile', na=False)), 'navegador'] = 'Safari Mobile'\n",
    "eventos['navegador'] = eventos['navegador'].astype('category')"
   ]
  },
  {
   "cell_type": "code",
   "execution_count": 71,
   "metadata": {},
   "outputs": [],
   "source": [
    "eventos['Capacidad_en_GB'] = 0\n",
    "eventos.loc[eventos.storage.str.contains('16GB', na=False), 'Capacidad_en_GB'] = 16\n",
    "eventos.loc[eventos.storage.str.contains('32GB', na=False), 'Capacidad_en_GB'] = 32\n",
    "eventos.loc[eventos.storage.str.contains('64GB', na=False), 'Capacidad_en_GB'] = 64\n",
    "eventos.loc[eventos.storage.str.contains('128GB', na=False), 'Capacidad_en_GB'] = 128\n",
    "eventos.loc[eventos.storage.str.contains('8GB', na=False), 'Capacidad_en_GB'] = 8\n",
    "eventos.loc[eventos.storage.str.contains('256GB', na=False), 'Capacidad_en_GB'] = 256\n",
    "eventos.loc[eventos.storage.str.contains('4GB', na=False), 'Capacidad_en_GB'] = 4\n",
    "eventos.loc[eventos.storage.str.contains('512MB', na=False), 'Capacidad_en_GB'] = 0.512\n",
    "eventos['storage'] = eventos['storage'].astype('category')"
   ]
  },
  {
   "cell_type": "code",
   "execution_count": 72,
   "metadata": {},
   "outputs": [],
   "source": [
    "## CREAMOS UNA COLUMNA PARA DIFERENCIAR LA CONDICION.\n",
    "eventos['Puntaje'] = 0\n",
    "## ABSTRAEMOS SOLO AQUELLOS QUE TIENEN UNA CONDICIÓN ASOCIADA Y LO PASAMOS A NUESTRO IDIOMA.\n",
    "eventos.loc[eventos.condition.str.contains('Excelente', na=False), 'Puntaje'] = 4\n",
    "eventos.loc[eventos.condition.str.contains('Muito Bom', na=False), 'Puntaje'] = 3\n",
    "eventos.loc[eventos.condition.str.contains('Novo', na=False), 'Puntaje'] = 5\n",
    "## SOLO NOS QUEDAN DOS TIPOS DE EVENTOS QUE SON REFERENCIA A LOS 'BUENOS'\n",
    "eventos.loc[eventos.Puntaje == 0, 'Puntaje'] = 2\n",
    "eventos['condition'] = eventos['condition'].astype('category')"
   ]
  },
  {
   "cell_type": "code",
   "execution_count": 73,
   "metadata": {},
   "outputs": [],
   "source": [
    "# COMO TENEMOS UN EVENTO CON EL MISMO NOMBRE SE GENERA CONFLICTOS, \n",
    "# ERGO LE MODIFICAMOS EL NOMBRE PARA NO TENER DOS COLUMNAS CON = NOMBRE Y DISTINTO TIPO.\n",
    "eventos.rename(columns={'staticpage': 'Genstatpage'}, inplace=True)\n",
    "aux = eventos\n"
   ]
  },
  {
   "cell_type": "code",
   "execution_count": 112,
   "metadata": {},
   "outputs": [],
   "source": [
    "eventos = aux"
   ]
  },
  {
   "cell_type": "code",
   "execution_count": 113,
   "metadata": {
    "scrolled": true
   },
   "outputs": [],
   "source": [
    "# COLUMNAS DONDE POR CADA REGISTRO SABEMOS QUE TENEMOS UN VALOR (SIEMPRE PRESENTES)\n",
    "##################### DIA DE SEMANA\n",
    "#dummies = pd.get_dummies(eventos['diasemana'], drop_first=False)\n",
    "#eventos = pd.concat([eventos, dummies], axis=1)\n",
    "##################### MES\n",
    "dummies = pd.get_dummies(eventos['mesMayus'], drop_first=False)\n",
    "eventos = pd.concat([eventos, dummies], axis=1)\n",
    "##################### TIPOS DE EVENTOS\n",
    "dummies = pd.get_dummies(eventos['event'], drop_first=False)\n",
    "eventos = pd.concat([eventos, dummies], axis=1)\n",
    "##################### ALMACENAMIENTO\n",
    "#dummies = pd.get_dummies(eventos['storage'], drop_first=False)\n",
    "#eventos = pd.concat([eventos, dummies], axis=1)\n",
    "##################### CONDICION DEL DISPOSITIVO\n",
    "#dummies = pd.get_dummies(eventos['condition'], drop_first=False)\n",
    "#eventos = pd.concat([eventos, dummies], axis=1)\n",
    "##################### USUARIO NUEVO O NO\n",
    "dummies = pd.get_dummies(eventos['new_vs_returning'], drop_first=False)\n",
    "eventos = pd.concat([eventos, dummies], axis=1)\n",
    "##################### SISTEMA OPERATIVO\n",
    "dummies = pd.get_dummies(eventos['sistema'], drop_first=False)\n",
    "eventos = pd.concat([eventos, dummies], axis=1)\n",
    "##################### MARCA\n",
    "dummies = pd.get_dummies(eventos['marca'], drop_first=False)\n",
    "eventos = pd.concat([eventos, dummies], axis=1)\n",
    "##################### PAIS DE EVENTO\n",
    "#dummies = pd.get_dummies(eventos['pais'], drop_first=False)\n",
    "#eventos = pd.concat([eventos, dummies], axis=1)\n",
    "#eventos.rename(columns={'Unknown': 'Unknown_country'}, inplace=True)\n",
    "##################### TIPO DE DISPOSITIVO\n",
    "dummies = pd.get_dummies(eventos['device_type'], drop_first=False)\n",
    "eventos = pd.concat([eventos, dummies], axis=1)\n",
    "eventos.rename(columns={'Unknown': 'Unknown_device_type'}, inplace=True)\n",
    "##################### CIUDAD\n",
    "#dummies = pd.get_dummies(eventos['ciudad'], drop_first=False)\n",
    "#eventos = pd.concat([eventos, dummies], axis=1)\n",
    "#eventos.drop(['Unknown'], axis=1)\n",
    "##################### NAVEGADOR\n",
    "dummies = pd.get_dummies(eventos['navegador'], drop_first=False)\n",
    "eventos = pd.concat([eventos, dummies], axis=1)\n",
    "#####################\n"
   ]
  },
  {
   "cell_type": "code",
   "execution_count": 114,
   "metadata": {},
   "outputs": [],
   "source": [
    "eventos.rename(columns={'generic listing': 'geneList', 'staticpage': 'statpage', 'Unknown': 'Unknown_city', 'staticpage': 'SP'}, inplace=True)"
   ]
  },
  {
   "cell_type": "code",
   "execution_count": 115,
   "metadata": {},
   "outputs": [
    {
     "data": {
      "text/plain": [
       "OtroNavegador    2145472\n",
       "Chrome             87918\n",
       "Chrome Mobile      85915\n",
       "Safari Mobile       7730\n",
       "Firefox             7004\n",
       "Facebook            3064\n",
       "Edge                2752\n",
       "Opera               1600\n",
       "Safari               226\n",
       "Name: navegador, dtype: int64"
      ]
     },
     "execution_count": 115,
     "metadata": {},
     "output_type": "execute_result"
    }
   ],
   "source": [
    "eventos['navegador'].value_counts()"
   ]
  },
  {
   "cell_type": "code",
   "execution_count": 116,
   "metadata": {},
   "outputs": [],
   "source": [
    "columnas_relevantes = list(eventos.select_dtypes(include=['int','float64','uint8']).columns)\n",
    "\n",
    "columnas_relevantes.remove('sku')\n",
    "columnas_relevantes.append('person')\n",
    "eventos_filtrados = eventos.loc[:, eventos.columns.isin(columnas_relevantes)]\n",
    "columnas_relevantes.remove('person')\n",
    "\n",
    "eventos_por_usuario = eventos_filtrados.groupby('person')[columnas_relevantes].sum().astype(np.float16).reset_index()\n"
   ]
  },
  {
   "cell_type": "code",
   "execution_count": 117,
   "metadata": {},
   "outputs": [
    {
     "data": {
      "text/plain": [
       "['Capacidad_en_GB',\n",
       " 'abril',\n",
       " 'enero',\n",
       " 'febrero',\n",
       " 'marzo',\n",
       " 'mayo',\n",
       " 'ad campaign hit',\n",
       " 'brand listing',\n",
       " 'checkout',\n",
       " 'conversion',\n",
       " 'geneList',\n",
       " 'lead',\n",
       " 'search engine hit',\n",
       " 'searched products',\n",
       " 'SP',\n",
       " 'viewed product',\n",
       " 'visited site',\n",
       " 'New',\n",
       " 'Returning',\n",
       " 'Android',\n",
       " 'ChromeOS',\n",
       " 'Linux',\n",
       " 'MacOS',\n",
       " 'OtrosSistemas',\n",
       " 'Tizen',\n",
       " 'Ubuntu',\n",
       " 'Windows',\n",
       " 'Windows Phone',\n",
       " 'iOS',\n",
       " 'Asus',\n",
       " 'LG',\n",
       " 'Lenovo',\n",
       " 'Motorola',\n",
       " 'OtrasMarcas',\n",
       " 'Quantum',\n",
       " 'Samsung',\n",
       " 'Sony',\n",
       " 'iPad',\n",
       " 'iPhone',\n",
       " 'Computer',\n",
       " 'Smartphone',\n",
       " 'Tablet',\n",
       " 'Unknown_device_type',\n",
       " 'Chrome',\n",
       " 'Chrome Mobile',\n",
       " 'Edge',\n",
       " 'Facebook',\n",
       " 'Firefox',\n",
       " 'Opera',\n",
       " 'OtroNavegador',\n",
       " 'Safari',\n",
       " 'Safari Mobile']"
      ]
     },
     "execution_count": 117,
     "metadata": {},
     "output_type": "execute_result"
    }
   ],
   "source": [
    "columnas_relevantes"
   ]
  },
  {
   "cell_type": "code",
   "execution_count": 118,
   "metadata": {},
   "outputs": [],
   "source": [
    "columnas_relevantes.remove('Capacidad_en_GB')"
   ]
  },
  {
   "cell_type": "markdown",
   "metadata": {},
   "source": [
    "### =======================================================================\n",
    "### ENTRENAMIENTO Y PREDICCIÓN.\n",
    "### ======================================================================="
   ]
  },
  {
   "cell_type": "code",
   "execution_count": 119,
   "metadata": {},
   "outputs": [],
   "source": [
    "## OBTENEMOS TODA LA INFORMACIÓN DEL SET DE ENTRENAMIENTO.\n",
    "y_train = pd.read_csv('labels_training_set.csv', encoding = 'utf-8')\n",
    "test_users = pd.read_csv('trocafone_kaggle_test.csv', encoding = 'utf-8')"
   ]
  },
  {
   "cell_type": "code",
   "execution_count": 120,
   "metadata": {},
   "outputs": [],
   "source": [
    "## Filtramos los eventos para los usuarios que se encuentran en el set de entrenamiento\n",
    "train = pd.merge(eventos_por_usuario, y_train, on='person', how='inner')\n",
    "test = pd.merge(eventos_por_usuario, test_users)"
   ]
  },
  {
   "cell_type": "code",
   "execution_count": 121,
   "metadata": {},
   "outputs": [],
   "source": [
    "features = list(columnas_relevantes)\n",
    "x = train[features]\n",
    "y = train['label']"
   ]
  },
  {
   "cell_type": "code",
   "execution_count": 122,
   "metadata": {},
   "outputs": [],
   "source": [
    "xtrain, xtest, ytrain, ytest = train_test_split(x, y, random_state = 1)"
   ]
  },
  {
   "cell_type": "code",
   "execution_count": null,
   "metadata": {},
   "outputs": [],
   "source": []
  },
  {
   "cell_type": "code",
   "execution_count": 123,
   "metadata": {},
   "outputs": [
    {
     "name": "stdout",
     "output_type": "stream",
     "text": [
      "estimators:190 depth:3 - 0.8724618977878091\n",
      "estimators:195 depth:3 - 0.8722628746966683\n",
      "estimators:200 depth:3 - 0.8724984894772119\n",
      "estimators:205 depth:3 - 0.8725435597287932\n"
     ]
    }
   ],
   "source": [
    "for estimators in range(190, 210, 5):\n",
    "    xgboost = xgb.XGBClassifier(n_estimators=estimators, max_depth=3, learning_rate=0.05)\n",
    "    xgboost.fit(xtrain, ytrain)\n",
    "    y_pred_rf = xgboost.predict_proba(xtest)[:,1]\n",
    "    print('estimators:' + str(estimators) + ' depth:' + str(3) + ' - ' + str(metrics.roc_auc_score(ytest, y_pred_rf)))"
   ]
  },
  {
   "cell_type": "markdown",
   "metadata": {},
   "source": [
    "learning_rate=0.04\n",
    "estimators:197 depth:3 - 0.8753124796402947\n",
    "estimators:198 depth:3 - 0.8752196616964443\n",
    "estimators:199 depth:3 - 0.8752205541766737\n",
    "estimators:200 depth:3 - 0.875216091775527\n",
    "estimators:201 depth:3 - 0.8752196616964443\n",
    "estimators:202 depth:3 - 0.8753098021996067\n"
   ]
  },
  {
   "cell_type": "code",
   "execution_count": 124,
   "metadata": {},
   "outputs": [],
   "source": [
    "xgboost = xgb.XGBClassifier(n_estimators=200, learning_rate=0.05)\n",
    "xgboost.fit(x, y)\n",
    "y_pred_rf = xgboost.predict_proba(test[features])[:,1]"
   ]
  },
  {
   "cell_type": "code",
   "execution_count": 125,
   "metadata": {},
   "outputs": [],
   "source": [
    "## =================================================================================================\n",
    "## ARMAMOS EN BASE A LA PREDICCIÓN QUE TENEMOS UN CSV PARA SUBIR A KAGGLE CON EL FORMATO INDICADO.\n",
    "## =================================================================================================\n",
    "submission = pd.DataFrame({ 'label': y_pred_rf, 'person': test['person'] })\n",
    "submission.to_csv(\"submission_grupo17_XGB.csv\", index=False)"
   ]
  },
  {
   "cell_type": "code",
   "execution_count": 126,
   "metadata": {},
   "outputs": [],
   "source": [
    "## SE AGREGÓ EL FEATURE QUE ENGLOBA LOS SISTEMAS OPERATIVOS MÁS COMUNES UTILIZADOS O BUSCADOS POR LOS USUARIOS:\n",
    "## PREVIAMENTE TENÍAMOS: 0.84077\n",
    "## RESULTADO DEL SUBMIT: 0.85216 >> VEMOS UNA MEJORA."
   ]
  },
  {
   "cell_type": "code",
   "execution_count": 127,
   "metadata": {},
   "outputs": [],
   "source": [
    "## SE AGREGÓ EL FEATURE QUE ENGLOBA LOS MODELOS MÁS COMUNES UTILIZADOS O BUSCADOS POR LOS USUARIOS:\n",
    "## PREVIAMENTE TENÍAMOS: 0.85216\n",
    "## RESULTADO DEL SUBMIT:0.85294 >> VEMOS UNA MEJORA."
   ]
  },
  {
   "cell_type": "code",
   "execution_count": 128,
   "metadata": {},
   "outputs": [],
   "source": [
    "## SE AGREGÓ UN PAR DE FEATURES (pais, device_type, Capacidad_en_GB, Puntaje):\n",
    "## PREVIAMENTE TENÍAMOS: 0.85294\n",
    "## RESULTADO DEL SUBMIT: 0.85524 >> VEMOS UNA MEJORA."
   ]
  },
  {
   "cell_type": "code",
   "execution_count": 129,
   "metadata": {},
   "outputs": [],
   "source": [
    "## AHORA LO QUE SE BUSCA ES HACER EL PROMEDIO EN LUGAR DE LA SUMA:\n",
    "## PREVIAMENTE TENÍAMOS: 0.85524\n",
    "## RESULTADO DEL SUBMIT: 0.85519 >> CON LO CUAL EMPEORA.\n",
    "\n",
    "## Tocando los hiperparametros >> 0.85546"
   ]
  },
  {
   "cell_type": "code",
   "execution_count": 130,
   "metadata": {},
   "outputs": [],
   "source": [
    "## AGREGAMOS LAS CIUDADES CON MAS EVENTOS\n",
    "## PREVIAMENTE TENÍAMOS: 0.85546\n",
    "## RESULTADO DEL SUBMIT: 0.85438 >> CON LO CUAL EMPEORA."
   ]
  },
  {
   "cell_type": "code",
   "execution_count": null,
   "metadata": {},
   "outputs": [],
   "source": []
  },
  {
   "cell_type": "code",
   "execution_count": null,
   "metadata": {},
   "outputs": [],
   "source": []
  }
 ],
 "metadata": {
  "kernelspec": {
   "display_name": "Python 2",
   "language": "python",
   "name": "python2"
  },
  "language_info": {
   "codemirror_mode": {
    "name": "ipython",
    "version": 2
   },
   "file_extension": ".py",
   "mimetype": "text/x-python",
   "name": "python",
   "nbconvert_exporter": "python",
   "pygments_lexer": "ipython2",
   "version": "2.7.14"
  }
 },
 "nbformat": 4,
 "nbformat_minor": 2
}
